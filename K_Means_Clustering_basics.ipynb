{
  "nbformat": 4,
  "nbformat_minor": 0,
  "metadata": {
    "colab": {
      "provenance": [],
      "authorship_tag": "ABX9TyO8K2Nb5/VyZa51YrzMt8Uk",
      "include_colab_link": true
    },
    "kernelspec": {
      "name": "python3",
      "display_name": "Python 3"
    },
    "language_info": {
      "name": "python"
    }
  },
  "cells": [
    {
      "cell_type": "markdown",
      "metadata": {
        "id": "view-in-github",
        "colab_type": "text"
      },
      "source": [
        "<a href=\"https://colab.research.google.com/github/Ricardo-Jaramillo/PySpark/blob/main/K_Means_Clustering_basics.ipynb\" target=\"_parent\"><img src=\"https://colab.research.google.com/assets/colab-badge.svg\" alt=\"Open In Colab\"/></a>"
      ]
    },
    {
      "cell_type": "markdown",
      "source": [
        "# K-Means Clustering\n",
        "It's an unsupervised learning algorithm that will attempt to group similar clusters together in your data.\n",
        "\n",
        "A typical clustering problem look like:\n",
        "* Cluster Similar Documents\n",
        "* Cluster Customers based on Features\n",
        "* Market Segmentation\n",
        "* Identify similar physical groups"
      ],
      "metadata": {
        "id": "0d-4JKSxg1Oo"
      }
    },
    {
      "cell_type": "markdown",
      "source": [
        "## Install pyspark and download the data file"
      ],
      "metadata": {
        "id": "S9nSTPyaqb8L"
      }
    },
    {
      "cell_type": "code",
      "source": [
        "# Install pyspark\n",
        "!pip install pyspark"
      ],
      "metadata": {
        "colab": {
          "base_uri": "https://localhost:8080/"
        },
        "id": "c94mIPB_hVIT",
        "outputId": "f8098927-8dc3-4712-ae03-f2713be39564"
      },
      "execution_count": 1,
      "outputs": [
        {
          "output_type": "stream",
          "name": "stdout",
          "text": [
            "Collecting pyspark\n",
            "  Downloading pyspark-3.5.0.tar.gz (316.9 MB)\n",
            "\u001b[2K     \u001b[90m━━━━━━━━━━━━━━━━━━━━━━━━━━━━━━━━━━━━━━━\u001b[0m \u001b[32m316.9/316.9 MB\u001b[0m \u001b[31m4.5 MB/s\u001b[0m eta \u001b[36m0:00:00\u001b[0m\n",
            "\u001b[?25h  Preparing metadata (setup.py) ... \u001b[?25l\u001b[?25hdone\n",
            "Requirement already satisfied: py4j==0.10.9.7 in /usr/local/lib/python3.10/dist-packages (from pyspark) (0.10.9.7)\n",
            "Building wheels for collected packages: pyspark\n",
            "  Building wheel for pyspark (setup.py) ... \u001b[?25l\u001b[?25hdone\n",
            "  Created wheel for pyspark: filename=pyspark-3.5.0-py2.py3-none-any.whl size=317425344 sha256=7c784360d744b8ec242e7e46408d5a1e6b7d998cd26974e276cba335408152ef\n",
            "  Stored in directory: /root/.cache/pip/wheels/41/4e/10/c2cf2467f71c678cfc8a6b9ac9241e5e44a01940da8fbb17fc\n",
            "Successfully built pyspark\n",
            "Installing collected packages: pyspark\n",
            "Successfully installed pyspark-3.5.0\n"
          ]
        }
      ]
    },
    {
      "cell_type": "code",
      "source": [
        "# Download the necessary data files\n",
        "!wget https://raw.githubusercontent.com/Ricardo-Jaramillo/PySpark/main/datasets/KMeans/sample_kmeans_data.txt"
      ],
      "metadata": {
        "colab": {
          "base_uri": "https://localhost:8080/"
        },
        "id": "J5qIwlDIigkD",
        "outputId": "a6bcaded-5892-4ac8-cc53-51ba0cf70e30"
      },
      "execution_count": 6,
      "outputs": [
        {
          "output_type": "stream",
          "name": "stdout",
          "text": [
            "--2023-10-04 17:06:38--  https://raw.githubusercontent.com/Ricardo-Jaramillo/PySpark/main/datasets/KMeans/sample_kmeans_data.txt\n",
            "Resolving raw.githubusercontent.com (raw.githubusercontent.com)... 185.199.111.133, 185.199.108.133, 185.199.109.133, ...\n",
            "Connecting to raw.githubusercontent.com (raw.githubusercontent.com)|185.199.111.133|:443... connected.\n",
            "HTTP request sent, awaiting response... 200 OK\n",
            "Length: 120 [text/plain]\n",
            "Saving to: ‘sample_kmeans_data.txt’\n",
            "\n",
            "\rsample_kmeans_data.   0%[                    ]       0  --.-KB/s               \rsample_kmeans_data. 100%[===================>]     120  --.-KB/s    in 0s      \n",
            "\n",
            "2023-10-04 17:06:38 (7.33 MB/s) - ‘sample_kmeans_data.txt’ saved [120/120]\n",
            "\n"
          ]
        }
      ]
    },
    {
      "cell_type": "markdown",
      "source": [
        "## Read in the data"
      ],
      "metadata": {
        "id": "fI4d8HJpqh72"
      }
    },
    {
      "cell_type": "code",
      "source": [
        "# Import libraries\n",
        "from pyspark.sql import SparkSession\n",
        "from pyspark.ml.clustering import KMeans"
      ],
      "metadata": {
        "id": "egJ6n1mEiys3"
      },
      "execution_count": 39,
      "outputs": []
    },
    {
      "cell_type": "code",
      "source": [
        "# Create a session\n",
        "spark = SparkSession.builder.appName('cluster').getOrCreate()"
      ],
      "metadata": {
        "id": "DXwe-ZCgi7MY"
      },
      "execution_count": 4,
      "outputs": []
    },
    {
      "cell_type": "code",
      "source": [
        "# Read in the data file\n",
        "dataset = spark.read.format('libsvm').load('sample_kmeans_data.txt')"
      ],
      "metadata": {
        "id": "fAkhxmpZoSe7"
      },
      "execution_count": 7,
      "outputs": []
    },
    {
      "cell_type": "code",
      "source": [
        "# Show data\n",
        "dataset.show()"
      ],
      "metadata": {
        "colab": {
          "base_uri": "https://localhost:8080/"
        },
        "id": "RBQO1hffobgP",
        "outputId": "bc99db3a-ddaf-4a19-fa3c-a698f1bb4045"
      },
      "execution_count": 9,
      "outputs": [
        {
          "output_type": "stream",
          "name": "stdout",
          "text": [
            "+-----+--------------------+\n",
            "|label|            features|\n",
            "+-----+--------------------+\n",
            "|  0.0|           (3,[],[])|\n",
            "|  1.0|(3,[0,1,2],[0.1,0...|\n",
            "|  2.0|(3,[0,1,2],[0.2,0...|\n",
            "|  3.0|(3,[0,1,2],[9.0,9...|\n",
            "|  4.0|(3,[0,1,2],[9.1,9...|\n",
            "|  5.0|(3,[0,1,2],[9.2,9...|\n",
            "+-----+--------------------+\n",
            "\n"
          ]
        }
      ]
    },
    {
      "cell_type": "code",
      "source": [
        "# Select features columns\n",
        "final_data = dataset.select('features')"
      ],
      "metadata": {
        "id": "tinMvfjPqDa3"
      },
      "execution_count": 10,
      "outputs": []
    },
    {
      "cell_type": "code",
      "source": [
        "# Show features\n",
        "final_data.show()"
      ],
      "metadata": {
        "colab": {
          "base_uri": "https://localhost:8080/"
        },
        "id": "hmc_OUQEqKy5",
        "outputId": "73415e4d-2f0d-49ee-cddf-5ccebc2b161a"
      },
      "execution_count": 12,
      "outputs": [
        {
          "output_type": "stream",
          "name": "stdout",
          "text": [
            "+--------------------+\n",
            "|            features|\n",
            "+--------------------+\n",
            "|           (3,[],[])|\n",
            "|(3,[0,1,2],[0.1,0...|\n",
            "|(3,[0,1,2],[0.2,0...|\n",
            "|(3,[0,1,2],[9.0,9...|\n",
            "|(3,[0,1,2],[9.1,9...|\n",
            "|(3,[0,1,2],[9.2,9...|\n",
            "+--------------------+\n",
            "\n"
          ]
        }
      ]
    },
    {
      "cell_type": "markdown",
      "source": [
        "## Create the KMeans model and see results"
      ],
      "metadata": {
        "id": "epIBeqwdqaxq"
      }
    },
    {
      "cell_type": "code",
      "source": [
        "# Create a kmeans object\n",
        "kmeans = KMeans().setK(2).setSeed(1)"
      ],
      "metadata": {
        "id": "T2PfgUaLqMUu"
      },
      "execution_count": 48,
      "outputs": []
    },
    {
      "cell_type": "code",
      "source": [
        "# Fit the model\n",
        "model = kmeans.fit(final_data)"
      ],
      "metadata": {
        "id": "scY1lf1rqrnr"
      },
      "execution_count": 49,
      "outputs": []
    },
    {
      "cell_type": "code",
      "source": [
        "# Let's evaluate\n",
        "wssse = model.summary.trainingCost"
      ],
      "metadata": {
        "id": "RVoFu_huqwD7"
      },
      "execution_count": 50,
      "outputs": []
    },
    {
      "cell_type": "code",
      "source": [
        "# Get the centers of clusters\n",
        "centers = model.clusterCenters()"
      ],
      "metadata": {
        "id": "ESzeTgZvq2NW"
      },
      "execution_count": 51,
      "outputs": []
    },
    {
      "cell_type": "code",
      "source": [
        "# Show centers\n",
        "centers"
      ],
      "metadata": {
        "colab": {
          "base_uri": "https://localhost:8080/"
        },
        "id": "0M-5J5IJtG7W",
        "outputId": "44ff2c95-cf7a-40cc-bb8f-f41cde44b162"
      },
      "execution_count": 52,
      "outputs": [
        {
          "output_type": "execute_result",
          "data": {
            "text/plain": [
              "[array([9.1, 9.1, 9.1]), array([0.1, 0.1, 0.1])]"
            ]
          },
          "metadata": {},
          "execution_count": 52
        }
      ]
    },
    {
      "cell_type": "code",
      "source": [
        "final_data.show()"
      ],
      "metadata": {
        "colab": {
          "base_uri": "https://localhost:8080/"
        },
        "id": "T0I0H2wQtMnW",
        "outputId": "e6058d35-a073-4c55-fff5-da2dd0eeffa5"
      },
      "execution_count": 53,
      "outputs": [
        {
          "output_type": "stream",
          "name": "stdout",
          "text": [
            "+--------------------+\n",
            "|            features|\n",
            "+--------------------+\n",
            "|           (3,[],[])|\n",
            "|(3,[0,1,2],[0.1,0...|\n",
            "|(3,[0,1,2],[0.2,0...|\n",
            "|(3,[0,1,2],[9.0,9...|\n",
            "|(3,[0,1,2],[9.1,9...|\n",
            "|(3,[0,1,2],[9.2,9...|\n",
            "+--------------------+\n",
            "\n"
          ]
        }
      ]
    },
    {
      "cell_type": "code",
      "source": [
        "# Predict cluster of final_data\n",
        "results = model.transform(final_data)"
      ],
      "metadata": {
        "id": "fzCRmJGttQhc"
      },
      "execution_count": 54,
      "outputs": []
    },
    {
      "cell_type": "code",
      "source": [
        "# Print results\n",
        "results.show()"
      ],
      "metadata": {
        "colab": {
          "base_uri": "https://localhost:8080/"
        },
        "id": "ZMsLazW1tScb",
        "outputId": "c102c670-5d12-4f83-a0a4-eaea51345a12"
      },
      "execution_count": 55,
      "outputs": [
        {
          "output_type": "stream",
          "name": "stdout",
          "text": [
            "+--------------------+----------+\n",
            "|            features|prediction|\n",
            "+--------------------+----------+\n",
            "|           (3,[],[])|         1|\n",
            "|(3,[0,1,2],[0.1,0...|         1|\n",
            "|(3,[0,1,2],[0.2,0...|         1|\n",
            "|(3,[0,1,2],[9.0,9...|         0|\n",
            "|(3,[0,1,2],[9.1,9...|         0|\n",
            "|(3,[0,1,2],[9.2,9...|         0|\n",
            "+--------------------+----------+\n",
            "\n"
          ]
        }
      ]
    },
    {
      "cell_type": "code",
      "source": [],
      "metadata": {
        "id": "Dc0k2tFvtk-e"
      },
      "execution_count": null,
      "outputs": []
    }
  ]
}