{
  "cells": [
    {
      "cell_type": "markdown",
      "metadata": {
        "id": "view-in-github",
        "colab_type": "text"
      },
      "source": [
        "<a href=\"https://colab.research.google.com/github/Ricardo-Jaramillo/PySpark/blob/main/Project_LinearRegression.ipynb\" target=\"_parent\"><img src=\"https://colab.research.google.com/assets/colab-badge.svg\" alt=\"Open In Colab\"/></a>"
      ]
    },
    {
      "cell_type": "markdown",
      "metadata": {
        "id": "B5Gw7WhbJeVG"
      },
      "source": [
        "# Linear Regression Project"
      ]
    },
    {
      "cell_type": "markdown",
      "metadata": {
        "collapsed": true,
        "id": "gbmgBTT9JeVJ"
      },
      "source": [
        "Congratulations! You've been contracted by Hyundai Heavy Industries to help them build a predictive model for some ships. [Hyundai Heavy Industries](http://www.hyundai.eu/en) is one of the world's largest ship manufacturing companies and builds cruise liners.\n",
        "\n",
        "You've been flown to their headquarters in Ulsan, South Korea to help them give accurate estimates of how many crew members a ship will require.\n",
        "\n",
        "They are currently building new ships for some customers and want you to create a model and use it to predict how many crew members the ships will need.\n",
        "\n",
        "Here is what the data looks like so far:\n",
        "\n",
        "    Description: Measurements of ship size, capacity, crew, and age for 158 cruise\n",
        "    ships.\n",
        "\n",
        "\n",
        "    Variables/Columns\n",
        "    Ship Name     1-20\n",
        "    Cruise Line   21-40\n",
        "    Age (as of 2013)   46-48\n",
        "    Tonnage (1000s of tons)   50-56\n",
        "    passengers (100s)   58-64\n",
        "    Length (100s of feet)  66-72\n",
        "    Cabins  (100s)   74-80\n",
        "    Passenger Density   82-88\n",
        "    Crew  (100s)   90-96\n",
        "    \n",
        "It is saved in a csv file for you called \"cruise_ship_info.csv\". Your job is to create a regression model that will help predict how many crew members will be needed for future ships. The client also mentioned that they have found that particular cruise lines will differ in acceptable crew counts, so it is most likely an important feature to include in your analysis!\n",
        "\n",
        "Once you've created the model and tested it for a quick check on how well you can expect it to perform, make sure you take a look at why it performs so well!"
      ]
    },
    {
      "cell_type": "markdown",
      "metadata": {
        "id": "_ML09TADJeVL"
      },
      "source": [
        "## First Install pyspark and download the data file"
      ]
    },
    {
      "cell_type": "code",
      "execution_count": 90,
      "metadata": {
        "colab": {
          "base_uri": "https://localhost:8080/"
        },
        "id": "M7OPty-2JeVL",
        "outputId": "f186d128-b28b-4552-d9d2-3bfa96676f63"
      },
      "outputs": [
        {
          "output_type": "stream",
          "name": "stdout",
          "text": [
            "Requirement already satisfied: pyspark in /usr/local/lib/python3.10/dist-packages (3.5.0)\n",
            "Requirement already satisfied: py4j==0.10.9.7 in /usr/local/lib/python3.10/dist-packages (from pyspark) (0.10.9.7)\n"
          ]
        }
      ],
      "source": [
        "# Install pyspark\n",
        "!pip install pyspark"
      ]
    },
    {
      "cell_type": "code",
      "execution_count": 91,
      "metadata": {
        "colab": {
          "base_uri": "https://localhost:8080/"
        },
        "id": "wkwnurSiJeVM",
        "outputId": "70171855-a2a4-4977-e8eb-9f25d63fb3dd"
      },
      "outputs": [
        {
          "output_type": "stream",
          "name": "stdout",
          "text": [
            "--2023-10-03 16:16:45--  https://raw.githubusercontent.com/Ricardo-Jaramillo/PySpark/main/datasets/cruise_ship_info.csv\n",
            "Resolving raw.githubusercontent.com (raw.githubusercontent.com)... 185.199.108.133, 185.199.109.133, 185.199.110.133, ...\n",
            "Connecting to raw.githubusercontent.com (raw.githubusercontent.com)|185.199.108.133|:443... connected.\n",
            "HTTP request sent, awaiting response... 200 OK\n",
            "Length: 8734 (8.5K) [text/plain]\n",
            "Saving to: ‘cruise_ship_info.csv.1’\n",
            "\n",
            "\rcruise_ship_info.cs   0%[                    ]       0  --.-KB/s               \rcruise_ship_info.cs 100%[===================>]   8.53K  --.-KB/s    in 0s      \n",
            "\n",
            "2023-10-03 16:16:45 (76.2 MB/s) - ‘cruise_ship_info.csv.1’ saved [8734/8734]\n",
            "\n"
          ]
        }
      ],
      "source": [
        "# Download the data file\n",
        "!wget https://raw.githubusercontent.com/Ricardo-Jaramillo/PySpark/main/datasets/cruise_ship_info.csv"
      ]
    },
    {
      "cell_type": "markdown",
      "source": [
        "## Create the Spark session"
      ],
      "metadata": {
        "id": "ehkQi1o4Jw4u"
      }
    },
    {
      "cell_type": "code",
      "source": [
        "# Import libraries\n",
        "from pyspark.sql import SparkSession\n",
        "from pyspark.ml.regression import LinearRegression"
      ],
      "metadata": {
        "id": "Ghe5rWocJ1X-"
      },
      "execution_count": 92,
      "outputs": []
    },
    {
      "cell_type": "code",
      "source": [
        "# Create a session\n",
        "spark = SparkSession.builder.appName('lr_project').getOrCreate()"
      ],
      "metadata": {
        "id": "nrC-zsSYJ--H"
      },
      "execution_count": 93,
      "outputs": []
    },
    {
      "cell_type": "code",
      "source": [
        "# Read in the file\n",
        "df = spark.read.csv('cruise_ship_info.csv', inferSchema=True, header=True)"
      ],
      "metadata": {
        "id": "nrGlrhR4KJPv"
      },
      "execution_count": 94,
      "outputs": []
    },
    {
      "cell_type": "code",
      "source": [
        "# Print out the schema\n",
        "df.printSchema()"
      ],
      "metadata": {
        "colab": {
          "base_uri": "https://localhost:8080/"
        },
        "id": "QIyLrTgFK5KD",
        "outputId": "f38831fc-3c01-42ad-d6cc-c8a084e2467e"
      },
      "execution_count": 95,
      "outputs": [
        {
          "output_type": "stream",
          "name": "stdout",
          "text": [
            "root\n",
            " |-- Ship_name: string (nullable = true)\n",
            " |-- Cruise_line: string (nullable = true)\n",
            " |-- Age: integer (nullable = true)\n",
            " |-- Tonnage: double (nullable = true)\n",
            " |-- passengers: double (nullable = true)\n",
            " |-- length: double (nullable = true)\n",
            " |-- cabins: double (nullable = true)\n",
            " |-- passenger_density: double (nullable = true)\n",
            " |-- crew: double (nullable = true)\n",
            "\n"
          ]
        }
      ]
    },
    {
      "cell_type": "code",
      "source": [
        "# Show the data\n",
        "df.show()"
      ],
      "metadata": {
        "colab": {
          "base_uri": "https://localhost:8080/"
        },
        "id": "4ziS-YaKKTBs",
        "outputId": "3422b27c-2584-4611-9068-a26bc7e9820c"
      },
      "execution_count": 96,
      "outputs": [
        {
          "output_type": "stream",
          "name": "stdout",
          "text": [
            "+-----------+-----------+---+------------------+----------+------+------+-----------------+----+\n",
            "|  Ship_name|Cruise_line|Age|           Tonnage|passengers|length|cabins|passenger_density|crew|\n",
            "+-----------+-----------+---+------------------+----------+------+------+-----------------+----+\n",
            "|    Journey|    Azamara|  6|30.276999999999997|      6.94|  5.94|  3.55|            42.64|3.55|\n",
            "|      Quest|    Azamara|  6|30.276999999999997|      6.94|  5.94|  3.55|            42.64|3.55|\n",
            "|Celebration|   Carnival| 26|            47.262|     14.86|  7.22|  7.43|             31.8| 6.7|\n",
            "|   Conquest|   Carnival| 11|             110.0|     29.74|  9.53| 14.88|            36.99|19.1|\n",
            "|    Destiny|   Carnival| 17|           101.353|     26.42|  8.92| 13.21|            38.36|10.0|\n",
            "|    Ecstasy|   Carnival| 22|            70.367|     20.52|  8.55|  10.2|            34.29| 9.2|\n",
            "|    Elation|   Carnival| 15|            70.367|     20.52|  8.55|  10.2|            34.29| 9.2|\n",
            "|    Fantasy|   Carnival| 23|            70.367|     20.56|  8.55| 10.22|            34.23| 9.2|\n",
            "|Fascination|   Carnival| 19|            70.367|     20.52|  8.55|  10.2|            34.29| 9.2|\n",
            "|    Freedom|   Carnival|  6|110.23899999999999|      37.0|  9.51| 14.87|            29.79|11.5|\n",
            "|      Glory|   Carnival| 10|             110.0|     29.74|  9.51| 14.87|            36.99|11.6|\n",
            "|    Holiday|   Carnival| 28|            46.052|     14.52|  7.27|  7.26|            31.72| 6.6|\n",
            "|Imagination|   Carnival| 18|            70.367|     20.52|  8.55|  10.2|            34.29| 9.2|\n",
            "|Inspiration|   Carnival| 17|            70.367|     20.52|  8.55|  10.2|            34.29| 9.2|\n",
            "|     Legend|   Carnival| 11|              86.0|     21.24|  9.63| 10.62|            40.49| 9.3|\n",
            "|   Liberty*|   Carnival|  8|             110.0|     29.74|  9.51| 14.87|            36.99|11.6|\n",
            "|    Miracle|   Carnival|  9|              88.5|     21.24|  9.63| 10.62|            41.67|10.3|\n",
            "|   Paradise|   Carnival| 15|            70.367|     20.52|  8.55|  10.2|            34.29| 9.2|\n",
            "|      Pride|   Carnival| 12|              88.5|     21.24|  9.63| 11.62|            41.67| 9.3|\n",
            "|  Sensation|   Carnival| 20|            70.367|     20.52|  8.55|  10.2|            34.29| 9.2|\n",
            "+-----------+-----------+---+------------------+----------+------+------+-----------------+----+\n",
            "only showing top 20 rows\n",
            "\n"
          ]
        }
      ]
    },
    {
      "cell_type": "code",
      "source": [
        "# Count distinct Cruise_line\n",
        "df.groupBy('Cruise_line').count().show()"
      ],
      "metadata": {
        "colab": {
          "base_uri": "https://localhost:8080/"
        },
        "id": "0aKp_72jKWcJ",
        "outputId": "7b0cdd0d-664c-46e6-c09a-6ea19fe1ce1a"
      },
      "execution_count": 97,
      "outputs": [
        {
          "output_type": "stream",
          "name": "stdout",
          "text": [
            "+-----------------+-----+\n",
            "|      Cruise_line|count|\n",
            "+-----------------+-----+\n",
            "|            Costa|   11|\n",
            "|              P&O|    6|\n",
            "|           Cunard|    3|\n",
            "|Regent_Seven_Seas|    5|\n",
            "|              MSC|    8|\n",
            "|         Carnival|   22|\n",
            "|          Crystal|    2|\n",
            "|           Orient|    1|\n",
            "|         Princess|   17|\n",
            "|        Silversea|    4|\n",
            "|         Seabourn|    3|\n",
            "| Holland_American|   14|\n",
            "|         Windstar|    3|\n",
            "|           Disney|    2|\n",
            "|        Norwegian|   13|\n",
            "|          Oceania|    3|\n",
            "|          Azamara|    2|\n",
            "|        Celebrity|   10|\n",
            "|             Star|    6|\n",
            "|  Royal_Caribbean|   23|\n",
            "+-----------------+-----+\n",
            "\n"
          ]
        }
      ]
    },
    {
      "cell_type": "markdown",
      "source": [
        "## Indexing string into numberic value"
      ],
      "metadata": {
        "id": "6osDUGdDKrll"
      }
    },
    {
      "cell_type": "code",
      "source": [
        "# Import the function\n",
        "from pyspark.ml.feature import StringIndexer"
      ],
      "metadata": {
        "id": "QIlf0nKKLYkK"
      },
      "execution_count": 98,
      "outputs": []
    },
    {
      "cell_type": "code",
      "source": [
        "# Create an indexer object and transofrm it, fitting with the df data\n",
        "indexer = StringIndexer(inputCol=\"Cruise_line\", outputCol=\"cruise_cat\")\n",
        "indexed = indexer.fit(df).transform(df)"
      ],
      "metadata": {
        "id": "NWEOfawuLeAO"
      },
      "execution_count": 99,
      "outputs": []
    },
    {
      "cell_type": "code",
      "source": [
        "# Show the indexed data\n",
        "indexed.show()"
      ],
      "metadata": {
        "colab": {
          "base_uri": "https://localhost:8080/"
        },
        "id": "vJdFqDbZLvYS",
        "outputId": "f640cd03-b517-4eb5-dc2b-33966c0626fc"
      },
      "execution_count": 100,
      "outputs": [
        {
          "output_type": "stream",
          "name": "stdout",
          "text": [
            "+-----------+-----------+---+------------------+----------+------+------+-----------------+----+----------+\n",
            "|  Ship_name|Cruise_line|Age|           Tonnage|passengers|length|cabins|passenger_density|crew|cruise_cat|\n",
            "+-----------+-----------+---+------------------+----------+------+------+-----------------+----+----------+\n",
            "|    Journey|    Azamara|  6|30.276999999999997|      6.94|  5.94|  3.55|            42.64|3.55|      16.0|\n",
            "|      Quest|    Azamara|  6|30.276999999999997|      6.94|  5.94|  3.55|            42.64|3.55|      16.0|\n",
            "|Celebration|   Carnival| 26|            47.262|     14.86|  7.22|  7.43|             31.8| 6.7|       1.0|\n",
            "|   Conquest|   Carnival| 11|             110.0|     29.74|  9.53| 14.88|            36.99|19.1|       1.0|\n",
            "|    Destiny|   Carnival| 17|           101.353|     26.42|  8.92| 13.21|            38.36|10.0|       1.0|\n",
            "|    Ecstasy|   Carnival| 22|            70.367|     20.52|  8.55|  10.2|            34.29| 9.2|       1.0|\n",
            "|    Elation|   Carnival| 15|            70.367|     20.52|  8.55|  10.2|            34.29| 9.2|       1.0|\n",
            "|    Fantasy|   Carnival| 23|            70.367|     20.56|  8.55| 10.22|            34.23| 9.2|       1.0|\n",
            "|Fascination|   Carnival| 19|            70.367|     20.52|  8.55|  10.2|            34.29| 9.2|       1.0|\n",
            "|    Freedom|   Carnival|  6|110.23899999999999|      37.0|  9.51| 14.87|            29.79|11.5|       1.0|\n",
            "|      Glory|   Carnival| 10|             110.0|     29.74|  9.51| 14.87|            36.99|11.6|       1.0|\n",
            "|    Holiday|   Carnival| 28|            46.052|     14.52|  7.27|  7.26|            31.72| 6.6|       1.0|\n",
            "|Imagination|   Carnival| 18|            70.367|     20.52|  8.55|  10.2|            34.29| 9.2|       1.0|\n",
            "|Inspiration|   Carnival| 17|            70.367|     20.52|  8.55|  10.2|            34.29| 9.2|       1.0|\n",
            "|     Legend|   Carnival| 11|              86.0|     21.24|  9.63| 10.62|            40.49| 9.3|       1.0|\n",
            "|   Liberty*|   Carnival|  8|             110.0|     29.74|  9.51| 14.87|            36.99|11.6|       1.0|\n",
            "|    Miracle|   Carnival|  9|              88.5|     21.24|  9.63| 10.62|            41.67|10.3|       1.0|\n",
            "|   Paradise|   Carnival| 15|            70.367|     20.52|  8.55|  10.2|            34.29| 9.2|       1.0|\n",
            "|      Pride|   Carnival| 12|              88.5|     21.24|  9.63| 11.62|            41.67| 9.3|       1.0|\n",
            "|  Sensation|   Carnival| 20|            70.367|     20.52|  8.55|  10.2|            34.29| 9.2|       1.0|\n",
            "+-----------+-----------+---+------------------+----------+------+------+-----------------+----+----------+\n",
            "only showing top 20 rows\n",
            "\n"
          ]
        }
      ]
    },
    {
      "cell_type": "code",
      "source": [
        "# Get each index with its label\n",
        "indexed.select(['Cruise_line', 'cruise_cat']).distinct().orderBy('cruise_cat').show()"
      ],
      "metadata": {
        "colab": {
          "base_uri": "https://localhost:8080/"
        },
        "id": "wyPLJ8j-LxtG",
        "outputId": "dd7f427b-236e-4f18-e922-34f46d53164e"
      },
      "execution_count": 101,
      "outputs": [
        {
          "output_type": "stream",
          "name": "stdout",
          "text": [
            "+-----------------+----------+\n",
            "|      Cruise_line|cruise_cat|\n",
            "+-----------------+----------+\n",
            "|  Royal_Caribbean|       0.0|\n",
            "|         Carnival|       1.0|\n",
            "|         Princess|       2.0|\n",
            "| Holland_American|       3.0|\n",
            "|        Norwegian|       4.0|\n",
            "|            Costa|       5.0|\n",
            "|        Celebrity|       6.0|\n",
            "|              MSC|       7.0|\n",
            "|              P&O|       8.0|\n",
            "|             Star|       9.0|\n",
            "|Regent_Seven_Seas|      10.0|\n",
            "|        Silversea|      11.0|\n",
            "|           Cunard|      12.0|\n",
            "|          Oceania|      13.0|\n",
            "|         Seabourn|      14.0|\n",
            "|         Windstar|      15.0|\n",
            "|          Azamara|      16.0|\n",
            "|          Crystal|      17.0|\n",
            "|           Disney|      18.0|\n",
            "|           Orient|      19.0|\n",
            "+-----------------+----------+\n",
            "\n"
          ]
        }
      ]
    },
    {
      "cell_type": "markdown",
      "source": [
        "## Assemble each feature with its own label"
      ],
      "metadata": {
        "id": "qFySWSwbL32C"
      }
    },
    {
      "cell_type": "code",
      "source": [
        "# Import functions\n",
        "from pyspark.ml.linalg import Vector\n",
        "from pyspark.ml.feature import VectorAssembler"
      ],
      "metadata": {
        "id": "qKqZUY-uOL-L"
      },
      "execution_count": 102,
      "outputs": []
    },
    {
      "cell_type": "code",
      "source": [
        "# Show all the column names\n",
        "indexed.columns"
      ],
      "metadata": {
        "colab": {
          "base_uri": "https://localhost:8080/"
        },
        "id": "bkcjYBUCOWmC",
        "outputId": "f4f77430-0697-4b74-9084-7f034ff7978a"
      },
      "execution_count": 103,
      "outputs": [
        {
          "output_type": "execute_result",
          "data": {
            "text/plain": [
              "['Ship_name',\n",
              " 'Cruise_line',\n",
              " 'Age',\n",
              " 'Tonnage',\n",
              " 'passengers',\n",
              " 'length',\n",
              " 'cabins',\n",
              " 'passenger_density',\n",
              " 'crew',\n",
              " 'cruise_cat']"
            ]
          },
          "metadata": {},
          "execution_count": 103
        }
      ]
    },
    {
      "cell_type": "code",
      "source": [
        "# Create assembler object\n",
        "assembler = VectorAssembler(inputCols=['Age', 'Tonnage', 'passengers',\n",
        "                                       'length', 'cabins', 'passenger_density',\n",
        "                                       'cruise_cat'],\n",
        "                            outputCol='features')"
      ],
      "metadata": {
        "id": "Bz_Qf6ogOZww"
      },
      "execution_count": 132,
      "outputs": []
    },
    {
      "cell_type": "code",
      "source": [
        "# Transform the data with the assembler we just created\n",
        "output = assembler.transform(indexed)"
      ],
      "metadata": {
        "id": "cGYS_y4nPCna"
      },
      "execution_count": 133,
      "outputs": []
    },
    {
      "cell_type": "markdown",
      "source": [
        "Check the new data"
      ],
      "metadata": {
        "id": "dtk_XYhwPNKu"
      }
    },
    {
      "cell_type": "code",
      "source": [
        "# Show the data\n",
        "output.show()"
      ],
      "metadata": {
        "colab": {
          "base_uri": "https://localhost:8080/"
        },
        "id": "5kIk00hmPQL7",
        "outputId": "ec004802-3eea-4408-b31e-8d22b7b206a0"
      },
      "execution_count": 134,
      "outputs": [
        {
          "output_type": "stream",
          "name": "stdout",
          "text": [
            "+-----------+-----------+---+------------------+----------+------+------+-----------------+----+----------+--------------------+\n",
            "|  Ship_name|Cruise_line|Age|           Tonnage|passengers|length|cabins|passenger_density|crew|cruise_cat|            features|\n",
            "+-----------+-----------+---+------------------+----------+------+------+-----------------+----+----------+--------------------+\n",
            "|    Journey|    Azamara|  6|30.276999999999997|      6.94|  5.94|  3.55|            42.64|3.55|      16.0|[6.0,30.276999999...|\n",
            "|      Quest|    Azamara|  6|30.276999999999997|      6.94|  5.94|  3.55|            42.64|3.55|      16.0|[6.0,30.276999999...|\n",
            "|Celebration|   Carnival| 26|            47.262|     14.86|  7.22|  7.43|             31.8| 6.7|       1.0|[26.0,47.262,14.8...|\n",
            "|   Conquest|   Carnival| 11|             110.0|     29.74|  9.53| 14.88|            36.99|19.1|       1.0|[11.0,110.0,29.74...|\n",
            "|    Destiny|   Carnival| 17|           101.353|     26.42|  8.92| 13.21|            38.36|10.0|       1.0|[17.0,101.353,26....|\n",
            "|    Ecstasy|   Carnival| 22|            70.367|     20.52|  8.55|  10.2|            34.29| 9.2|       1.0|[22.0,70.367,20.5...|\n",
            "|    Elation|   Carnival| 15|            70.367|     20.52|  8.55|  10.2|            34.29| 9.2|       1.0|[15.0,70.367,20.5...|\n",
            "|    Fantasy|   Carnival| 23|            70.367|     20.56|  8.55| 10.22|            34.23| 9.2|       1.0|[23.0,70.367,20.5...|\n",
            "|Fascination|   Carnival| 19|            70.367|     20.52|  8.55|  10.2|            34.29| 9.2|       1.0|[19.0,70.367,20.5...|\n",
            "|    Freedom|   Carnival|  6|110.23899999999999|      37.0|  9.51| 14.87|            29.79|11.5|       1.0|[6.0,110.23899999...|\n",
            "|      Glory|   Carnival| 10|             110.0|     29.74|  9.51| 14.87|            36.99|11.6|       1.0|[10.0,110.0,29.74...|\n",
            "|    Holiday|   Carnival| 28|            46.052|     14.52|  7.27|  7.26|            31.72| 6.6|       1.0|[28.0,46.052,14.5...|\n",
            "|Imagination|   Carnival| 18|            70.367|     20.52|  8.55|  10.2|            34.29| 9.2|       1.0|[18.0,70.367,20.5...|\n",
            "|Inspiration|   Carnival| 17|            70.367|     20.52|  8.55|  10.2|            34.29| 9.2|       1.0|[17.0,70.367,20.5...|\n",
            "|     Legend|   Carnival| 11|              86.0|     21.24|  9.63| 10.62|            40.49| 9.3|       1.0|[11.0,86.0,21.24,...|\n",
            "|   Liberty*|   Carnival|  8|             110.0|     29.74|  9.51| 14.87|            36.99|11.6|       1.0|[8.0,110.0,29.74,...|\n",
            "|    Miracle|   Carnival|  9|              88.5|     21.24|  9.63| 10.62|            41.67|10.3|       1.0|[9.0,88.5,21.24,9...|\n",
            "|   Paradise|   Carnival| 15|            70.367|     20.52|  8.55|  10.2|            34.29| 9.2|       1.0|[15.0,70.367,20.5...|\n",
            "|      Pride|   Carnival| 12|              88.5|     21.24|  9.63| 11.62|            41.67| 9.3|       1.0|[12.0,88.5,21.24,...|\n",
            "|  Sensation|   Carnival| 20|            70.367|     20.52|  8.55|  10.2|            34.29| 9.2|       1.0|[20.0,70.367,20.5...|\n",
            "+-----------+-----------+---+------------------+----------+------+------+-----------------+----+----------+--------------------+\n",
            "only showing top 20 rows\n",
            "\n"
          ]
        }
      ]
    },
    {
      "cell_type": "code",
      "source": [
        "# Select features and labels and save it in a variable\n",
        "final_data = output.select(['features', 'crew'])\n",
        "final_data.show()"
      ],
      "metadata": {
        "colab": {
          "base_uri": "https://localhost:8080/"
        },
        "id": "kgetE8QoPUXB",
        "outputId": "e57395e0-f65d-4932-cefa-2d16d11799be"
      },
      "execution_count": 135,
      "outputs": [
        {
          "output_type": "stream",
          "name": "stdout",
          "text": [
            "+--------------------+----+\n",
            "|            features|crew|\n",
            "+--------------------+----+\n",
            "|[6.0,30.276999999...|3.55|\n",
            "|[6.0,30.276999999...|3.55|\n",
            "|[26.0,47.262,14.8...| 6.7|\n",
            "|[11.0,110.0,29.74...|19.1|\n",
            "|[17.0,101.353,26....|10.0|\n",
            "|[22.0,70.367,20.5...| 9.2|\n",
            "|[15.0,70.367,20.5...| 9.2|\n",
            "|[23.0,70.367,20.5...| 9.2|\n",
            "|[19.0,70.367,20.5...| 9.2|\n",
            "|[6.0,110.23899999...|11.5|\n",
            "|[10.0,110.0,29.74...|11.6|\n",
            "|[28.0,46.052,14.5...| 6.6|\n",
            "|[18.0,70.367,20.5...| 9.2|\n",
            "|[17.0,70.367,20.5...| 9.2|\n",
            "|[11.0,86.0,21.24,...| 9.3|\n",
            "|[8.0,110.0,29.74,...|11.6|\n",
            "|[9.0,88.5,21.24,9...|10.3|\n",
            "|[15.0,70.367,20.5...| 9.2|\n",
            "|[12.0,88.5,21.24,...| 9.3|\n",
            "|[20.0,70.367,20.5...| 9.2|\n",
            "+--------------------+----+\n",
            "only showing top 20 rows\n",
            "\n"
          ]
        }
      ]
    },
    {
      "cell_type": "markdown",
      "source": [
        "## Split into train and test data"
      ],
      "metadata": {
        "id": "BBVClcpnPiQ1"
      }
    },
    {
      "cell_type": "code",
      "source": [
        "# Split data\n",
        "train_data, test_data = final_data.randomSplit([0.7, 0.3])\n",
        "train_data.show(1)"
      ],
      "metadata": {
        "colab": {
          "base_uri": "https://localhost:8080/"
        },
        "id": "J8xqWKyhP3vW",
        "outputId": "b7a3d413-e05e-4380-aece-a65e98955992"
      },
      "execution_count": 136,
      "outputs": [
        {
          "output_type": "stream",
          "name": "stdout",
          "text": [
            "+--------------------+----+\n",
            "|            features|crew|\n",
            "+--------------------+----+\n",
            "|[4.0,220.0,54.0,1...|21.0|\n",
            "+--------------------+----+\n",
            "only showing top 1 row\n",
            "\n"
          ]
        }
      ]
    },
    {
      "cell_type": "code",
      "source": [
        "# Describe train and test data\n",
        "train_data.describe().show()\n",
        "\n",
        "test_data.describe().show()"
      ],
      "metadata": {
        "colab": {
          "base_uri": "https://localhost:8080/"
        },
        "id": "b9_Dl8psQEOH",
        "outputId": "8f049c58-53d1-4bca-b3aa-abec14a5b8c7"
      },
      "execution_count": 137,
      "outputs": [
        {
          "output_type": "stream",
          "name": "stdout",
          "text": [
            "+-------+-----------------+\n",
            "|summary|             crew|\n",
            "+-------+-----------------+\n",
            "|  count|              110|\n",
            "|   mean|7.956272727272737|\n",
            "| stddev|3.576031540173213|\n",
            "|    min|             0.59|\n",
            "|    max|             21.0|\n",
            "+-------+-----------------+\n",
            "\n",
            "+-------+-----------------+\n",
            "|summary|             crew|\n",
            "+-------+-----------------+\n",
            "|  count|               48|\n",
            "|   mean|7.422708333333335|\n",
            "| stddev|3.337975395791256|\n",
            "|    min|              0.6|\n",
            "|    max|             13.0|\n",
            "+-------+-----------------+\n",
            "\n"
          ]
        }
      ]
    },
    {
      "cell_type": "markdown",
      "source": [
        "## Create the Linear Regression model and evaluate"
      ],
      "metadata": {
        "id": "SWMrjg_uQOB6"
      }
    },
    {
      "cell_type": "code",
      "source": [
        "# Create the model\n",
        "lr = LinearRegression(labelCol='crew')"
      ],
      "metadata": {
        "id": "YNJFNweZQeJT"
      },
      "execution_count": 138,
      "outputs": []
    },
    {
      "cell_type": "code",
      "source": [
        "# Fit the model with our train data\n",
        "lr_model = lr.fit(train_data)"
      ],
      "metadata": {
        "id": "C4yOeEU1Qq-w"
      },
      "execution_count": 139,
      "outputs": []
    },
    {
      "cell_type": "code",
      "source": [
        "# Print the coefficients and intercept for linear regression\n",
        "print(f\"Coefficients: {lr_model.coefficients}\\nIntercept: {lr_model.intercept}\")"
      ],
      "metadata": {
        "colab": {
          "base_uri": "https://localhost:8080/"
        },
        "id": "jVzR5Q5SRkiy",
        "outputId": "bc8b4530-15cd-4729-d7b6-f0aa71ce9a85"
      },
      "execution_count": 140,
      "outputs": [
        {
          "output_type": "stream",
          "name": "stdout",
          "text": [
            "Coefficients: [-0.0032771603775608948,0.012240389597382712,-0.13453885425123271,0.3555812400287093,0.8342255835644647,0.009458455976661305,0.03307910113528949]\n",
            "Intercept: -1.3674369166076683\n"
          ]
        }
      ]
    },
    {
      "cell_type": "code",
      "source": [
        "# Evaluate the model on the test_data\n",
        "test_results = lr_model.evaluate(test_data)"
      ],
      "metadata": {
        "id": "VJU5yimSQw03"
      },
      "execution_count": 141,
      "outputs": []
    },
    {
      "cell_type": "code",
      "source": [
        "# Show the errors\n",
        "test_results.residuals.show()"
      ],
      "metadata": {
        "colab": {
          "base_uri": "https://localhost:8080/"
        },
        "id": "p_9jOHfmREdz",
        "outputId": "af52bb89-5b8f-4c2f-9dbd-706c060f2ea8"
      },
      "execution_count": 142,
      "outputs": [
        {
          "output_type": "stream",
          "name": "stdout",
          "text": [
            "+--------------------+\n",
            "|           residuals|\n",
            "+--------------------+\n",
            "|  0.6427871963128151|\n",
            "| -1.0230568433581908|\n",
            "|  0.4490318069372474|\n",
            "|-0.00294383685879...|\n",
            "|  0.5825144899492489|\n",
            "| -0.5388015915499302|\n",
            "| -0.5213411906636143|\n",
            "|   0.990290101405229|\n",
            "| -0.1742999597473105|\n",
            "| 0.36667572585936625|\n",
            "|  -1.284445075949332|\n",
            "|-0.37518801402644186|\n",
            "|   0.826357074306852|\n",
            "| -1.2811679155717712|\n",
            "| 0.24394436775986061|\n",
            "|-0.22173221045231362|\n",
            "|  0.8661800906039154|\n",
            "| -1.0640679581121049|\n",
            "| -0.1719108536488818|\n",
            "|  0.8296342346844128|\n",
            "+--------------------+\n",
            "only showing top 20 rows\n",
            "\n"
          ]
        }
      ]
    },
    {
      "cell_type": "code",
      "source": [
        "# Show the MSE and RMSE\n",
        "test_results.meanSquaredError, test_results.rootMeanSquaredError"
      ],
      "metadata": {
        "colab": {
          "base_uri": "https://localhost:8080/"
        },
        "id": "SYcQurD0RJdf",
        "outputId": "ca89e9b4-18b3-4789-a05b-c46daf03c893"
      },
      "execution_count": 143,
      "outputs": [
        {
          "output_type": "execute_result",
          "data": {
            "text/plain": [
              "(1.0910522091802244, 1.0445344461434598)"
            ]
          },
          "metadata": {},
          "execution_count": 143
        }
      ]
    },
    {
      "cell_type": "code",
      "source": [
        "# Show R squared\n",
        "test_results.r2"
      ],
      "metadata": {
        "colab": {
          "base_uri": "https://localhost:8080/"
        },
        "id": "Xf6ioxsXROeX",
        "outputId": "8e35c5a5-e636-4d0e-b4b0-abfdc7a36b9c"
      },
      "execution_count": 144,
      "outputs": [
        {
          "output_type": "execute_result",
          "data": {
            "text/plain": [
              "0.8999947844853157"
            ]
          },
          "metadata": {},
          "execution_count": 144
        }
      ]
    },
    {
      "cell_type": "code",
      "source": [
        "# Compare with the whole data summary\n",
        "final_data.describe().show()"
      ],
      "metadata": {
        "colab": {
          "base_uri": "https://localhost:8080/"
        },
        "id": "zpxJRPtbRV6S",
        "outputId": "76667235-c8f9-47ca-b491-e4a3fa4f9383"
      },
      "execution_count": 145,
      "outputs": [
        {
          "output_type": "stream",
          "name": "stdout",
          "text": [
            "+-------+-----------------+\n",
            "|summary|             crew|\n",
            "+-------+-----------------+\n",
            "|  count|              158|\n",
            "|   mean|7.794177215189873|\n",
            "| stddev|3.503486564627034|\n",
            "|    min|             0.59|\n",
            "|    max|             21.0|\n",
            "+-------+-----------------+\n",
            "\n"
          ]
        }
      ]
    },
    {
      "cell_type": "markdown",
      "source": [
        "We can confirm that the model performs pretty well.\n",
        "\n",
        "A low MSE and high R2"
      ],
      "metadata": {
        "id": "gKlrnENYRcHm"
      }
    },
    {
      "cell_type": "markdown",
      "source": [
        "## Check the corr of some variables"
      ],
      "metadata": {
        "id": "_taYrVJuSk9F"
      }
    },
    {
      "cell_type": "code",
      "source": [
        "# Import corr function\n",
        "from pyspark.sql.functions import corr"
      ],
      "metadata": {
        "id": "6qP1U1UlSDTn"
      },
      "execution_count": 146,
      "outputs": []
    },
    {
      "cell_type": "code",
      "source": [
        "# corr crew - passengers\n",
        "df.select(corr('crew', 'passengers')).show()"
      ],
      "metadata": {
        "colab": {
          "base_uri": "https://localhost:8080/"
        },
        "id": "AfSr7lMMSbZ_",
        "outputId": "8d3108fa-a0bd-495e-9ba9-bae9e9d22918"
      },
      "execution_count": 147,
      "outputs": [
        {
          "output_type": "stream",
          "name": "stdout",
          "text": [
            "+----------------------+\n",
            "|corr(crew, passengers)|\n",
            "+----------------------+\n",
            "|    0.9152341306065384|\n",
            "+----------------------+\n",
            "\n"
          ]
        }
      ]
    },
    {
      "cell_type": "code",
      "source": [
        "# corr crew - cabins\n",
        "df.select(corr('crew', 'cabins')).show()"
      ],
      "metadata": {
        "colab": {
          "base_uri": "https://localhost:8080/"
        },
        "id": "EntlJRklSt4F",
        "outputId": "ddd927d7-3afc-4cd9-a7e8-e0f7ebb35037"
      },
      "execution_count": 148,
      "outputs": [
        {
          "output_type": "stream",
          "name": "stdout",
          "text": [
            "+------------------+\n",
            "|corr(crew, cabins)|\n",
            "+------------------+\n",
            "|0.9508226063578497|\n",
            "+------------------+\n",
            "\n"
          ]
        }
      ]
    },
    {
      "cell_type": "markdown",
      "source": [
        "## Now let's make som predictions"
      ],
      "metadata": {
        "id": "sGfD22vSS2DZ"
      }
    },
    {
      "cell_type": "code",
      "source": [
        "# Take some unlabeled data\n",
        "unlabeled_data = test_data.select('features')"
      ],
      "metadata": {
        "id": "LS88Y-ieSxqs"
      },
      "execution_count": 149,
      "outputs": []
    },
    {
      "cell_type": "code",
      "source": [
        "# Show the unlabeled data\n",
        "unlabeled_data.show()"
      ],
      "metadata": {
        "colab": {
          "base_uri": "https://localhost:8080/"
        },
        "id": "BOcthywLS-7H",
        "outputId": "98ba2463-6213-42d5-d192-1c065317fa02"
      },
      "execution_count": 150,
      "outputs": [
        {
          "output_type": "stream",
          "name": "stdout",
          "text": [
            "+--------------------+\n",
            "|            features|\n",
            "+--------------------+\n",
            "|[6.0,93.0,23.94,9...|\n",
            "|[7.0,89.6,25.5,9....|\n",
            "|[8.0,77.499,19.5,...|\n",
            "|[9.0,59.058,17.0,...|\n",
            "|[9.0,81.0,21.44,9...|\n",
            "|[9.0,90.09,25.01,...|\n",
            "|[9.0,110.0,29.74,...|\n",
            "|[9.0,113.0,26.74,...|\n",
            "|[10.0,68.0,10.8,7...|\n",
            "|[10.0,77.0,20.16,...|\n",
            "|[10.0,138.0,31.14...|\n",
            "|[11.0,90.09,25.01...|\n",
            "|[11.0,91.0,20.32,...|\n",
            "|[11.0,138.0,31.14...|\n",
            "|[12.0,2.329,0.94,...|\n",
            "|[12.0,25.0,3.88,5...|\n",
            "|[12.0,77.104,20.0...|\n",
            "|[12.0,88.5,21.24,...|\n",
            "|[12.0,90.09,25.01...|\n",
            "|[12.0,91.0,20.32,...|\n",
            "+--------------------+\n",
            "only showing top 20 rows\n",
            "\n"
          ]
        }
      ]
    },
    {
      "cell_type": "code",
      "source": [
        "# Get the predictions\n",
        "predictions = lr_model.transform(unlabeled_data)"
      ],
      "metadata": {
        "id": "-5699vhDTC6w"
      },
      "execution_count": 151,
      "outputs": []
    },
    {
      "cell_type": "code",
      "source": [
        "# Show predictions\n",
        "predictions.show()"
      ],
      "metadata": {
        "colab": {
          "base_uri": "https://localhost:8080/"
        },
        "id": "5EN8dRs1TKZO",
        "outputId": "309e81dc-d6e5-4e8e-d547-b8f08ff35eb9"
      },
      "execution_count": 152,
      "outputs": [
        {
          "output_type": "stream",
          "name": "stdout",
          "text": [
            "+--------------------+-------------------+\n",
            "|            features|         prediction|\n",
            "+--------------------+-------------------+\n",
            "|[6.0,93.0,23.94,9...| 10.447212803687185|\n",
            "|[7.0,89.6,25.5,9....|  10.89305684335819|\n",
            "|[8.0,77.499,19.5,...|  8.550968193062753|\n",
            "|[9.0,59.058,17.0,...|  7.402943836858799|\n",
            "|[9.0,81.0,21.44,9...|  9.417485510050751|\n",
            "|[9.0,90.09,25.01,...|   9.22880159154993|\n",
            "|[9.0,110.0,29.74,...| 12.121341190663614|\n",
            "|[9.0,113.0,26.74,...| 11.389709898594772|\n",
            "|[10.0,68.0,10.8,7...|  6.534299959747311|\n",
            "|[10.0,77.0,20.16,...|  8.633324274140634|\n",
            "|[10.0,138.0,31.14...| 13.134445075949332|\n",
            "|[11.0,90.09,25.01...|  8.855188014026442|\n",
            "|[11.0,91.0,20.32,...|  9.163642925693148|\n",
            "|[11.0,138.0,31.14...|  13.13116791557177|\n",
            "|[12.0,2.329,0.94,...|0.35605563224013936|\n",
            "|[12.0,25.0,3.88,5...| 3.0917322104523137|\n",
            "|[12.0,77.104,20.0...|  8.723819909396084|\n",
            "|[12.0,88.5,21.24,...| 10.364067958112106|\n",
            "|[12.0,90.09,25.01...|  8.851910853648882|\n",
            "|[12.0,91.0,20.32,...|  9.160365765315587|\n",
            "+--------------------+-------------------+\n",
            "only showing top 20 rows\n",
            "\n"
          ]
        }
      ]
    },
    {
      "cell_type": "code",
      "source": [
        "# Show original labels\n",
        "test_data.show()"
      ],
      "metadata": {
        "colab": {
          "base_uri": "https://localhost:8080/"
        },
        "id": "j3LMocRmWViT",
        "outputId": "d9aeafd6-7830-45dc-db3b-309847c22ca3"
      },
      "execution_count": 153,
      "outputs": [
        {
          "output_type": "stream",
          "name": "stdout",
          "text": [
            "+--------------------+-----+\n",
            "|            features| crew|\n",
            "+--------------------+-----+\n",
            "|[6.0,93.0,23.94,9...|11.09|\n",
            "|[7.0,89.6,25.5,9....| 9.87|\n",
            "|[8.0,77.499,19.5,...|  9.0|\n",
            "|[9.0,59.058,17.0,...|  7.4|\n",
            "|[9.0,81.0,21.44,9...| 10.0|\n",
            "|[9.0,90.09,25.01,...| 8.69|\n",
            "|[9.0,110.0,29.74,...| 11.6|\n",
            "|[9.0,113.0,26.74,...|12.38|\n",
            "|[10.0,68.0,10.8,7...| 6.36|\n",
            "|[10.0,77.0,20.16,...|  9.0|\n",
            "|[10.0,138.0,31.14...|11.85|\n",
            "|[11.0,90.09,25.01...| 8.48|\n",
            "|[11.0,91.0,20.32,...| 9.99|\n",
            "|[11.0,138.0,31.14...|11.85|\n",
            "|[12.0,2.329,0.94,...|  0.6|\n",
            "|[12.0,25.0,3.88,5...| 2.87|\n",
            "|[12.0,77.104,20.0...| 9.59|\n",
            "|[12.0,88.5,21.24,...|  9.3|\n",
            "|[12.0,90.09,25.01...| 8.68|\n",
            "|[12.0,91.0,20.32,...| 9.99|\n",
            "+--------------------+-----+\n",
            "only showing top 20 rows\n",
            "\n"
          ]
        }
      ]
    },
    {
      "cell_type": "code",
      "source": [],
      "metadata": {
        "id": "dlzVoBSRWYt0"
      },
      "execution_count": null,
      "outputs": []
    }
  ],
  "metadata": {
    "anaconda-cloud": {},
    "kernelspec": {
      "display_name": "Python 3",
      "language": "python",
      "name": "python3"
    },
    "language_info": {
      "codemirror_mode": {
        "name": "ipython",
        "version": 3
      },
      "file_extension": ".py",
      "mimetype": "text/x-python",
      "name": "python",
      "nbconvert_exporter": "python",
      "pygments_lexer": "ipython3",
      "version": "3.10.8"
    },
    "colab": {
      "provenance": [],
      "include_colab_link": true
    }
  },
  "nbformat": 4,
  "nbformat_minor": 0
}