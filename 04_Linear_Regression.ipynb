{
  "nbformat": 4,
  "nbformat_minor": 0,
  "metadata": {
    "colab": {
      "provenance": [],
      "authorship_tag": "ABX9TyPyji5+j+ilfoKvd9cPy7jh",
      "include_colab_link": true
    },
    "kernelspec": {
      "name": "python3",
      "display_name": "Python 3"
    },
    "language_info": {
      "name": "python"
    }
  },
  "cells": [
    {
      "cell_type": "markdown",
      "metadata": {
        "id": "view-in-github",
        "colab_type": "text"
      },
      "source": [
        "<a href=\"https://colab.research.google.com/github/Ricardo-Jaramillo/PySpark/blob/main/04_Linear_Regression.ipynb\" target=\"_parent\"><img src=\"https://colab.research.google.com/assets/colab-badge.svg\" alt=\"Open In Colab\"/></a>"
      ]
    },
    {
      "cell_type": "markdown",
      "source": [
        "# Machine Learning Method\n",
        "\n",
        "Now let's implement some of the most common machine learning methoda for supervised and unsupervised learning (Refer to the documentation whenever needed: https://spark.apache.org/docs/latest/ml-guide.html)\n",
        "\n",
        "To distiguish between both of kinds of models:\n",
        "\n",
        "## Supervised Models\n",
        "If the data has historical labels so there is more likely to treat that problem with a supervised learning model.\n",
        "\n",
        "Supervised models use patterns to predict the values of the label on addtional unlabeled data. Is commonly used where historical data predict likely future events.\n",
        "\n",
        "Most Supervised models include:\n",
        "  * Classification\n",
        "  * Regression\n",
        "  * Prediction\n",
        "  * Gradient boosting\n",
        "\n",
        "## Unsupervised Models\n",
        "If the problem works with non historical label data, the problems might need an unsupervised learning model.\n",
        "\n",
        "There's no \"right answer\". The algorithm must figure it out what is happening.\n",
        "\n",
        "It could be difficult to evaluate results of an unsupervised model.\n",
        "\n",
        "Some of unsupervised models are:\n",
        "  * Self-organizing maps\n",
        "  * Nearest-neighbor mapping\n",
        "  * K-means klustering\n",
        "  * Singular value decomposition\n",
        "\n",
        "\n"
      ],
      "metadata": {
        "id": "cbP7uatYRq66"
      }
    },
    {
      "cell_type": "markdown",
      "source": [
        "We're going to be reviewing some of the Spark MLlib documentation in order to code the next steps. Here's the reference for future look: https://spark.apache.org/docs/latest/ml-guide.html"
      ],
      "metadata": {
        "id": "ys_HOU6yUBY7"
      }
    },
    {
      "cell_type": "code",
      "source": [
        "# Install pyspark\n",
        "!pip install pyspark"
      ],
      "metadata": {
        "colab": {
          "base_uri": "https://localhost:8080/"
        },
        "id": "cjlP-ZXFYV_T",
        "outputId": "5940de55-20df-4983-ec73-ec334e49ae30"
      },
      "execution_count": 1,
      "outputs": [
        {
          "output_type": "stream",
          "name": "stdout",
          "text": [
            "Collecting pyspark\n",
            "  Downloading pyspark-3.5.0.tar.gz (316.9 MB)\n",
            "\u001b[2K     \u001b[90m━━━━━━━━━━━━━━━━━━━━━━━━━━━━━━━━━━━━━━━\u001b[0m \u001b[32m316.9/316.9 MB\u001b[0m \u001b[31m3.4 MB/s\u001b[0m eta \u001b[36m0:00:00\u001b[0m\n",
            "\u001b[?25h  Preparing metadata (setup.py) ... \u001b[?25l\u001b[?25hdone\n",
            "Requirement already satisfied: py4j==0.10.9.7 in /usr/local/lib/python3.10/dist-packages (from pyspark) (0.10.9.7)\n",
            "Building wheels for collected packages: pyspark\n",
            "  Building wheel for pyspark (setup.py) ... \u001b[?25l\u001b[?25hdone\n",
            "  Created wheel for pyspark: filename=pyspark-3.5.0-py2.py3-none-any.whl size=317425344 sha256=e462047c4f2b62b7e8217a5d8de3f0b692e6dd40f0bb85563d5284e1a1828289\n",
            "  Stored in directory: /root/.cache/pip/wheels/41/4e/10/c2cf2467f71c678cfc8a6b9ac9241e5e44a01940da8fbb17fc\n",
            "Successfully built pyspark\n",
            "Installing collected packages: pyspark\n",
            "Successfully installed pyspark-3.5.0\n"
          ]
        }
      ]
    },
    {
      "cell_type": "code",
      "source": [
        "# Download data file\n",
        "!wget https://raw.githubusercontent.com/Ricardo-Jaramillo/PySpark/main/datasets/sample_linear_regression_data.txt"
      ],
      "metadata": {
        "colab": {
          "base_uri": "https://localhost:8080/"
        },
        "id": "c04bbEhR6TXi",
        "outputId": "f40844cf-732c-4f86-84ff-2848fb0020b6"
      },
      "execution_count": 3,
      "outputs": [
        {
          "output_type": "stream",
          "name": "stdout",
          "text": [
            "--2023-10-03 05:02:30--  https://raw.githubusercontent.com/Ricardo-Jaramillo/PySpark/main/datasets/sample_linear_regression_data.txt\n",
            "Resolving raw.githubusercontent.com (raw.githubusercontent.com)... 185.199.109.133, 185.199.110.133, 185.199.111.133, ...\n",
            "Connecting to raw.githubusercontent.com (raw.githubusercontent.com)|185.199.109.133|:443... connected.\n",
            "HTTP request sent, awaiting response... 200 OK\n",
            "Length: 119069 (116K) [text/plain]\n",
            "Saving to: ‘sample_linear_regression_data.txt’\n",
            "\n",
            "\r          sample_li   0%[                    ]       0  --.-KB/s               \rsample_linear_regre 100%[===================>] 116.28K  --.-KB/s    in 0.02s   \n",
            "\n",
            "2023-10-03 05:02:30 (4.71 MB/s) - ‘sample_linear_regression_data.txt’ saved [119069/119069]\n",
            "\n"
          ]
        }
      ]
    },
    {
      "cell_type": "code",
      "source": [
        "# Import pyspark\n",
        "from pyspark.sql import SparkSession\n",
        "from pyspark.ml.regression import LinearRegression"
      ],
      "metadata": {
        "id": "tZDuyPSC6ktn"
      },
      "execution_count": 4,
      "outputs": []
    },
    {
      "cell_type": "code",
      "source": [
        "# Init Spark Session\n",
        "spark = SparkSession.builder.appName('lrex').getOrCreate()"
      ],
      "metadata": {
        "id": "ZUJ0q79h66cf"
      },
      "execution_count": 5,
      "outputs": []
    },
    {
      "cell_type": "code",
      "source": [
        "# Read in the file\n",
        "training = spark.read.format('libsvm').load('sample_linear_regression_data.txt')\n",
        "training.show()"
      ],
      "metadata": {
        "colab": {
          "base_uri": "https://localhost:8080/"
        },
        "id": "avQBEyj37FnF",
        "outputId": "b346d137-1924-4565-a8f7-2f93fe54ceb0"
      },
      "execution_count": 7,
      "outputs": [
        {
          "output_type": "stream",
          "name": "stdout",
          "text": [
            "+-------------------+--------------------+\n",
            "|              label|            features|\n",
            "+-------------------+--------------------+\n",
            "| -9.490009878824548|(10,[0,1,2,3,4,5,...|\n",
            "| 0.2577820163584905|(10,[0,1,2,3,4,5,...|\n",
            "| -4.438869807456516|(10,[0,1,2,3,4,5,...|\n",
            "|-19.782762789614537|(10,[0,1,2,3,4,5,...|\n",
            "| -7.966593841555266|(10,[0,1,2,3,4,5,...|\n",
            "| -7.896274316726144|(10,[0,1,2,3,4,5,...|\n",
            "| -8.464803554195287|(10,[0,1,2,3,4,5,...|\n",
            "| 2.1214592666251364|(10,[0,1,2,3,4,5,...|\n",
            "| 1.0720117616524107|(10,[0,1,2,3,4,5,...|\n",
            "|-13.772441561702871|(10,[0,1,2,3,4,5,...|\n",
            "| -5.082010756207233|(10,[0,1,2,3,4,5,...|\n",
            "|  7.887786536531237|(10,[0,1,2,3,4,5,...|\n",
            "| 14.323146365332388|(10,[0,1,2,3,4,5,...|\n",
            "|-20.057482615789212|(10,[0,1,2,3,4,5,...|\n",
            "|-0.8995693247765151|(10,[0,1,2,3,4,5,...|\n",
            "| -19.16829262296376|(10,[0,1,2,3,4,5,...|\n",
            "|  5.601801561245534|(10,[0,1,2,3,4,5,...|\n",
            "|-3.2256352187273354|(10,[0,1,2,3,4,5,...|\n",
            "| 1.5299675726687754|(10,[0,1,2,3,4,5,...|\n",
            "| -0.250102447941961|(10,[0,1,2,3,4,5,...|\n",
            "+-------------------+--------------------+\n",
            "only showing top 20 rows\n",
            "\n"
          ]
        }
      ]
    },
    {
      "cell_type": "markdown",
      "source": [
        "## First, this is how NOT to create a model.\n",
        "Including all data as training dataset"
      ],
      "metadata": {
        "id": "E87oPSZZA80Y"
      }
    },
    {
      "cell_type": "code",
      "source": [
        "# Define the Linear Regression object\n",
        "lr = LinearRegression(featuresCol='features', labelCol='label', predictionCol='prediction')"
      ],
      "metadata": {
        "id": "FEvZp4ib7SkD"
      },
      "execution_count": 9,
      "outputs": []
    },
    {
      "cell_type": "code",
      "source": [
        "# Train the model with the train_data\n",
        "lrModel = lr.fit(training)"
      ],
      "metadata": {
        "id": "ZEY8s2Vj7nel"
      },
      "execution_count": 10,
      "outputs": []
    },
    {
      "cell_type": "code",
      "source": [
        "# Show the learned coefficients model\n",
        "lrModel.coefficients"
      ],
      "metadata": {
        "colab": {
          "base_uri": "https://localhost:8080/"
        },
        "id": "yGRPTigf71Cm",
        "outputId": "d5584f22-38fc-406c-d041-cf57212269ce"
      },
      "execution_count": 12,
      "outputs": [
        {
          "output_type": "execute_result",
          "data": {
            "text/plain": [
              "DenseVector([0.0073, 0.8314, -0.8095, 2.4412, 0.5192, 1.1535, -0.2989, -0.5129, -0.6197, 0.6956])"
            ]
          },
          "metadata": {},
          "execution_count": 12
        }
      ]
    },
    {
      "cell_type": "code",
      "source": [
        "# Show the y interception\n",
        "lrModel.intercept"
      ],
      "metadata": {
        "colab": {
          "base_uri": "https://localhost:8080/"
        },
        "id": "fUdagrns76VR",
        "outputId": "2b5f3a19-8c42-47ab-ec7e-9bee5eeccc67"
      },
      "execution_count": 14,
      "outputs": [
        {
          "output_type": "execute_result",
          "data": {
            "text/plain": [
              "0.14228558260358093"
            ]
          },
          "metadata": {},
          "execution_count": 14
        }
      ]
    },
    {
      "cell_type": "code",
      "source": [
        "# Save the model summaty in a variable\n",
        "training_summary = lrModel.summary"
      ],
      "metadata": {
        "id": "s_Bn7rNx8BWc"
      },
      "execution_count": 17,
      "outputs": []
    },
    {
      "cell_type": "code",
      "source": [
        "# Print the MSE\n",
        "training_summary.rootMeanSquaredError"
      ],
      "metadata": {
        "colab": {
          "base_uri": "https://localhost:8080/"
        },
        "id": "NxCcq0An8IIs",
        "outputId": "82e7117d-dff2-43a9-d448-b4c95246dbec"
      },
      "execution_count": 18,
      "outputs": [
        {
          "output_type": "execute_result",
          "data": {
            "text/plain": [
              "10.16309157133015"
            ]
          },
          "metadata": {},
          "execution_count": 18
        }
      ]
    },
    {
      "cell_type": "markdown",
      "source": [
        "## Now this is the right way to create and train the model\n",
        "Split on test and train"
      ],
      "metadata": {
        "id": "Nwjm6EVrBGMc"
      }
    },
    {
      "cell_type": "code",
      "source": [
        "# Again read in the file data\n",
        "all_data = spark.read.format('libsvm').load('sample_linear_regression_data.txt')"
      ],
      "metadata": {
        "id": "4ITJTg0y8KYG"
      },
      "execution_count": 35,
      "outputs": []
    },
    {
      "cell_type": "code",
      "source": [
        "# Split into train and test\n",
        "train_data, test_data = all_data.randomSplit([0.7, 0.3])"
      ],
      "metadata": {
        "id": "akNrC2IN8dX9"
      },
      "execution_count": 23,
      "outputs": []
    },
    {
      "cell_type": "code",
      "source": [
        "# Show the train_data\n",
        "train_data.show()"
      ],
      "metadata": {
        "colab": {
          "base_uri": "https://localhost:8080/"
        },
        "id": "DxktuTri8kg9",
        "outputId": "71f4c98c-aac8-4a80-fa4d-a6407044622d"
      },
      "execution_count": 24,
      "outputs": [
        {
          "output_type": "stream",
          "name": "stdout",
          "text": [
            "+-------------------+--------------------+\n",
            "|              label|            features|\n",
            "+-------------------+--------------------+\n",
            "|-28.571478869743427|(10,[0,1,2,3,4,5,...|\n",
            "|-28.046018037776633|(10,[0,1,2,3,4,5,...|\n",
            "|-26.805483428483072|(10,[0,1,2,3,4,5,...|\n",
            "| -23.51088409032297|(10,[0,1,2,3,4,5,...|\n",
            "|-22.837460416919342|(10,[0,1,2,3,4,5,...|\n",
            "|-21.432387764165806|(10,[0,1,2,3,4,5,...|\n",
            "|-20.212077258958672|(10,[0,1,2,3,4,5,...|\n",
            "|-20.057482615789212|(10,[0,1,2,3,4,5,...|\n",
            "|-19.884560774273424|(10,[0,1,2,3,4,5,...|\n",
            "|-19.782762789614537|(10,[0,1,2,3,4,5,...|\n",
            "| -19.66731861537172|(10,[0,1,2,3,4,5,...|\n",
            "|-19.402336030214553|(10,[0,1,2,3,4,5,...|\n",
            "| -19.16829262296376|(10,[0,1,2,3,4,5,...|\n",
            "|-18.845922472898582|(10,[0,1,2,3,4,5,...|\n",
            "| -18.27521356600463|(10,[0,1,2,3,4,5,...|\n",
            "|-17.803626188664516|(10,[0,1,2,3,4,5,...|\n",
            "|-17.494200356883344|(10,[0,1,2,3,4,5,...|\n",
            "|-17.428674570939506|(10,[0,1,2,3,4,5,...|\n",
            "|-17.065399625876015|(10,[0,1,2,3,4,5,...|\n",
            "|-17.026492264209548|(10,[0,1,2,3,4,5,...|\n",
            "+-------------------+--------------------+\n",
            "only showing top 20 rows\n",
            "\n"
          ]
        }
      ]
    },
    {
      "cell_type": "code",
      "source": [
        "# Describe the train_data\n",
        "train_data.describe().show()"
      ],
      "metadata": {
        "colab": {
          "base_uri": "https://localhost:8080/"
        },
        "id": "eTM1ejHv8leP",
        "outputId": "3815f74e-aa40-4649-bf78-ac113d237b1e"
      },
      "execution_count": 36,
      "outputs": [
        {
          "output_type": "stream",
          "name": "stdout",
          "text": [
            "+-------+-------------------+\n",
            "|summary|              label|\n",
            "+-------+-------------------+\n",
            "|  count|                365|\n",
            "|   mean|0.16556937384948994|\n",
            "| stddev| 10.197775067613874|\n",
            "|    min|-28.571478869743427|\n",
            "|    max|  27.78383192005107|\n",
            "+-------+-------------------+\n",
            "\n"
          ]
        }
      ]
    },
    {
      "cell_type": "code",
      "source": [
        "# Train the model ONLY on the train_data\n",
        "correct_model = lr.fit(train_data)"
      ],
      "metadata": {
        "id": "v1Q2l3BZ801G"
      },
      "execution_count": 37,
      "outputs": []
    },
    {
      "cell_type": "code",
      "source": [
        "# Evaluate on the test data (data that has not been seen by the model yet)\n",
        "test_results = correct_model.evaluate(test_data)"
      ],
      "metadata": {
        "id": "dkBG2QTj87bM"
      },
      "execution_count": 39,
      "outputs": []
    },
    {
      "cell_type": "code",
      "source": [
        "# Show the errors\n",
        "test_results.residuals.show()"
      ],
      "metadata": {
        "colab": {
          "base_uri": "https://localhost:8080/"
        },
        "id": "V7BmVX4D9CzJ",
        "outputId": "a1be9012-7221-438b-d4c7-4b986df1ecfd"
      },
      "execution_count": 53,
      "outputs": [
        {
          "output_type": "stream",
          "name": "stdout",
          "text": [
            "+-------------------+\n",
            "|          residuals|\n",
            "+-------------------+\n",
            "|-22.803378454221637|\n",
            "| -22.19547804100331|\n",
            "|-27.360655037131597|\n",
            "|-20.382473623411446|\n",
            "|-17.294080603857708|\n",
            "|-17.126928380878944|\n",
            "|-18.829610556326138|\n",
            "| -16.43412388719373|\n",
            "| -19.65586108802081|\n",
            "|-14.245286217629841|\n",
            "|-15.576967483611172|\n",
            "|-14.164669751487567|\n",
            "| -20.46574485782032|\n",
            "|-14.194536366505776|\n",
            "|-17.544789986964652|\n",
            "|-14.113655153292717|\n",
            "|-14.948296411131482|\n",
            "|-14.167173536885606|\n",
            "|-14.479775478929724|\n",
            "| -7.303395935959501|\n",
            "+-------------------+\n",
            "only showing top 20 rows\n",
            "\n"
          ]
        }
      ]
    },
    {
      "cell_type": "code",
      "source": [
        "# Calculate the MSE of the model\n",
        "test_results.meanSquaredError"
      ],
      "metadata": {
        "colab": {
          "base_uri": "https://localhost:8080/"
        },
        "id": "HP4Ji5279Fip",
        "outputId": "acf1c8d9-710e-4301-b7a2-9d97620e0efd"
      },
      "execution_count": 41,
      "outputs": [
        {
          "output_type": "execute_result",
          "data": {
            "text/plain": [
              "120.38478771428925"
            ]
          },
          "metadata": {},
          "execution_count": 41
        }
      ]
    },
    {
      "cell_type": "markdown",
      "source": [
        "## Make some predictions"
      ],
      "metadata": {
        "id": "zYYCG-4WBs4j"
      }
    },
    {
      "cell_type": "code",
      "source": [
        "# Now let's extract the features to which we're gonna make predictions (from the test data)\n",
        "unlabeled_data = test_data.select('features')\n",
        "unlabeled_data.show()"
      ],
      "metadata": {
        "colab": {
          "base_uri": "https://localhost:8080/"
        },
        "id": "mb1sStK39KQG",
        "outputId": "b8329606-a05a-407a-b51a-916eb2bbf08c"
      },
      "execution_count": 43,
      "outputs": [
        {
          "output_type": "stream",
          "name": "stdout",
          "text": [
            "+--------------------+\n",
            "|            features|\n",
            "+--------------------+\n",
            "|(10,[0,1,2,3,4,5,...|\n",
            "|(10,[0,1,2,3,4,5,...|\n",
            "|(10,[0,1,2,3,4,5,...|\n",
            "|(10,[0,1,2,3,4,5,...|\n",
            "|(10,[0,1,2,3,4,5,...|\n",
            "|(10,[0,1,2,3,4,5,...|\n",
            "|(10,[0,1,2,3,4,5,...|\n",
            "|(10,[0,1,2,3,4,5,...|\n",
            "|(10,[0,1,2,3,4,5,...|\n",
            "|(10,[0,1,2,3,4,5,...|\n",
            "|(10,[0,1,2,3,4,5,...|\n",
            "|(10,[0,1,2,3,4,5,...|\n",
            "|(10,[0,1,2,3,4,5,...|\n",
            "|(10,[0,1,2,3,4,5,...|\n",
            "|(10,[0,1,2,3,4,5,...|\n",
            "|(10,[0,1,2,3,4,5,...|\n",
            "|(10,[0,1,2,3,4,5,...|\n",
            "|(10,[0,1,2,3,4,5,...|\n",
            "|(10,[0,1,2,3,4,5,...|\n",
            "|(10,[0,1,2,3,4,5,...|\n",
            "+--------------------+\n",
            "only showing top 20 rows\n",
            "\n"
          ]
        }
      ]
    },
    {
      "cell_type": "code",
      "source": [
        "# Make predictions\n",
        "predictions = correct_model.transform(unlabeled_data)"
      ],
      "metadata": {
        "id": "ac3jRism9YI0"
      },
      "execution_count": 44,
      "outputs": []
    },
    {
      "cell_type": "code",
      "source": [
        "# Show predictions\n",
        "predictions.show()"
      ],
      "metadata": {
        "colab": {
          "base_uri": "https://localhost:8080/"
        },
        "id": "SWQ9cS949c-C",
        "outputId": "7b138d48-fb76-4808-fc96-aae669f3dac9"
      },
      "execution_count": 46,
      "outputs": [
        {
          "output_type": "stream",
          "name": "stdout",
          "text": [
            "+--------------------+--------------------+\n",
            "|            features|          prediction|\n",
            "+--------------------+--------------------+\n",
            "|(10,[0,1,2,3,4,5,...| -3.9328287283800862|\n",
            "|(10,[0,1,2,3,4,5,...| -1.2919620799332014|\n",
            "|(10,[0,1,2,3,4,5,...|   4.410829100935522|\n",
            "|(10,[0,1,2,3,4,5,...|  0.5094825853430384|\n",
            "|(10,[0,1,2,3,4,5,...|-0.03264012881823944|\n",
            "|(10,[0,1,2,3,4,5,...|  0.4078315472738539|\n",
            "|(10,[0,1,2,3,4,5,...|   2.137403535015033|\n",
            "|(10,[0,1,2,3,4,5,...|  0.3484648461722426|\n",
            "|(10,[0,1,2,3,4,5,...|   3.875176055397509|\n",
            "|(10,[0,1,2,3,4,5,...| -0.5768666921213478|\n",
            "|(10,[0,1,2,3,4,5,...|  0.8142092306800462|\n",
            "|(10,[0,1,2,3,4,5,...|  0.2975818563287984|\n",
            "|(10,[0,1,2,3,4,5,...|   6.693303296117446|\n",
            "|(10,[0,1,2,3,4,5,...|  1.1546083024011606|\n",
            "|(10,[0,1,2,3,4,5,...|   4.622566883594231|\n",
            "|(10,[0,1,2,3,4,5,...|   1.612881367937663|\n",
            "|(10,[0,1,2,3,4,5,...|   2.456854333585069|\n",
            "|(10,[0,1,2,3,4,5,...|  1.9690769722241936|\n",
            "|(10,[0,1,2,3,4,5,...|  2.6016079789628828|\n",
            "|(10,[0,1,2,3,4,5,...|  -4.337153741929325|\n",
            "+--------------------+--------------------+\n",
            "only showing top 20 rows\n",
            "\n"
          ]
        }
      ]
    },
    {
      "cell_type": "code",
      "source": [],
      "metadata": {
        "id": "cLMccPvvCXuN"
      },
      "execution_count": null,
      "outputs": []
    }
  ]
}