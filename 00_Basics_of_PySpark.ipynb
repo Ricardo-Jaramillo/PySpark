{
  "nbformat": 4,
  "nbformat_minor": 0,
  "metadata": {
    "colab": {
      "provenance": [],
      "authorship_tag": "ABX9TyPdWx3fOI92JuFlT/0jfWe8",
      "include_colab_link": true
    },
    "kernelspec": {
      "name": "python3",
      "display_name": "Python 3"
    },
    "language_info": {
      "name": "python"
    }
  },
  "cells": [
    {
      "cell_type": "markdown",
      "metadata": {
        "id": "view-in-github",
        "colab_type": "text"
      },
      "source": [
        "<a href=\"https://colab.research.google.com/github/Ricardo-Jaramillo/PySpark/blob/main/00_Basics_of_PySpark.ipynb\" target=\"_parent\"><img src=\"https://colab.research.google.com/assets/colab-badge.svg\" alt=\"Open In Colab\"/></a>"
      ]
    },
    {
      "cell_type": "markdown",
      "source": [
        "# PySpark Basics"
      ],
      "metadata": {
        "id": "JHmYdLJZmDR9"
      }
    },
    {
      "cell_type": "markdown",
      "source": [
        "In this notebook I'll follow the course of Jose Portilla and apply some of my own comments.\n",
        "The course shows how to install and use PySpark in 4 different ways, a Virtual Machine Environment was sett as the main way.\n",
        "\n",
        "Originally the course is taken with a linux OS in a VM env. I just moved onto Colab and here's my journey..."
      ],
      "metadata": {
        "id": "HnmXdZtimHjx"
      }
    },
    {
      "cell_type": "markdown",
      "source": [
        "## Install pyspark and get familiar with its sintax"
      ],
      "metadata": {
        "id": "qVp63zakoSO_"
      }
    },
    {
      "cell_type": "code",
      "execution_count": 32,
      "metadata": {
        "id": "ltIs8Bby9Fp-",
        "colab": {
          "base_uri": "https://localhost:8080/"
        },
        "outputId": "9e67ecce-d70d-40e1-fbd2-0d5f929c3f5b"
      },
      "outputs": [
        {
          "output_type": "stream",
          "name": "stdout",
          "text": [
            "Requirement already satisfied: pyspark in /usr/local/lib/python3.10/dist-packages (3.5.0)\n",
            "Requirement already satisfied: py4j==0.10.9.7 in /usr/local/lib/python3.10/dist-packages (from pyspark) (0.10.9.7)\n"
          ]
        }
      ],
      "source": [
        "# Install and import pyspark libraries\n",
        "!pip install pyspark\n",
        "\n",
        "import pyspark\n",
        "from pyspark.sql import SparkSession"
      ]
    },
    {
      "cell_type": "code",
      "source": [
        "# Init Spark\n",
        "spark = SparkSession.builder.appName('Basics').getOrCreate()"
      ],
      "metadata": {
        "id": "4ts3Db1tlbeP"
      },
      "execution_count": 33,
      "outputs": []
    },
    {
      "cell_type": "code",
      "source": [
        "# Get our first dataframe\n",
        "df = spark.read.json('people.json')"
      ],
      "metadata": {
        "id": "ZW7FADR8lj5E"
      },
      "execution_count": 34,
      "outputs": []
    },
    {
      "cell_type": "code",
      "source": [
        "# Show our dataframe\n",
        "df.show()"
      ],
      "metadata": {
        "colab": {
          "base_uri": "https://localhost:8080/"
        },
        "id": "OWTdwJyulv7m",
        "outputId": "c3fb91e7-1403-4a20-acb3-c3ffab356f10"
      },
      "execution_count": 35,
      "outputs": [
        {
          "output_type": "stream",
          "name": "stdout",
          "text": [
            "+----+-------+\n",
            "| age|   name|\n",
            "+----+-------+\n",
            "|NULL|Michael|\n",
            "|  30|   Andy|\n",
            "|  19| Justin|\n",
            "+----+-------+\n",
            "\n"
          ]
        }
      ]
    },
    {
      "cell_type": "code",
      "source": [
        "# Get the current schema of the df\n",
        "df.printSchema()"
      ],
      "metadata": {
        "colab": {
          "base_uri": "https://localhost:8080/"
        },
        "id": "PtxyNtBxl5zf",
        "outputId": "dc570099-24a4-4556-c0ae-e2a27af4b0fe"
      },
      "execution_count": 36,
      "outputs": [
        {
          "output_type": "stream",
          "name": "stdout",
          "text": [
            "root\n",
            " |-- age: long (nullable = true)\n",
            " |-- name: string (nullable = true)\n",
            "\n"
          ]
        }
      ]
    },
    {
      "cell_type": "code",
      "source": [
        "# Get columns\n",
        "df.columns"
      ],
      "metadata": {
        "colab": {
          "base_uri": "https://localhost:8080/"
        },
        "id": "z7nc3jFml8V_",
        "outputId": "9169b015-1356-4a32-f8d2-1b4043b96121"
      },
      "execution_count": 37,
      "outputs": [
        {
          "output_type": "execute_result",
          "data": {
            "text/plain": [
              "['age', 'name']"
            ]
          },
          "metadata": {},
          "execution_count": 37
        }
      ]
    },
    {
      "cell_type": "code",
      "source": [
        "# Describe df\n",
        "df.describe().show()"
      ],
      "metadata": {
        "colab": {
          "base_uri": "https://localhost:8080/"
        },
        "id": "tC9zp1slnebn",
        "outputId": "8fa85ca2-e111-4d4c-cbb0-0180c13f4d8d"
      },
      "execution_count": 38,
      "outputs": [
        {
          "output_type": "stream",
          "name": "stdout",
          "text": [
            "+-------+------------------+-------+\n",
            "|summary|               age|   name|\n",
            "+-------+------------------+-------+\n",
            "|  count|                 2|      3|\n",
            "|   mean|              24.5|   NULL|\n",
            "| stddev|7.7781745930520225|   NULL|\n",
            "|    min|                19|   Andy|\n",
            "|    max|                30|Michael|\n",
            "+-------+------------------+-------+\n",
            "\n"
          ]
        }
      ]
    },
    {
      "cell_type": "markdown",
      "source": [
        "## Change the schema type"
      ],
      "metadata": {
        "id": "9iwmUolLoQJE"
      }
    },
    {
      "cell_type": "code",
      "source": [
        "# import methods\n",
        "from pyspark.sql.types import (StructField, StringType,\n",
        "                               IntegerType, StructType)"
      ],
      "metadata": {
        "id": "mDCjWfvanime"
      },
      "execution_count": 39,
      "outputs": []
    },
    {
      "cell_type": "code",
      "source": [
        "# Create the new schema and set in final struct\n",
        "data_schema = [StructField('age', IntegerType(), True),\n",
        "               StructField('name', StringType(), True)]\n",
        "\n",
        "final_struct = StructType(fields=data_schema)"
      ],
      "metadata": {
        "id": "uAqUH_LcoA65"
      },
      "execution_count": 40,
      "outputs": []
    },
    {
      "cell_type": "code",
      "source": [
        "# Read in again people.json with the new struct\n",
        "df_int = spark.read.json('people.json', schema=final_struct)"
      ],
      "metadata": {
        "id": "edrZvfKVomF2"
      },
      "execution_count": 41,
      "outputs": []
    },
    {
      "cell_type": "code",
      "source": [
        "# Print the new df\n",
        "df_int.printSchema()"
      ],
      "metadata": {
        "colab": {
          "base_uri": "https://localhost:8080/"
        },
        "id": "UTSNo9THovcS",
        "outputId": "c2e3088d-1342-4ad5-c39d-6f91c23a300c"
      },
      "execution_count": 42,
      "outputs": [
        {
          "output_type": "stream",
          "name": "stdout",
          "text": [
            "root\n",
            " |-- age: integer (nullable = true)\n",
            " |-- name: string (nullable = true)\n",
            "\n"
          ]
        }
      ]
    },
    {
      "cell_type": "code",
      "source": [
        "df.printSchema()"
      ],
      "metadata": {
        "colab": {
          "base_uri": "https://localhost:8080/"
        },
        "id": "Wh1ksy6WowRc",
        "outputId": "fd1af848-3b46-4146-c7ce-9013ae3bacb5"
      },
      "execution_count": 43,
      "outputs": [
        {
          "output_type": "stream",
          "name": "stdout",
          "text": [
            "root\n",
            " |-- age: long (nullable = true)\n",
            " |-- name: string (nullable = true)\n",
            "\n"
          ]
        }
      ]
    },
    {
      "cell_type": "markdown",
      "source": [
        "## Work with columns"
      ],
      "metadata": {
        "id": "ot85pCUcpU51"
      }
    },
    {
      "cell_type": "code",
      "source": [
        "# Print type of entire column and its type\n",
        "df['age'], type(df['age'])"
      ],
      "metadata": {
        "colab": {
          "base_uri": "https://localhost:8080/"
        },
        "id": "6emsrHnupg6_",
        "outputId": "d0f518bc-39f6-4555-d2ba-f1f8a81a1227"
      },
      "execution_count": 47,
      "outputs": [
        {
          "output_type": "execute_result",
          "data": {
            "text/plain": [
              "(Column<'age'>, pyspark.sql.column.Column)"
            ]
          },
          "metadata": {},
          "execution_count": 47
        }
      ]
    },
    {
      "cell_type": "code",
      "source": [
        "# Get the values of that column\n",
        "df.select('age').show()"
      ],
      "metadata": {
        "colab": {
          "base_uri": "https://localhost:8080/"
        },
        "id": "qxW4vK2kpm7K",
        "outputId": "ee633cdc-1c93-4f17-a89d-79dfc7c0918e"
      },
      "execution_count": 48,
      "outputs": [
        {
          "output_type": "stream",
          "name": "stdout",
          "text": [
            "+----+\n",
            "| age|\n",
            "+----+\n",
            "|NULL|\n",
            "|  30|\n",
            "|  19|\n",
            "+----+\n",
            "\n"
          ]
        }
      ]
    },
    {
      "cell_type": "code",
      "source": [
        "# Get a single row of the dataframe\n",
        "df.head(2)[0], type(df.head(2)[0])"
      ],
      "metadata": {
        "colab": {
          "base_uri": "https://localhost:8080/"
        },
        "id": "q9---C5_pq-P",
        "outputId": "8940cfe3-866f-4e79-bd94-09515869268c"
      },
      "execution_count": 55,
      "outputs": [
        {
          "output_type": "execute_result",
          "data": {
            "text/plain": [
              "(Row(age=None, name='Michael'), pyspark.sql.types.Row)"
            ]
          },
          "metadata": {},
          "execution_count": 55
        }
      ]
    },
    {
      "cell_type": "code",
      "source": [
        "# Select column values\n",
        "df.select(['age', 'name']).show()"
      ],
      "metadata": {
        "colab": {
          "base_uri": "https://localhost:8080/"
        },
        "id": "eCkNWBwwp7Gu",
        "outputId": "5e3d5e0a-9a74-4896-8a4b-1f36dc7acaaa"
      },
      "execution_count": 57,
      "outputs": [
        {
          "output_type": "stream",
          "name": "stdout",
          "text": [
            "+----+-------+\n",
            "| age|   name|\n",
            "+----+-------+\n",
            "|NULL|Michael|\n",
            "|  30|   Andy|\n",
            "|  19| Justin|\n",
            "+----+-------+\n",
            "\n"
          ]
        }
      ]
    },
    {
      "cell_type": "code",
      "source": [
        "# Show a new column\n",
        "df.withColumn('double_age', df['age']*2).show()"
      ],
      "metadata": {
        "colab": {
          "base_uri": "https://localhost:8080/"
        },
        "id": "HcfdJ9cFqLXD",
        "outputId": "45be9a9e-de44-4543-e983-43593b565337"
      },
      "execution_count": 59,
      "outputs": [
        {
          "output_type": "stream",
          "name": "stdout",
          "text": [
            "+----+-------+----------+\n",
            "| age|   name|double_age|\n",
            "+----+-------+----------+\n",
            "|NULL|Michael|      NULL|\n",
            "|  30|   Andy|        60|\n",
            "|  19| Justin|        38|\n",
            "+----+-------+----------+\n",
            "\n"
          ]
        }
      ]
    },
    {
      "cell_type": "code",
      "source": [
        "# Show the non-modified df\n",
        "df.show()"
      ],
      "metadata": {
        "colab": {
          "base_uri": "https://localhost:8080/"
        },
        "id": "_NSkBsI_qUNJ",
        "outputId": "c7ab117b-e6b9-4642-f625-28de31a9f90a"
      },
      "execution_count": 61,
      "outputs": [
        {
          "output_type": "stream",
          "name": "stdout",
          "text": [
            "+----+-------+\n",
            "| age|   name|\n",
            "+----+-------+\n",
            "|NULL|Michael|\n",
            "|  30|   Andy|\n",
            "|  19| Justin|\n",
            "+----+-------+\n",
            "\n"
          ]
        }
      ]
    },
    {
      "cell_type": "code",
      "source": [
        "# Show a renamed column\n",
        "df.withColumnRenamed('age', 'my_new_age').show()"
      ],
      "metadata": {
        "colab": {
          "base_uri": "https://localhost:8080/"
        },
        "id": "EZutt5xeqhP_",
        "outputId": "cd96ecad-5174-40a1-915f-7465f0806019"
      },
      "execution_count": 65,
      "outputs": [
        {
          "output_type": "stream",
          "name": "stdout",
          "text": [
            "+----------+-------+\n",
            "|my_new_age|   name|\n",
            "+----------+-------+\n",
            "|      NULL|Michael|\n",
            "|        30|   Andy|\n",
            "|        19| Justin|\n",
            "+----------+-------+\n",
            "\n"
          ]
        }
      ]
    },
    {
      "cell_type": "code",
      "source": [
        "# Show the non-modified df\n",
        "df.show()"
      ],
      "metadata": {
        "colab": {
          "base_uri": "https://localhost:8080/"
        },
        "id": "Iqut8B7Fqu7n",
        "outputId": "a8472459-1580-40b9-84ad-343289ff9b2a"
      },
      "execution_count": 66,
      "outputs": [
        {
          "output_type": "stream",
          "name": "stdout",
          "text": [
            "+----+-------+\n",
            "| age|   name|\n",
            "+----+-------+\n",
            "|NULL|Michael|\n",
            "|  30|   Andy|\n",
            "|  19| Justin|\n",
            "+----+-------+\n",
            "\n"
          ]
        }
      ]
    },
    {
      "cell_type": "markdown",
      "source": [
        "## Working with SQL Sintax"
      ],
      "metadata": {
        "id": "ZO4jIKvWsksZ"
      }
    },
    {
      "cell_type": "code",
      "source": [
        "# We need to specify we'll work on a temporary view to use SQL Sintax\n",
        "df.createOrReplaceTempView('people')"
      ],
      "metadata": {
        "id": "L4ttqh1MqwKd"
      },
      "execution_count": 84,
      "outputs": []
    },
    {
      "cell_type": "code",
      "source": [
        "# Make a simple query\n",
        "results = spark.sql('SELECT * FROM people')"
      ],
      "metadata": {
        "id": "Iz7917Cuq-rt"
      },
      "execution_count": 71,
      "outputs": []
    },
    {
      "cell_type": "code",
      "source": [
        "# show results\n",
        "results.show()"
      ],
      "metadata": {
        "colab": {
          "base_uri": "https://localhost:8080/"
        },
        "id": "DT3vlTl7rDFC",
        "outputId": "56991b87-d483-4704-9f0a-5225543ac298"
      },
      "execution_count": 72,
      "outputs": [
        {
          "output_type": "stream",
          "name": "stdout",
          "text": [
            "+----+-------+\n",
            "| age|   name|\n",
            "+----+-------+\n",
            "|NULL|Michael|\n",
            "|  30|   Andy|\n",
            "|  19| Justin|\n",
            "+----+-------+\n",
            "\n"
          ]
        }
      ]
    },
    {
      "cell_type": "code",
      "source": [
        "# Make a new query request\n",
        "new_results = spark.sql('SELECT * FROM people WHERE age = 30')"
      ],
      "metadata": {
        "id": "M4KX512orDy5"
      },
      "execution_count": 85,
      "outputs": []
    },
    {
      "cell_type": "code",
      "source": [
        "# Show new_results\n",
        "new_results.show()"
      ],
      "metadata": {
        "colab": {
          "base_uri": "https://localhost:8080/"
        },
        "id": "CcwN2B9arY3a",
        "outputId": "0b5ff31a-0746-406d-fc56-6232ce5ef3e6"
      },
      "execution_count": 76,
      "outputs": [
        {
          "output_type": "stream",
          "name": "stdout",
          "text": [
            "+---+----+\n",
            "|age|name|\n",
            "+---+----+\n",
            "| 30|Andy|\n",
            "+---+----+\n",
            "\n"
          ]
        }
      ]
    },
    {
      "cell_type": "code",
      "source": [
        "# Drop temporary view\n",
        "spark.catalog.dropTempView(\"people\")"
      ],
      "metadata": {
        "colab": {
          "base_uri": "https://localhost:8080/"
        },
        "id": "VIRW17sTrc8F",
        "outputId": "0e633975-fec1-48e3-bbb7-761e9aa49ce5"
      },
      "execution_count": 86,
      "outputs": [
        {
          "output_type": "execute_result",
          "data": {
            "text/plain": [
              "True"
            ]
          },
          "metadata": {},
          "execution_count": 86
        }
      ]
    }
  ]
}