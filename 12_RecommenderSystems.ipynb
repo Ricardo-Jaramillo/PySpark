{
  "nbformat": 4,
  "nbformat_minor": 0,
  "metadata": {
    "colab": {
      "provenance": [],
      "authorship_tag": "ABX9TyOJdeZlLUZ4qnwvFYe0D2n5",
      "include_colab_link": true
    },
    "kernelspec": {
      "name": "python3",
      "display_name": "Python 3"
    },
    "language_info": {
      "name": "python"
    }
  },
  "cells": [
    {
      "cell_type": "markdown",
      "metadata": {
        "id": "view-in-github",
        "colab_type": "text"
      },
      "source": [
        "<a href=\"https://colab.research.google.com/github/Ricardo-Jaramillo/PySpark/blob/main/13_RecommenderSystems.ipynb\" target=\"_parent\"><img src=\"https://colab.research.google.com/assets/colab-badge.svg\" alt=\"Open In Colab\"/></a>"
      ]
    },
    {
      "cell_type": "markdown",
      "source": [
        "# Recommender Systems\n",
        "\n",
        "The two most common types of recommender systems are:\n",
        "* **Content-Based** and\n",
        "* **Colaborative Filtering (CF)**\n",
        "\n",
        "Focus on the attributes of the items and give you recommendations based on the similarity between them.\n",
        "\n",
        "CF is more commonly used because it usually gives better results and is relatively easy to understand.\n",
        "\n",
        "The algorithm has the ability to do feature learning on its own. It can start to learn for itself what features to use.\n",
        "\n",
        "> **NOTE:** The data need to be in a specific format to work with Spark's Alternating Least Squares (ALS) Recomendation Algorithm"
      ],
      "metadata": {
        "id": "OoXfAqe_7f8B"
      }
    },
    {
      "cell_type": "code",
      "source": [
        "\n"
      ],
      "metadata": {
        "id": "OqkpLVJZ8xFW"
      },
      "execution_count": null,
      "outputs": []
    },
    {
      "cell_type": "markdown",
      "source": [
        "## Install pyspark and download the data file"
      ],
      "metadata": {
        "id": "S9nSTPyaqb8L"
      }
    },
    {
      "cell_type": "code",
      "source": [
        "# Install pyspark\n",
        "!pip install pyspark"
      ],
      "metadata": {
        "colab": {
          "base_uri": "https://localhost:8080/"
        },
        "id": "c94mIPB_hVIT",
        "outputId": "5572e29c-4c4d-4472-f13b-6043d63e9e84"
      },
      "execution_count": 1,
      "outputs": [
        {
          "output_type": "stream",
          "name": "stdout",
          "text": [
            "Collecting pyspark\n",
            "  Downloading pyspark-3.5.0.tar.gz (316.9 MB)\n",
            "\u001b[2K     \u001b[90m━━━━━━━━━━━━━━━━━━━━━━━━━━━━━━━━━━━━━━━\u001b[0m \u001b[32m316.9/316.9 MB\u001b[0m \u001b[31m2.7 MB/s\u001b[0m eta \u001b[36m0:00:00\u001b[0m\n",
            "\u001b[?25h  Preparing metadata (setup.py) ... \u001b[?25l\u001b[?25hdone\n",
            "Requirement already satisfied: py4j==0.10.9.7 in /usr/local/lib/python3.10/dist-packages (from pyspark) (0.10.9.7)\n",
            "Building wheels for collected packages: pyspark\n",
            "  Building wheel for pyspark (setup.py) ... \u001b[?25l\u001b[?25hdone\n",
            "  Created wheel for pyspark: filename=pyspark-3.5.0-py2.py3-none-any.whl size=317425344 sha256=0b0cf1d710e67849d90aafb750bed66b3f9b8d279244910f31da948a898f7402\n",
            "  Stored in directory: /root/.cache/pip/wheels/41/4e/10/c2cf2467f71c678cfc8a6b9ac9241e5e44a01940da8fbb17fc\n",
            "Successfully built pyspark\n",
            "Installing collected packages: pyspark\n",
            "Successfully installed pyspark-3.5.0\n"
          ]
        }
      ]
    },
    {
      "cell_type": "code",
      "source": [
        "# Download the necessary data files\n",
        "!wget https://raw.githubusercontent.com/Ricardo-Jaramillo/PySpark/main/datasets/RecommenderSystems/movielens_ratings.csv\n",
        "!wget https://raw.githubusercontent.com/Ricardo-Jaramillo/PySpark/main/datasets/RecommenderSystems/Meal_Info.csv"
      ],
      "metadata": {
        "colab": {
          "base_uri": "https://localhost:8080/"
        },
        "id": "J5qIwlDIigkD",
        "outputId": "60030e42-1350-44f1-c067-e7a9de9e62c1"
      },
      "execution_count": 13,
      "outputs": [
        {
          "output_type": "stream",
          "name": "stdout",
          "text": [
            "--2023-10-04 18:45:09--  https://raw.githubusercontent.com/Ricardo-Jaramillo/PySpark/main/datasets/RecommenderSystems/movielens_ratings.csv\n",
            "Resolving raw.githubusercontent.com (raw.githubusercontent.com)... 185.199.108.133, 185.199.109.133, 185.199.110.133, ...\n",
            "Connecting to raw.githubusercontent.com (raw.githubusercontent.com)|185.199.108.133|:443... connected.\n",
            "HTTP request sent, awaiting response... 200 OK\n",
            "Length: 14373 (14K) [text/plain]\n",
            "Saving to: ‘movielens_ratings.csv.2’\n",
            "\n",
            "\rmovielens_ratings.c   0%[                    ]       0  --.-KB/s               \rmovielens_ratings.c 100%[===================>]  14.04K  --.-KB/s    in 0s      \n",
            "\n",
            "2023-10-04 18:45:09 (64.0 MB/s) - ‘movielens_ratings.csv.2’ saved [14373/14373]\n",
            "\n",
            "--2023-10-04 18:45:09--  https://raw.githubusercontent.com/Ricardo-Jaramillo/PySpark/main/datasets/RecommenderSystems/Meal_Info.csv\n",
            "Resolving raw.githubusercontent.com (raw.githubusercontent.com)... 185.199.108.133, 185.199.110.133, 185.199.111.133, ...\n",
            "Connecting to raw.githubusercontent.com (raw.githubusercontent.com)|185.199.108.133|:443... connected.\n",
            "HTTP request sent, awaiting response... 200 OK\n",
            "Length: 26307 (26K) [text/plain]\n",
            "Saving to: ‘Meal_Info.csv’\n",
            "\n",
            "Meal_Info.csv       100%[===================>]  25.69K  --.-KB/s    in 0.001s  \n",
            "\n",
            "2023-10-04 18:45:09 (19.1 MB/s) - ‘Meal_Info.csv’ saved [26307/26307]\n",
            "\n"
          ]
        }
      ]
    },
    {
      "cell_type": "markdown",
      "source": [
        "## Read in the data"
      ],
      "metadata": {
        "id": "fI4d8HJpqh72"
      }
    },
    {
      "cell_type": "code",
      "source": [
        "# Import libraries\n",
        "from pyspark.sql import SparkSession\n",
        "from pyspark.ml.recommendation import ALS\n",
        "from pyspark.ml.evaluation import RegressionEvaluator"
      ],
      "metadata": {
        "id": "egJ6n1mEiys3"
      },
      "execution_count": 3,
      "outputs": []
    },
    {
      "cell_type": "code",
      "source": [
        "# Create a session\n",
        "spark = SparkSession.builder.appName('rec').getOrCreate()"
      ],
      "metadata": {
        "id": "DXwe-ZCgi7MY"
      },
      "execution_count": 4,
      "outputs": []
    },
    {
      "cell_type": "code",
      "source": [
        "# Read in the data file\n",
        "data = spark.read.csv('movielens_ratings.csv', header=True, inferSchema=True)\n",
        "data_info = spark.read.csv('Meal_Info.csv', header=True, inferSchema=True)"
      ],
      "metadata": {
        "id": "fAkhxmpZoSe7"
      },
      "execution_count": 15,
      "outputs": []
    },
    {
      "cell_type": "code",
      "source": [
        "# Show data info\n",
        "data_info.show()"
      ],
      "metadata": {
        "colab": {
          "base_uri": "https://localhost:8080/"
        },
        "id": "RBQO1hffobgP",
        "outputId": "cb6f748e-1743-4cb1-97af-6247fa557756"
      },
      "execution_count": 16,
      "outputs": [
        {
          "output_type": "stream",
          "name": "stdout",
          "text": [
            "+-------+------+------+--------+--------------------+\n",
            "|movieId|rating|userId|mealskew|           meal_name|\n",
            "+-------+------+------+--------+--------------------+\n",
            "|      2|   3.0|     0|     2.0|       Chicken Curry|\n",
            "|      3|   1.0|     0|     3.0|Spicy Chicken Nug...|\n",
            "|      5|   2.0|     0|     5.0|           Hamburger|\n",
            "|      9|   4.0|     0|     9.0|       Taco Surprise|\n",
            "|     11|   1.0|     0|    11.0|            Meatloaf|\n",
            "|     12|   2.0|     0|    12.0|        Ceaser Salad|\n",
            "|     15|   1.0|     0|    15.0|            BBQ Ribs|\n",
            "|     17|   1.0|     0|    17.0|         Sushi Plate|\n",
            "|     19|   1.0|     0|    19.0|Cheesesteak Sandw...|\n",
            "|     21|   1.0|     0|    21.0|             Lasagna|\n",
            "|     23|   1.0|     0|    23.0|      Orange Chicken|\n",
            "|     26|   3.0|     0|    26.0|    Spicy Beef Plate|\n",
            "|     27|   1.0|     0|    27.0|Salmon with Mashe...|\n",
            "|     28|   1.0|     0|    28.0| Penne Tomatoe Pasta|\n",
            "|     29|   1.0|     0|    29.0|        Pork Sliders|\n",
            "|     30|   1.0|     0|    30.0| Vietnamese Sandwich|\n",
            "|     31|   1.0|     0|    31.0|        Chicken Wrap|\n",
            "|     34|   1.0|     0|    NULL|                NULL|\n",
            "|     37|   1.0|     0|    NULL|                NULL|\n",
            "|     41|   2.0|     0|    NULL|                NULL|\n",
            "+-------+------+------+--------+--------------------+\n",
            "only showing top 20 rows\n",
            "\n"
          ]
        }
      ]
    },
    {
      "cell_type": "code",
      "source": [
        "# Show data\n",
        "data.show()"
      ],
      "metadata": {
        "colab": {
          "base_uri": "https://localhost:8080/"
        },
        "id": "knSfjxnW_8TU",
        "outputId": "bc4ce166-50ff-4c63-8652-4f7d3f7e665d"
      },
      "execution_count": 17,
      "outputs": [
        {
          "output_type": "stream",
          "name": "stdout",
          "text": [
            "+-------+------+------+\n",
            "|movieId|rating|userId|\n",
            "+-------+------+------+\n",
            "|      2|   3.0|     0|\n",
            "|      3|   1.0|     0|\n",
            "|      5|   2.0|     0|\n",
            "|      9|   4.0|     0|\n",
            "|     11|   1.0|     0|\n",
            "|     12|   2.0|     0|\n",
            "|     15|   1.0|     0|\n",
            "|     17|   1.0|     0|\n",
            "|     19|   1.0|     0|\n",
            "|     21|   1.0|     0|\n",
            "|     23|   1.0|     0|\n",
            "|     26|   3.0|     0|\n",
            "|     27|   1.0|     0|\n",
            "|     28|   1.0|     0|\n",
            "|     29|   1.0|     0|\n",
            "|     30|   1.0|     0|\n",
            "|     31|   1.0|     0|\n",
            "|     34|   1.0|     0|\n",
            "|     37|   1.0|     0|\n",
            "|     41|   2.0|     0|\n",
            "+-------+------+------+\n",
            "only showing top 20 rows\n",
            "\n"
          ]
        }
      ]
    },
    {
      "cell_type": "code",
      "source": [
        "# Describe data\n",
        "data.describe().show()"
      ],
      "metadata": {
        "colab": {
          "base_uri": "https://localhost:8080/"
        },
        "id": "6Q4TkSphAtYC",
        "outputId": "7cf9cd5f-78d5-46b0-e709-64a8441c518f"
      },
      "execution_count": 19,
      "outputs": [
        {
          "output_type": "stream",
          "name": "stdout",
          "text": [
            "+-------+------------------+------------------+------------------+\n",
            "|summary|           movieId|            rating|            userId|\n",
            "+-------+------------------+------------------+------------------+\n",
            "|  count|              1501|              1501|              1501|\n",
            "|   mean| 49.40572951365756|1.7741505662891406|14.383744170552964|\n",
            "| stddev|28.937034065088994| 1.187276166124803| 8.591040424293272|\n",
            "|    min|                 0|               1.0|                 0|\n",
            "|    max|                99|               5.0|                29|\n",
            "+-------+------------------+------------------+------------------+\n",
            "\n"
          ]
        }
      ]
    },
    {
      "cell_type": "markdown",
      "source": [
        "## Split data"
      ],
      "metadata": {
        "id": "xAAMWQfmBzGr"
      }
    },
    {
      "cell_type": "code",
      "source": [
        "# Split into train and test data\n",
        "train_data, test_data = data.randomSplit([0.8, 0.2])"
      ],
      "metadata": {
        "id": "e9wiawMnAvTp"
      },
      "execution_count": 26,
      "outputs": []
    },
    {
      "cell_type": "markdown",
      "source": [
        "## Create the Model and Train"
      ],
      "metadata": {
        "id": "Wgq7ICQ1B1Oa"
      }
    },
    {
      "cell_type": "code",
      "source": [
        "# Create ALS object\n",
        "als = ALS(maxIter=5, regParam=0.01, userCol='userId', itemCol='movieId', ratingCol='rating')"
      ],
      "metadata": {
        "id": "z9XBCMkIA9wH"
      },
      "execution_count": 21,
      "outputs": []
    },
    {
      "cell_type": "code",
      "source": [
        "# Fit object\n",
        "model = als.fit(train_data)"
      ],
      "metadata": {
        "id": "OgxtM0B0BMDO"
      },
      "execution_count": 22,
      "outputs": []
    },
    {
      "cell_type": "code",
      "source": [
        "# Predict on model with test_data\n",
        "predictions = model.transform(test_data)"
      ],
      "metadata": {
        "id": "untZk1xXBTuJ"
      },
      "execution_count": 23,
      "outputs": []
    },
    {
      "cell_type": "code",
      "source": [
        "# Show predictions\n",
        "predictions.show()"
      ],
      "metadata": {
        "colab": {
          "base_uri": "https://localhost:8080/"
        },
        "id": "TDEkgqpzBYli",
        "outputId": "7b8d9382-b8d6-4a4f-897c-8b8b968decdc"
      },
      "execution_count": 24,
      "outputs": [
        {
          "output_type": "stream",
          "name": "stdout",
          "text": [
            "+-------+------+------+----------+\n",
            "|movieId|rating|userId|prediction|\n",
            "+-------+------+------+----------+\n",
            "|      0|   1.0|    26|-0.5986326|\n",
            "|      3|   1.0|    26| 3.0940518|\n",
            "|      2|   1.0|    12| 0.3111529|\n",
            "|      0|   1.0|     6|-0.6660721|\n",
            "|      1|   1.0|     6|-2.5745487|\n",
            "|      2|   3.0|     6| 1.9826515|\n",
            "|      0|   1.0|     3| 1.7167076|\n",
            "|      2|   1.0|     3| 1.8655846|\n",
            "|      0|   1.0|    20|0.30153486|\n",
            "|      0|   1.0|     5|0.50251114|\n",
            "|      0|   1.0|    19| 1.2818692|\n",
            "|      0|   1.0|    15| 0.5357379|\n",
            "|      5|   2.0|    15| 1.1678762|\n",
            "|      2|   3.0|     9| 1.7838337|\n",
            "|      0|   1.0|     8| 0.8033804|\n",
            "|      4|   1.0|    23| 1.2910298|\n",
            "|      0|   3.0|    10| 0.6119093|\n",
            "|      3|   1.0|    29| 1.5830213|\n",
            "|      4|   1.0|    14| 3.1710868|\n",
            "|      1|   1.0|    18| 3.8213944|\n",
            "+-------+------+------+----------+\n",
            "only showing top 20 rows\n",
            "\n"
          ]
        }
      ]
    },
    {
      "cell_type": "markdown",
      "source": [
        "## Evaluate the model"
      ],
      "metadata": {
        "id": "_ov15pb5BbDR"
      }
    },
    {
      "cell_type": "code",
      "source": [
        "# Create evaluator object\n",
        "evaluator = RegressionEvaluator(metricName='rmse', labelCol='rating', predictionCol='prediction')"
      ],
      "metadata": {
        "id": "zGF1rCj6Bw6B"
      },
      "execution_count": 27,
      "outputs": []
    },
    {
      "cell_type": "code",
      "source": [
        "# Evaluate on the prediction made\n",
        "rmse = evaluator.evaluate(predictions)"
      ],
      "metadata": {
        "id": "4N6SpwNYCESD"
      },
      "execution_count": 28,
      "outputs": []
    },
    {
      "cell_type": "code",
      "source": [
        "print(f'RMSE: {rmse}')"
      ],
      "metadata": {
        "colab": {
          "base_uri": "https://localhost:8080/"
        },
        "id": "otCdFHMjCJN5",
        "outputId": "c430cdce-83da-413c-d837-9436e3372d89"
      },
      "execution_count": 29,
      "outputs": [
        {
          "output_type": "stream",
          "name": "stdout",
          "text": [
            "RMSE: 1.61688713446252\n"
          ]
        }
      ]
    },
    {
      "cell_type": "markdown",
      "source": [
        "Not a great number, but as an example works fine."
      ],
      "metadata": {
        "id": "as0K0o37CLgD"
      }
    },
    {
      "cell_type": "markdown",
      "source": [
        "# Make predictions on Test data\n",
        "Now that we have a train model, let's recommend movies to users!"
      ],
      "metadata": {
        "id": "j0fHkQnpDRDD"
      }
    },
    {
      "cell_type": "code",
      "source": [
        "# Delect all movies from a single user\n",
        "single_user = test_data.filter(test_data['userId']==11).select(['movieId', 'userId'])"
      ],
      "metadata": {
        "id": "HaFZqmSZCuB4"
      },
      "execution_count": 38,
      "outputs": []
    },
    {
      "cell_type": "code",
      "source": [
        "# Show movies\n",
        "single_user.show()"
      ],
      "metadata": {
        "colab": {
          "base_uri": "https://localhost:8080/"
        },
        "id": "ZlYJEKStC08X",
        "outputId": "3fb66d06-563d-4695-b0ce-f65a22beda8f"
      },
      "execution_count": 39,
      "outputs": [
        {
          "output_type": "stream",
          "name": "stdout",
          "text": [
            "+-------+------+\n",
            "|movieId|userId|\n",
            "+-------+------+\n",
            "|      6|    11|\n",
            "|      9|    11|\n",
            "|     11|    11|\n",
            "|     13|    11|\n",
            "|     18|    11|\n",
            "|     20|    11|\n",
            "|     27|    11|\n",
            "|     38|    11|\n",
            "|     62|    11|\n",
            "|     78|    11|\n",
            "|     81|    11|\n",
            "|     82|    11|\n",
            "|     94|    11|\n",
            "|     97|    11|\n",
            "+-------+------+\n",
            "\n"
          ]
        }
      ]
    },
    {
      "cell_type": "code",
      "source": [
        "# Make recommendations to that specific user\n",
        "recommendations = model.transform(single_user)\n",
        "recommendations.orderBy('prediction', ascending=False).show()"
      ],
      "metadata": {
        "colab": {
          "base_uri": "https://localhost:8080/"
        },
        "id": "-JGAiDf4C3H3",
        "outputId": "20097cd9-2685-4a24-a349-2af739f1fcc5"
      },
      "execution_count": 41,
      "outputs": [
        {
          "output_type": "stream",
          "name": "stdout",
          "text": [
            "+-------+------+----------+\n",
            "|movieId|userId|prediction|\n",
            "+-------+------+----------+\n",
            "|     18|    11| 4.9869757|\n",
            "|     27|    11|  4.928551|\n",
            "|     81|    11|  4.496086|\n",
            "|     38|    11|  3.886926|\n",
            "|     13|    11| 3.8325024|\n",
            "|     97|    11| 2.9742541|\n",
            "|     82|    11| 2.5462859|\n",
            "|     94|    11| 2.1185591|\n",
            "|      6|    11| 1.6827623|\n",
            "|     62|    11| 1.0523381|\n",
            "|      9|    11| 1.0406839|\n",
            "|     11|    11| 0.9801813|\n",
            "|     78|    11| 0.9736101|\n",
            "|     20|    11|0.90763056|\n",
            "+-------+------+----------+\n",
            "\n"
          ]
        }
      ]
    },
    {
      "cell_type": "code",
      "source": [],
      "metadata": {
        "id": "R4-apxuQDK7b"
      },
      "execution_count": null,
      "outputs": []
    }
  ]
}
