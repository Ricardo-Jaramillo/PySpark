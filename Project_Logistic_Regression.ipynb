{
  "cells": [
    {
      "cell_type": "markdown",
      "metadata": {
        "id": "view-in-github",
        "colab_type": "text"
      },
      "source": [
        "<a href=\"https://colab.research.google.com/github/Ricardo-Jaramillo/PySpark/blob/main/Project_Logistic_Regression.ipynb\" target=\"_parent\"><img src=\"https://colab.research.google.com/assets/colab-badge.svg\" alt=\"Open In Colab\"/></a>"
      ]
    },
    {
      "cell_type": "markdown",
      "metadata": {
        "id": "sdp2aq0r7XqM"
      },
      "source": [
        "# Logistic Regression Project"
      ]
    },
    {
      "cell_type": "markdown",
      "metadata": {
        "collapsed": true,
        "id": "TrXaRHtO7XqO"
      },
      "source": [
        "## Binary Customer Churn\n",
        "\n",
        "A marketing agency has many customers that use their service to produce ads for the client/customer websites. They've noticed that they have quite a bit of churn in clients. They basically randomly assign account managers right now, but want you to create a machine learning model that will help predict which customers will churn (stop buying their service) so that they can correctly assign the customers most at risk to churn an account manager. Luckily they have some historical data, can you help them out? Create a classification algorithm that will help classify whether or not a customer churned. Then the company can test this against incoming data for future customers to predict which customers will churn and assign them an account manager.\n",
        "\n",
        "The data is saved as customer_churn.csv. Here are the fields and their definitions:\n",
        "\n",
        "    Name : Name of the latest contact at Company\n",
        "    Age: Customer Age\n",
        "    Total_Purchase: Total Ads Purchased\n",
        "    Account_Manager: Binary 0=No manager, 1= Account manager assigned\n",
        "    Years: Totaly Years as a customer\n",
        "    Num_sites: Number of websites that use the service.\n",
        "    Onboard_date: Date that the name of the latest contact was onboarded\n",
        "    Location: Client HQ Address\n",
        "    Company: Name of Client Company\n",
        "    \n",
        "Once you've created the model and evaluated it, test out the model on some new data (you can think of this almost like a hold-out set) that your client has provided, saved under new_customers.csv. The client wants to know which customers are most likely to churn given this data (they don't have the label yet)."
      ]
    },
    {
      "cell_type": "code",
      "source": [
        "# Install pyspark\n",
        "!pip install pyspark"
      ],
      "metadata": {
        "colab": {
          "base_uri": "https://localhost:8080/"
        },
        "id": "uiGzv1-F7gij",
        "outputId": "6dd931f9-5e21-4421-c0ce-991d8e7e71c5"
      },
      "execution_count": 1,
      "outputs": [
        {
          "output_type": "stream",
          "name": "stdout",
          "text": [
            "Collecting pyspark\n",
            "  Downloading pyspark-3.5.0.tar.gz (316.9 MB)\n",
            "\u001b[2K     \u001b[90m━━━━━━━━━━━━━━━━━━━━━━━━━━━━━━━━━━━━━━━\u001b[0m \u001b[32m316.9/316.9 MB\u001b[0m \u001b[31m4.1 MB/s\u001b[0m eta \u001b[36m0:00:00\u001b[0m\n",
            "\u001b[?25h  Preparing metadata (setup.py) ... \u001b[?25l\u001b[?25hdone\n",
            "Requirement already satisfied: py4j==0.10.9.7 in /usr/local/lib/python3.10/dist-packages (from pyspark) (0.10.9.7)\n",
            "Building wheels for collected packages: pyspark\n",
            "  Building wheel for pyspark (setup.py) ... \u001b[?25l\u001b[?25hdone\n",
            "  Created wheel for pyspark: filename=pyspark-3.5.0-py2.py3-none-any.whl size=317425344 sha256=2c7fd77ebd0bb26b44ca150d3bc6d0ffcd946f262641f035d31a3562cf300627\n",
            "  Stored in directory: /root/.cache/pip/wheels/41/4e/10/c2cf2467f71c678cfc8a6b9ac9241e5e44a01940da8fbb17fc\n",
            "Successfully built pyspark\n",
            "Installing collected packages: pyspark\n",
            "Successfully installed pyspark-3.5.0\n"
          ]
        }
      ]
    },
    {
      "cell_type": "code",
      "source": [
        "# Download the csv files\n",
        "!wget https://raw.githubusercontent.com/Ricardo-Jaramillo/PySpark/main/datasets/customer_churn.csv\n",
        "!wget https://raw.githubusercontent.com/Ricardo-Jaramillo/PySpark/main/datasets/new_customers.csv"
      ],
      "metadata": {
        "colab": {
          "base_uri": "https://localhost:8080/"
        },
        "id": "-cDNTPHw7nFo",
        "outputId": "d3edcb52-4d26-48c5-d0e7-1b8aba6fc9ac"
      },
      "execution_count": 64,
      "outputs": [
        {
          "output_type": "stream",
          "name": "stdout",
          "text": [
            "--2023-10-03 19:37:51--  https://raw.githubusercontent.com/Ricardo-Jaramillo/PySpark/main/datasets/customer_churn.csv\n",
            "Resolving raw.githubusercontent.com (raw.githubusercontent.com)... 185.199.109.133, 185.199.110.133, 185.199.108.133, ...\n",
            "Connecting to raw.githubusercontent.com (raw.githubusercontent.com)|185.199.109.133|:443... connected.\n",
            "HTTP request sent, awaiting response... 200 OK\n",
            "Length: 115479 (113K) [text/plain]\n",
            "Saving to: ‘customer_churn.csv.1’\n",
            "\n",
            "customer_churn.csv. 100%[===================>] 112.77K  --.-KB/s    in 0.08s   \n",
            "\n",
            "2023-10-03 19:37:51 (1.34 MB/s) - ‘customer_churn.csv.1’ saved [115479/115479]\n",
            "\n",
            "--2023-10-03 19:37:51--  https://raw.githubusercontent.com/Ricardo-Jaramillo/PySpark/main/datasets/new_customers.csv\n",
            "Resolving raw.githubusercontent.com (raw.githubusercontent.com)... 185.199.108.133, 185.199.110.133, 185.199.109.133, ...\n",
            "Connecting to raw.githubusercontent.com (raw.githubusercontent.com)|185.199.108.133|:443... connected.\n",
            "HTTP request sent, awaiting response... 200 OK\n",
            "Length: 815 [text/plain]\n",
            "Saving to: ‘new_customers.csv’\n",
            "\n",
            "new_customers.csv   100%[===================>]     815  --.-KB/s    in 0s      \n",
            "\n",
            "2023-10-03 19:37:52 (50.5 MB/s) - ‘new_customers.csv’ saved [815/815]\n",
            "\n"
          ]
        }
      ]
    },
    {
      "cell_type": "code",
      "source": [
        "# Import the necessary libraries\n",
        "from pyspark.sql import SparkSession\n",
        "from pyspark.ml.classification import LogisticRegression\n",
        "from pyspark.ml.feature import VectorAssembler\n",
        "from pyspark.ml.evaluation import BinaryClassificationEvaluator, MulticlassClassificationEvaluator"
      ],
      "metadata": {
        "id": "s3kZY2lJ7yno"
      },
      "execution_count": 44,
      "outputs": []
    },
    {
      "cell_type": "code",
      "source": [
        "# Create a session\n",
        "spark = SparkSession.builder.appName('log_reg_project').getOrCreate()"
      ],
      "metadata": {
        "id": "pXrIYEQ68D18"
      },
      "execution_count": 6,
      "outputs": []
    },
    {
      "cell_type": "code",
      "source": [
        "# Read in the file\n",
        "df = spark.read.csv('customer_churn.csv', header=True, inferSchema=True)"
      ],
      "metadata": {
        "id": "AAQOqhHc7_Ti"
      },
      "execution_count": 8,
      "outputs": []
    },
    {
      "cell_type": "code",
      "source": [
        "# Print out the schema\n",
        "df.printSchema()"
      ],
      "metadata": {
        "colab": {
          "base_uri": "https://localhost:8080/"
        },
        "id": "ARZYcLKF8fog",
        "outputId": "6188a893-88af-4746-f8a7-66e91b7e86c0"
      },
      "execution_count": 10,
      "outputs": [
        {
          "output_type": "stream",
          "name": "stdout",
          "text": [
            "root\n",
            " |-- Names: string (nullable = true)\n",
            " |-- Age: double (nullable = true)\n",
            " |-- Total_Purchase: double (nullable = true)\n",
            " |-- Account_Manager: integer (nullable = true)\n",
            " |-- Years: double (nullable = true)\n",
            " |-- Num_Sites: double (nullable = true)\n",
            " |-- Onboard_date: timestamp (nullable = true)\n",
            " |-- Location: string (nullable = true)\n",
            " |-- Company: string (nullable = true)\n",
            " |-- Churn: integer (nullable = true)\n",
            "\n"
          ]
        }
      ]
    },
    {
      "cell_type": "code",
      "source": [
        "# Show the data\n",
        "df.show()"
      ],
      "metadata": {
        "colab": {
          "base_uri": "https://localhost:8080/"
        },
        "id": "nPtXI-Dt8Xni",
        "outputId": "c783f202-dd7c-4094-e91d-44756fbbaea0"
      },
      "execution_count": 9,
      "outputs": [
        {
          "output_type": "stream",
          "name": "stdout",
          "text": [
            "+-------------------+----+--------------+---------------+-----+---------+-------------------+--------------------+--------------------+-----+\n",
            "|              Names| Age|Total_Purchase|Account_Manager|Years|Num_Sites|       Onboard_date|            Location|             Company|Churn|\n",
            "+-------------------+----+--------------+---------------+-----+---------+-------------------+--------------------+--------------------+-----+\n",
            "|   Cameron Williams|42.0|       11066.8|              0| 7.22|      8.0|2013-08-30 07:00:40|10265 Elizabeth M...|          Harvey LLC|    1|\n",
            "|      Kevin Mueller|41.0|      11916.22|              0|  6.5|     11.0|2013-08-13 00:38:46|6157 Frank Garden...|          Wilson PLC|    1|\n",
            "|        Eric Lozano|38.0|      12884.75|              0| 6.67|     12.0|2016-06-29 06:20:07|1331 Keith Court ...|Miller, Johnson a...|    1|\n",
            "|      Phillip White|42.0|       8010.76|              0| 6.71|     10.0|2014-04-22 12:43:12|13120 Daniel Moun...|           Smith Inc|    1|\n",
            "|     Cynthia Norton|37.0|       9191.58|              0| 5.56|      9.0|2016-01-19 15:31:15|765 Tricia Row Ka...|          Love-Jones|    1|\n",
            "|   Jessica Williams|48.0|      10356.02|              0| 5.12|      8.0|2009-03-03 23:13:37|6187 Olson Mounta...|        Kelly-Warren|    1|\n",
            "|        Eric Butler|44.0|      11331.58|              1| 5.23|     11.0|2016-12-05 03:35:43|4846 Savannah Roa...|   Reynolds-Sheppard|    1|\n",
            "|      Zachary Walsh|32.0|       9885.12|              1| 6.92|      9.0|2006-03-09 14:50:20|25271 Roy Express...|          Singh-Cole|    1|\n",
            "|        Ashlee Carr|43.0|       14062.6|              1| 5.46|     11.0|2011-09-29 05:47:23|3725 Caroline Str...|           Lopez PLC|    1|\n",
            "|     Jennifer Lynch|40.0|       8066.94|              1| 7.11|     11.0|2006-03-28 15:42:45|363 Sandra Lodge ...|       Reed-Martinez|    1|\n",
            "|       Paula Harris|30.0|      11575.37|              1| 5.22|      8.0|2016-11-13 13:13:01|Unit 8120 Box 916...|Briggs, Lamb and ...|    1|\n",
            "|     Bruce Phillips|45.0|       8771.02|              1| 6.64|     11.0|2015-05-28 12:14:03|Unit 1895 Box 094...|    Figueroa-Maynard|    1|\n",
            "|       Craig Garner|45.0|       8988.67|              1| 4.84|     11.0|2011-02-16 08:10:47|897 Kelley Overpa...|     Abbott-Thompson|    1|\n",
            "|       Nicole Olson|40.0|       8283.32|              1|  5.1|     13.0|2012-11-22 05:35:03|11488 Weaver Cape...|Smith, Kim and Ma...|    1|\n",
            "|     Harold Griffin|41.0|       6569.87|              1|  4.3|     11.0|2015-03-28 02:13:44|1774 Peter Row Ap...|Snyder, Lee and M...|    1|\n",
            "|       James Wright|38.0|      10494.82|              1| 6.81|     12.0|2015-07-22 08:38:40|45408 David Path ...|      Sanders-Pierce|    1|\n",
            "|      Doris Wilkins|45.0|       8213.41|              1| 7.35|     11.0|2006-09-03 06:13:55|28216 Wright Moun...|Andrews, Adams an...|    1|\n",
            "|Katherine Carpenter|43.0|      11226.88|              0| 8.08|     12.0|2006-10-22 04:42:38|Unit 4948 Box 481...|Morgan, Phillips ...|    1|\n",
            "|     Lindsay Martin|53.0|       5515.09|              0| 6.85|      8.0|2015-10-07 00:27:10|69203 Crosby Divi...|      Villanueva LLC|    1|\n",
            "|        Kathy Curry|46.0|        8046.4|              1| 5.69|      8.0|2014-11-06 23:47:14|9569 Caldwell Cre...|Berry, Orr and Ca...|    1|\n",
            "+-------------------+----+--------------+---------------+-----+---------+-------------------+--------------------+--------------------+-----+\n",
            "only showing top 20 rows\n",
            "\n"
          ]
        }
      ]
    },
    {
      "cell_type": "markdown",
      "source": [
        "## Let's take only the usefull columns"
      ],
      "metadata": {
        "id": "Kp3Fp1zv8q9I"
      }
    },
    {
      "cell_type": "code",
      "source": [
        "# Show column names\n",
        "df.columns"
      ],
      "metadata": {
        "colab": {
          "base_uri": "https://localhost:8080/"
        },
        "id": "zuKGz2FA8xwD",
        "outputId": "7f97a62e-0b3f-4a61-b451-abc27c3dc428"
      },
      "execution_count": 12,
      "outputs": [
        {
          "output_type": "execute_result",
          "data": {
            "text/plain": [
              "['Names',\n",
              " 'Age',\n",
              " 'Total_Purchase',\n",
              " 'Account_Manager',\n",
              " 'Years',\n",
              " 'Num_Sites',\n",
              " 'Onboard_date',\n",
              " 'Location',\n",
              " 'Company',\n",
              " 'Churn']"
            ]
          },
          "metadata": {},
          "execution_count": 12
        }
      ]
    },
    {
      "cell_type": "code",
      "source": [
        "# Select columns and drop na\n",
        "data = df.select(['churn', 'Age', 'Total_Purchase', 'Account_Manager', 'Years', 'Num_Sites']).na.drop()"
      ],
      "metadata": {
        "id": "ixKNAFsh8bd0"
      },
      "execution_count": 29,
      "outputs": []
    },
    {
      "cell_type": "code",
      "source": [
        "# Show the data\n",
        "data.show()"
      ],
      "metadata": {
        "colab": {
          "base_uri": "https://localhost:8080/"
        },
        "id": "ijdTYyUn9TQl",
        "outputId": "110edd29-a346-4086-9e32-c09a1ba5b909"
      },
      "execution_count": 30,
      "outputs": [
        {
          "output_type": "stream",
          "name": "stdout",
          "text": [
            "+-----+----+--------------+---------------+-----+---------+\n",
            "|churn| Age|Total_Purchase|Account_Manager|Years|Num_Sites|\n",
            "+-----+----+--------------+---------------+-----+---------+\n",
            "|    1|42.0|       11066.8|              0| 7.22|      8.0|\n",
            "|    1|41.0|      11916.22|              0|  6.5|     11.0|\n",
            "|    1|38.0|      12884.75|              0| 6.67|     12.0|\n",
            "|    1|42.0|       8010.76|              0| 6.71|     10.0|\n",
            "|    1|37.0|       9191.58|              0| 5.56|      9.0|\n",
            "|    1|48.0|      10356.02|              0| 5.12|      8.0|\n",
            "|    1|44.0|      11331.58|              1| 5.23|     11.0|\n",
            "|    1|32.0|       9885.12|              1| 6.92|      9.0|\n",
            "|    1|43.0|       14062.6|              1| 5.46|     11.0|\n",
            "|    1|40.0|       8066.94|              1| 7.11|     11.0|\n",
            "|    1|30.0|      11575.37|              1| 5.22|      8.0|\n",
            "|    1|45.0|       8771.02|              1| 6.64|     11.0|\n",
            "|    1|45.0|       8988.67|              1| 4.84|     11.0|\n",
            "|    1|40.0|       8283.32|              1|  5.1|     13.0|\n",
            "|    1|41.0|       6569.87|              1|  4.3|     11.0|\n",
            "|    1|38.0|      10494.82|              1| 6.81|     12.0|\n",
            "|    1|45.0|       8213.41|              1| 7.35|     11.0|\n",
            "|    1|43.0|      11226.88|              0| 8.08|     12.0|\n",
            "|    1|53.0|       5515.09|              0| 6.85|      8.0|\n",
            "|    1|46.0|        8046.4|              1| 5.69|      8.0|\n",
            "+-----+----+--------------+---------------+-----+---------+\n",
            "only showing top 20 rows\n",
            "\n"
          ]
        }
      ]
    },
    {
      "cell_type": "markdown",
      "source": [
        "## Create an assembler to create a features column"
      ],
      "metadata": {
        "id": "G_eDBmjT9WOY"
      }
    },
    {
      "cell_type": "code",
      "source": [
        "# Create the object assembler\n",
        "assembler = VectorAssembler(inputCols=['Age', 'Total_Purchase', 'Account_Manager', 'Years', 'Num_Sites'],\n",
        "                            outputCol='features')"
      ],
      "metadata": {
        "id": "gJbZ5Z4994Y0"
      },
      "execution_count": 22,
      "outputs": []
    },
    {
      "cell_type": "code",
      "source": [
        "# Transform the data with the assembler object\n",
        "assembled_data = assembler.transform(data)"
      ],
      "metadata": {
        "id": "4LD0jqwH-wuR"
      },
      "execution_count": 31,
      "outputs": []
    },
    {
      "cell_type": "code",
      "source": [
        "# Show the new assembled data\n",
        "assembled_data.show()"
      ],
      "metadata": {
        "colab": {
          "base_uri": "https://localhost:8080/"
        },
        "id": "IjyOZxUL_DPX",
        "outputId": "eb218929-72e4-41aa-c0d1-496fb352583a"
      },
      "execution_count": 28,
      "outputs": [
        {
          "output_type": "stream",
          "name": "stdout",
          "text": [
            "+-----+----+--------------+---------------+-----+---------+--------------------+\n",
            "|churn| Age|Total_Purchase|Account_Manager|Years|Num_Sites|            features|\n",
            "+-----+----+--------------+---------------+-----+---------+--------------------+\n",
            "|    1|42.0|       11066.8|              0| 7.22|      8.0|[42.0,11066.8,0.0...|\n",
            "|    1|41.0|      11916.22|              0|  6.5|     11.0|[41.0,11916.22,0....|\n",
            "|    1|38.0|      12884.75|              0| 6.67|     12.0|[38.0,12884.75,0....|\n",
            "|    1|42.0|       8010.76|              0| 6.71|     10.0|[42.0,8010.76,0.0...|\n",
            "|    1|37.0|       9191.58|              0| 5.56|      9.0|[37.0,9191.58,0.0...|\n",
            "|    1|48.0|      10356.02|              0| 5.12|      8.0|[48.0,10356.02,0....|\n",
            "|    1|44.0|      11331.58|              1| 5.23|     11.0|[44.0,11331.58,1....|\n",
            "|    1|32.0|       9885.12|              1| 6.92|      9.0|[32.0,9885.12,1.0...|\n",
            "|    1|43.0|       14062.6|              1| 5.46|     11.0|[43.0,14062.6,1.0...|\n",
            "|    1|40.0|       8066.94|              1| 7.11|     11.0|[40.0,8066.94,1.0...|\n",
            "|    1|30.0|      11575.37|              1| 5.22|      8.0|[30.0,11575.37,1....|\n",
            "|    1|45.0|       8771.02|              1| 6.64|     11.0|[45.0,8771.02,1.0...|\n",
            "|    1|45.0|       8988.67|              1| 4.84|     11.0|[45.0,8988.67,1.0...|\n",
            "|    1|40.0|       8283.32|              1|  5.1|     13.0|[40.0,8283.32,1.0...|\n",
            "|    1|41.0|       6569.87|              1|  4.3|     11.0|[41.0,6569.87,1.0...|\n",
            "|    1|38.0|      10494.82|              1| 6.81|     12.0|[38.0,10494.82,1....|\n",
            "|    1|45.0|       8213.41|              1| 7.35|     11.0|[45.0,8213.41,1.0...|\n",
            "|    1|43.0|      11226.88|              0| 8.08|     12.0|[43.0,11226.88,0....|\n",
            "|    1|53.0|       5515.09|              0| 6.85|      8.0|[53.0,5515.09,0.0...|\n",
            "|    1|46.0|        8046.4|              1| 5.69|      8.0|[46.0,8046.4,1.0,...|\n",
            "+-----+----+--------------+---------------+-----+---------+--------------------+\n",
            "only showing top 20 rows\n",
            "\n"
          ]
        }
      ]
    },
    {
      "cell_type": "code",
      "source": [
        "# Set final_data\n",
        "final_data = assembled_data.select(['churn', 'features'])\n",
        "final_data.show()"
      ],
      "metadata": {
        "colab": {
          "base_uri": "https://localhost:8080/"
        },
        "id": "a5PuGsGR_wRt",
        "outputId": "1f1213b7-7c1c-4109-ed82-d77cef1c13ae"
      },
      "execution_count": 47,
      "outputs": [
        {
          "output_type": "stream",
          "name": "stdout",
          "text": [
            "+-----+--------------------+\n",
            "|churn|            features|\n",
            "+-----+--------------------+\n",
            "|    1|[42.0,11066.8,0.0...|\n",
            "|    1|[41.0,11916.22,0....|\n",
            "|    1|[38.0,12884.75,0....|\n",
            "|    1|[42.0,8010.76,0.0...|\n",
            "|    1|[37.0,9191.58,0.0...|\n",
            "|    1|[48.0,10356.02,0....|\n",
            "|    1|[44.0,11331.58,1....|\n",
            "|    1|[32.0,9885.12,1.0...|\n",
            "|    1|[43.0,14062.6,1.0...|\n",
            "|    1|[40.0,8066.94,1.0...|\n",
            "|    1|[30.0,11575.37,1....|\n",
            "|    1|[45.0,8771.02,1.0...|\n",
            "|    1|[45.0,8988.67,1.0...|\n",
            "|    1|[40.0,8283.32,1.0...|\n",
            "|    1|[41.0,6569.87,1.0...|\n",
            "|    1|[38.0,10494.82,1....|\n",
            "|    1|[45.0,8213.41,1.0...|\n",
            "|    1|[43.0,11226.88,0....|\n",
            "|    1|[53.0,5515.09,0.0...|\n",
            "|    1|[46.0,8046.4,1.0,...|\n",
            "+-----+--------------------+\n",
            "only showing top 20 rows\n",
            "\n"
          ]
        }
      ]
    },
    {
      "cell_type": "markdown",
      "source": [
        "## Split data into train and test"
      ],
      "metadata": {
        "id": "sl8yLE76_inB"
      }
    },
    {
      "cell_type": "code",
      "source": [
        "# Set final data that we're gonna use\n",
        "train_data, test_data = final_data.randomSplit([0.7, 0.3])\n",
        "train_data.describe().show(), test_data.describe().show()"
      ],
      "metadata": {
        "colab": {
          "base_uri": "https://localhost:8080/"
        },
        "id": "SAwHmPax_lSc",
        "outputId": "2c5abb41-bbd3-4639-fb7c-fc36aae9db69"
      },
      "execution_count": 48,
      "outputs": [
        {
          "output_type": "stream",
          "name": "stdout",
          "text": [
            "+-------+-------------------+\n",
            "|summary|              churn|\n",
            "+-------+-------------------+\n",
            "|  count|                632|\n",
            "|   mean| 0.1661392405063291|\n",
            "| stddev|0.37250039565776416|\n",
            "|    min|                  0|\n",
            "|    max|                  1|\n",
            "+-------+-------------------+\n",
            "\n",
            "+-------+-------------------+\n",
            "|summary|              churn|\n",
            "+-------+-------------------+\n",
            "|  count|                268|\n",
            "|   mean|0.16791044776119404|\n",
            "| stddev|0.37448606405990553|\n",
            "|    min|                  0|\n",
            "|    max|                  1|\n",
            "+-------+-------------------+\n",
            "\n"
          ]
        },
        {
          "output_type": "execute_result",
          "data": {
            "text/plain": [
              "(None, None)"
            ]
          },
          "metadata": {},
          "execution_count": 48
        }
      ]
    },
    {
      "cell_type": "markdown",
      "source": [
        "## Create a model and fit"
      ],
      "metadata": {
        "id": "Ew-glb1c-TmU"
      }
    },
    {
      "cell_type": "code",
      "source": [
        "# Create the model\n",
        "log_reg_model = LogisticRegression(featuresCol='features', labelCol='churn')"
      ],
      "metadata": {
        "id": "89123TNA-P7Y"
      },
      "execution_count": 49,
      "outputs": []
    },
    {
      "cell_type": "code",
      "source": [
        "# Fit the model\n",
        "fit_model = log_reg_model.fit(train_data)"
      ],
      "metadata": {
        "id": "A2gnc427-uK2"
      },
      "execution_count": 50,
      "outputs": []
    },
    {
      "cell_type": "code",
      "source": [
        "# EVALUATE\n",
        "prediction_and_labels = fit_model.evaluate(test_data)"
      ],
      "metadata": {
        "id": "6IwgGftGAWk0"
      },
      "execution_count": 84,
      "outputs": []
    },
    {
      "cell_type": "code",
      "source": [
        "# Show prediction values\n",
        "prediction_and_labels.predictions.show()"
      ],
      "metadata": {
        "colab": {
          "base_uri": "https://localhost:8080/"
        },
        "id": "fBOyn2U3AY24",
        "outputId": "40126ffd-60b4-4a5a-9d51-d26f0a905ad0"
      },
      "execution_count": 85,
      "outputs": [
        {
          "output_type": "stream",
          "name": "stdout",
          "text": [
            "+-----+--------------------+--------------------+--------------------+----------+\n",
            "|churn|            features|       rawPrediction|         probability|prediction|\n",
            "+-----+--------------------+--------------------+--------------------+----------+\n",
            "|    0|[25.0,9672.03,0.0...|[4.39728801265000...|[0.98783902875509...|       0.0|\n",
            "|    0|[28.0,11204.23,0....|[1.62256872304809...|[0.83514908351683...|       0.0|\n",
            "|    0|[29.0,5900.78,1.0...|[4.03674328265856...|[0.98265141134671...|       0.0|\n",
            "|    0|[30.0,8403.78,1.0...|[6.10300201918525...|[0.99776884450255...|       0.0|\n",
            "|    0|[30.0,8677.28,1.0...|[4.00847739879986...|[0.98216291359714...|       0.0|\n",
            "|    0|[30.0,10183.98,1....|[2.83945214439060...|[0.94477088269957...|       0.0|\n",
            "|    0|[31.0,8688.21,0.0...|[6.73364424309664...|[0.99881122715080...|       0.0|\n",
            "|    0|[31.0,9574.89,0.0...|[2.96921841942513...|[0.95116398455509...|       0.0|\n",
            "|    0|[31.0,11743.24,0....|[6.75058019559648...|[0.99883116728996...|       0.0|\n",
            "|    0|[32.0,5756.12,0.0...|[4.02804670794673...|[0.98250253151614...|       0.0|\n",
            "|    0|[32.0,6367.22,1.0...|[3.15960440968961...|[0.95928549873164...|       0.0|\n",
            "|    0|[32.0,8011.38,0.0...|[1.76776340725257...|[0.85417930836340...|       0.0|\n",
            "|    0|[32.0,9036.27,0.0...|[-0.7113494734132...|[0.32930072449465...|       1.0|\n",
            "|    0|[32.0,9472.72,1.0...|[4.24169370344180...|[0.98582073306968...|       0.0|\n",
            "|    0|[32.0,10716.75,0....|[4.34178803790809...|[0.98715392976128...|       0.0|\n",
            "|    0|[32.0,11540.86,0....|[6.96357219017913...|[0.99905518125730...|       0.0|\n",
            "|    0|[32.0,11715.72,0....|[3.29211659361272...|[0.96415737112480...|       0.0|\n",
            "|    0|[32.0,12142.99,0....|[5.62259805529973...|[0.99639778653960...|       0.0|\n",
            "|    0|[32.0,12403.6,0.0...|[5.62533528275135...|[0.99640759776191...|       0.0|\n",
            "|    0|[32.0,12547.91,0....|[-0.0049253379798...|[0.49876866799427...|       1.0|\n",
            "+-----+--------------------+--------------------+--------------------+----------+\n",
            "only showing top 20 rows\n",
            "\n"
          ]
        }
      ]
    },
    {
      "cell_type": "markdown",
      "source": [
        "## Evaluate the model"
      ],
      "metadata": {
        "id": "lQ3vQzqEBId3"
      }
    },
    {
      "cell_type": "code",
      "source": [
        "# Create an evaluator object\n",
        "eval = BinaryClassificationEvaluator(labelCol='churn')"
      ],
      "metadata": {
        "id": "rLBrLDqzBMeM"
      },
      "execution_count": 62,
      "outputs": []
    },
    {
      "cell_type": "code",
      "source": [
        "# Evaluate predictions\n",
        "final_ROC = eval.evaluate(prediction_and_labels.predictions)\n",
        "final_ROC"
      ],
      "metadata": {
        "colab": {
          "base_uri": "https://localhost:8080/"
        },
        "id": "zEQfSCgBBcj3",
        "outputId": "c58dd748-60ff-4211-fc50-bb49bbb0aff9"
      },
      "execution_count": 63,
      "outputs": [
        {
          "output_type": "execute_result",
          "data": {
            "text/plain": [
              "0.8918784255107131"
            ]
          },
          "metadata": {},
          "execution_count": 63
        }
      ]
    },
    {
      "cell_type": "markdown",
      "source": [
        "# Predict on new data\n",
        "Use the `new_customers.csv` file to predict values with our model"
      ],
      "metadata": {
        "id": "AHc79momBjMJ"
      }
    },
    {
      "cell_type": "code",
      "source": [
        "final_lr_model = log_reg_model.fit(final_data)"
      ],
      "metadata": {
        "id": "1NmaQC5MCrYd"
      },
      "execution_count": 73,
      "outputs": []
    },
    {
      "cell_type": "code",
      "source": [
        "# Read in the new_customers data\n",
        "new_customers = spark.read.csv('new_customers.csv', header=True, inferSchema=True)\n",
        "new_customers.show()"
      ],
      "metadata": {
        "colab": {
          "base_uri": "https://localhost:8080/"
        },
        "id": "f_ybs-S8C6sC",
        "outputId": "d3e7f89e-00d5-4fbb-8723-fc3e403e4bec"
      },
      "execution_count": 74,
      "outputs": [
        {
          "output_type": "stream",
          "name": "stdout",
          "text": [
            "+--------------+----+--------------+---------------+-----+---------+-------------------+--------------------+----------------+\n",
            "|         Names| Age|Total_Purchase|Account_Manager|Years|Num_Sites|       Onboard_date|            Location|         Company|\n",
            "+--------------+----+--------------+---------------+-----+---------+-------------------+--------------------+----------------+\n",
            "| Andrew Mccall|37.0|       9935.53|              1| 7.71|      8.0|2011-08-29 18:37:54|38612 Johnny Stra...|        King Ltd|\n",
            "|Michele Wright|23.0|       7526.94|              1| 9.28|     15.0|2013-07-22 18:19:54|21083 Nicole Junc...|   Cannon-Benson|\n",
            "|  Jeremy Chang|65.0|         100.0|              1|  1.0|     15.0|2006-12-11 07:48:13|085 Austin Views ...|Barron-Robertson|\n",
            "|Megan Ferguson|32.0|        6487.5|              0|  9.4|     14.0|2016-10-28 05:32:13|922 Wright Branch...|   Sexton-Golden|\n",
            "|  Taylor Young|32.0|      13147.71|              1| 10.0|      8.0|2012-03-20 00:36:46|Unit 0789 Box 073...|        Wood LLC|\n",
            "| Jessica Drake|22.0|       8445.26|              1| 3.46|     14.0|2011-02-04 19:29:27|1148 Tina Straven...|   Parks-Robbins|\n",
            "+--------------+----+--------------+---------------+-----+---------+-------------------+--------------------+----------------+\n",
            "\n"
          ]
        }
      ]
    },
    {
      "cell_type": "code",
      "source": [
        "# Create features column from the new_cusomers data\n",
        "new_customers_assembled = assembler.transform(new_customers)\n",
        "new_customers_assembled.show()"
      ],
      "metadata": {
        "colab": {
          "base_uri": "https://localhost:8080/"
        },
        "id": "E4ASC9W4DOcA",
        "outputId": "9a2bd278-e67e-466c-9135-3787d7b220f7"
      },
      "execution_count": 89,
      "outputs": [
        {
          "output_type": "stream",
          "name": "stdout",
          "text": [
            "+--------------+----+--------------+---------------+-----+---------+-------------------+--------------------+----------------+--------------------+\n",
            "|         Names| Age|Total_Purchase|Account_Manager|Years|Num_Sites|       Onboard_date|            Location|         Company|            features|\n",
            "+--------------+----+--------------+---------------+-----+---------+-------------------+--------------------+----------------+--------------------+\n",
            "| Andrew Mccall|37.0|       9935.53|              1| 7.71|      8.0|2011-08-29 18:37:54|38612 Johnny Stra...|        King Ltd|[37.0,9935.53,1.0...|\n",
            "|Michele Wright|23.0|       7526.94|              1| 9.28|     15.0|2013-07-22 18:19:54|21083 Nicole Junc...|   Cannon-Benson|[23.0,7526.94,1.0...|\n",
            "|  Jeremy Chang|65.0|         100.0|              1|  1.0|     15.0|2006-12-11 07:48:13|085 Austin Views ...|Barron-Robertson|[65.0,100.0,1.0,1...|\n",
            "|Megan Ferguson|32.0|        6487.5|              0|  9.4|     14.0|2016-10-28 05:32:13|922 Wright Branch...|   Sexton-Golden|[32.0,6487.5,0.0,...|\n",
            "|  Taylor Young|32.0|      13147.71|              1| 10.0|      8.0|2012-03-20 00:36:46|Unit 0789 Box 073...|        Wood LLC|[32.0,13147.71,1....|\n",
            "| Jessica Drake|22.0|       8445.26|              1| 3.46|     14.0|2011-02-04 19:29:27|1148 Tina Straven...|   Parks-Robbins|[22.0,8445.26,1.0...|\n",
            "+--------------+----+--------------+---------------+-----+---------+-------------------+--------------------+----------------+--------------------+\n",
            "\n"
          ]
        }
      ]
    },
    {
      "cell_type": "code",
      "source": [
        "# PREDICT\n",
        "final_results = final_lr_model.transform(new_customers_assembled)"
      ],
      "metadata": {
        "id": "K3Me6kVJEUSD"
      },
      "execution_count": 91,
      "outputs": []
    },
    {
      "cell_type": "code",
      "source": [
        "final_results.show()"
      ],
      "metadata": {
        "colab": {
          "base_uri": "https://localhost:8080/"
        },
        "id": "30phBEm2EcBU",
        "outputId": "709f9caf-0003-48c5-c4e7-99e88955b902"
      },
      "execution_count": 92,
      "outputs": [
        {
          "output_type": "stream",
          "name": "stdout",
          "text": [
            "+--------------+----+--------------+---------------+-----+---------+-------------------+--------------------+----------------+--------------------+--------------------+--------------------+----------+\n",
            "|         Names| Age|Total_Purchase|Account_Manager|Years|Num_Sites|       Onboard_date|            Location|         Company|            features|       rawPrediction|         probability|prediction|\n",
            "+--------------+----+--------------+---------------+-----+---------+-------------------+--------------------+----------------+--------------------+--------------------+--------------------+----------+\n",
            "| Andrew Mccall|37.0|       9935.53|              1| 7.71|      8.0|2011-08-29 18:37:54|38612 Johnny Stra...|        King Ltd|[37.0,9935.53,1.0...|[2.22168680572544...|[0.90218015921764...|       0.0|\n",
            "|Michele Wright|23.0|       7526.94|              1| 9.28|     15.0|2013-07-22 18:19:54|21083 Nicole Junc...|   Cannon-Benson|[23.0,7526.94,1.0...|[-6.2207539991844...|[0.00198380259784...|       1.0|\n",
            "|  Jeremy Chang|65.0|         100.0|              1|  1.0|     15.0|2006-12-11 07:48:13|085 Austin Views ...|Barron-Robertson|[65.0,100.0,1.0,1...|[-3.7691606662873...|[0.02255113312433...|       1.0|\n",
            "|Megan Ferguson|32.0|        6487.5|              0|  9.4|     14.0|2016-10-28 05:32:13|922 Wright Branch...|   Sexton-Golden|[32.0,6487.5,0.0,...|[-5.0956231362738...|[0.00608622076715...|       1.0|\n",
            "|  Taylor Young|32.0|      13147.71|              1| 10.0|      8.0|2012-03-20 00:36:46|Unit 0789 Box 073...|        Wood LLC|[32.0,13147.71,1....|[1.10475806383309...|[0.75115056144899...|       0.0|\n",
            "| Jessica Drake|22.0|       8445.26|              1| 3.46|     14.0|2011-02-04 19:29:27|1148 Tina Straven...|   Parks-Robbins|[22.0,8445.26,1.0...|[-1.6896020251072...|[0.15582818486369...|       1.0|\n",
            "+--------------+----+--------------+---------------+-----+---------+-------------------+--------------------+----------------+--------------------+--------------------+--------------------+----------+\n",
            "\n"
          ]
        }
      ]
    },
    {
      "cell_type": "code",
      "source": [
        "final_results.select('Company','prediction').show()"
      ],
      "metadata": {
        "colab": {
          "base_uri": "https://localhost:8080/"
        },
        "id": "2Uc4KX2uFZiM",
        "outputId": "8630ff12-c276-43d3-d429-9a56a3763892"
      },
      "execution_count": 93,
      "outputs": [
        {
          "output_type": "stream",
          "name": "stdout",
          "text": [
            "+----------------+----------+\n",
            "|         Company|prediction|\n",
            "+----------------+----------+\n",
            "|        King Ltd|       0.0|\n",
            "|   Cannon-Benson|       1.0|\n",
            "|Barron-Robertson|       1.0|\n",
            "|   Sexton-Golden|       1.0|\n",
            "|        Wood LLC|       0.0|\n",
            "|   Parks-Robbins|       1.0|\n",
            "+----------------+----------+\n",
            "\n"
          ]
        }
      ]
    },
    {
      "cell_type": "code",
      "source": [
        "# EVALUATE"
      ],
      "metadata": {
        "id": "xAJTELwhFbBx"
      },
      "execution_count": null,
      "outputs": []
    }
  ],
  "metadata": {
    "anaconda-cloud": {},
    "kernelspec": {
      "display_name": "Python [conda root]",
      "language": "python",
      "name": "conda-root-py"
    },
    "language_info": {
      "codemirror_mode": {
        "name": "ipython",
        "version": 3
      },
      "file_extension": ".py",
      "mimetype": "text/x-python",
      "name": "python",
      "nbconvert_exporter": "python",
      "pygments_lexer": "ipython3",
      "version": "3.5.3"
    },
    "colab": {
      "provenance": [],
      "include_colab_link": true
    }
  },
  "nbformat": 4,
  "nbformat_minor": 0
}