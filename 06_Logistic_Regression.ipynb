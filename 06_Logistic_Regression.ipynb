{
  "nbformat": 4,
  "nbformat_minor": 0,
  "metadata": {
    "colab": {
      "provenance": [],
      "authorship_tag": "ABX9TyNyWqsW9A/TF+rjVZC79nWZ",
      "include_colab_link": true
    },
    "kernelspec": {
      "name": "python3",
      "display_name": "Python 3"
    },
    "language_info": {
      "name": "python"
    }
  },
  "cells": [
    {
      "cell_type": "markdown",
      "metadata": {
        "id": "view-in-github",
        "colab_type": "text"
      },
      "source": [
        "<a href=\"https://colab.research.google.com/github/Ricardo-Jaramillo/PySpark/blob/main/06_Logistic_Regression.ipynb\" target=\"_parent\"><img src=\"https://colab.research.google.com/assets/colab-badge.svg\" alt=\"Open In Colab\"/></a>"
      ]
    },
    {
      "cell_type": "markdown",
      "source": [
        "# Logistic Regression in Spark\n",
        "\n",
        "We use logistic function to output a value ranging from 0 to 1. Based off of this probability we assign a class.\n",
        "\n",
        "We evaluate the logistic regression model with a confussion matrix.\n",
        "\n",
        "Binary classification has some of its own special classification metrics. These include visualization of metrics from the confussion matrix. The **Reveiver Operator curve (ROC)** curve was developed during World War II to help analyze radar data."
      ],
      "metadata": {
        "id": "cklI_hORqx9P"
      }
    },
    {
      "cell_type": "code",
      "source": [
        "# Install pyspark\n",
        "!pip install pyspark"
      ],
      "metadata": {
        "colab": {
          "base_uri": "https://localhost:8080/"
        },
        "id": "LE687ZX1rFps",
        "outputId": "423b9202-ff0f-4db7-b5b2-102f1d8a7ac0"
      },
      "execution_count": 1,
      "outputs": [
        {
          "output_type": "stream",
          "name": "stdout",
          "text": [
            "Collecting pyspark\n",
            "  Downloading pyspark-3.5.0.tar.gz (316.9 MB)\n",
            "\u001b[2K     \u001b[90m━━━━━━━━━━━━━━━━━━━━━━━━━━━━━━━━━━━━━━━\u001b[0m \u001b[32m316.9/316.9 MB\u001b[0m \u001b[31m4.1 MB/s\u001b[0m eta \u001b[36m0:00:00\u001b[0m\n",
            "\u001b[?25h  Preparing metadata (setup.py) ... \u001b[?25l\u001b[?25hdone\n",
            "Requirement already satisfied: py4j==0.10.9.7 in /usr/local/lib/python3.10/dist-packages (from pyspark) (0.10.9.7)\n",
            "Building wheels for collected packages: pyspark\n",
            "  Building wheel for pyspark (setup.py) ... \u001b[?25l\u001b[?25hdone\n",
            "  Created wheel for pyspark: filename=pyspark-3.5.0-py2.py3-none-any.whl size=317425344 sha256=b0e4ee3e730d0cff32a1d7a001a1653295588102a92bdc68e87ccacc9c2afc14\n",
            "  Stored in directory: /root/.cache/pip/wheels/41/4e/10/c2cf2467f71c678cfc8a6b9ac9241e5e44a01940da8fbb17fc\n",
            "Successfully built pyspark\n",
            "Installing collected packages: pyspark\n",
            "Successfully installed pyspark-3.5.0\n"
          ]
        }
      ]
    },
    {
      "cell_type": "code",
      "source": [
        "# Download the file\n",
        "!wget https://raw.githubusercontent.com/Ricardo-Jaramillo/PySpark/main/datasets/sample_libsvm_data.txt"
      ],
      "metadata": {
        "colab": {
          "base_uri": "https://localhost:8080/"
        },
        "id": "PoG6T7Y6tkda",
        "outputId": "f8619f70-c293-4a59-c222-1658d41d0f73"
      },
      "execution_count": 2,
      "outputs": [
        {
          "output_type": "stream",
          "name": "stdout",
          "text": [
            "--2023-10-03 18:05:15--  https://raw.githubusercontent.com/Ricardo-Jaramillo/PySpark/main/datasets/sample_libsvm_data.txt\n",
            "Resolving raw.githubusercontent.com (raw.githubusercontent.com)... 185.199.108.133, 185.199.109.133, 185.199.110.133, ...\n",
            "Connecting to raw.githubusercontent.com (raw.githubusercontent.com)|185.199.108.133|:443... connected.\n",
            "HTTP request sent, awaiting response... 200 OK\n",
            "Length: 104736 (102K) [text/plain]\n",
            "Saving to: ‘sample_libsvm_data.txt’\n",
            "\n",
            "\rsample_libsvm_data.   0%[                    ]       0  --.-KB/s               \rsample_libsvm_data. 100%[===================>] 102.28K  --.-KB/s    in 0.03s   \n",
            "\n",
            "2023-10-03 18:05:15 (3.62 MB/s) - ‘sample_libsvm_data.txt’ saved [104736/104736]\n",
            "\n"
          ]
        }
      ]
    },
    {
      "cell_type": "code",
      "source": [
        "# Import the libraries\n",
        "from pyspark.sql import SparkSession\n",
        "from pyspark.ml.classification import LogisticRegression"
      ],
      "metadata": {
        "id": "r-mpEE_jtxL1"
      },
      "execution_count": 6,
      "outputs": []
    },
    {
      "cell_type": "code",
      "source": [
        "# Init a session\n",
        "spark = SparkSession.builder.appName('mylogreg').getOrCreate()"
      ],
      "metadata": {
        "id": "roP079Pot2F_"
      },
      "execution_count": 4,
      "outputs": []
    },
    {
      "cell_type": "code",
      "source": [
        "# Read in the file\n",
        "my_data = spark.read.format('libsvm').load('sample_libsvm_data.txt')"
      ],
      "metadata": {
        "id": "2JFEHqAbt9bQ"
      },
      "execution_count": 5,
      "outputs": []
    },
    {
      "cell_type": "code",
      "source": [
        "# Show data\n",
        "my_data.show()"
      ],
      "metadata": {
        "colab": {
          "base_uri": "https://localhost:8080/"
        },
        "id": "f5Qhb9mMuIn1",
        "outputId": "319578e8-54bc-4092-b348-9d5a9dcfd0fc"
      },
      "execution_count": 7,
      "outputs": [
        {
          "output_type": "stream",
          "name": "stdout",
          "text": [
            "+-----+--------------------+\n",
            "|label|            features|\n",
            "+-----+--------------------+\n",
            "|  0.0|(692,[127,128,129...|\n",
            "|  1.0|(692,[158,159,160...|\n",
            "|  1.0|(692,[124,125,126...|\n",
            "|  1.0|(692,[152,153,154...|\n",
            "|  1.0|(692,[151,152,153...|\n",
            "|  0.0|(692,[129,130,131...|\n",
            "|  1.0|(692,[158,159,160...|\n",
            "|  1.0|(692,[99,100,101,...|\n",
            "|  0.0|(692,[154,155,156...|\n",
            "|  0.0|(692,[127,128,129...|\n",
            "|  1.0|(692,[154,155,156...|\n",
            "|  0.0|(692,[153,154,155...|\n",
            "|  0.0|(692,[151,152,153...|\n",
            "|  1.0|(692,[129,130,131...|\n",
            "|  0.0|(692,[154,155,156...|\n",
            "|  1.0|(692,[150,151,152...|\n",
            "|  0.0|(692,[124,125,126...|\n",
            "|  0.0|(692,[152,153,154...|\n",
            "|  1.0|(692,[97,98,99,12...|\n",
            "|  1.0|(692,[124,125,126...|\n",
            "+-----+--------------------+\n",
            "only showing top 20 rows\n",
            "\n"
          ]
        }
      ]
    },
    {
      "cell_type": "markdown",
      "source": [
        "## Create a Logistic Regression model"
      ],
      "metadata": {
        "id": "Kuhfg19quaR6"
      }
    },
    {
      "cell_type": "code",
      "source": [
        "# Create the model\n",
        "my_log_reg_model = LogisticRegression()"
      ],
      "metadata": {
        "id": "KgJUWsnzuQ6w"
      },
      "execution_count": 9,
      "outputs": []
    },
    {
      "cell_type": "code",
      "source": [
        "# Fit\n",
        "fitted_logreg = my_log_reg_model.fit(my_data)"
      ],
      "metadata": {
        "id": "l7s-T1YHue57"
      },
      "execution_count": 12,
      "outputs": []
    },
    {
      "cell_type": "code",
      "source": [
        "# Get a summary of the model\n",
        "log_summary = fitted_logreg.summary"
      ],
      "metadata": {
        "id": "owt4zMKzumNW"
      },
      "execution_count": 13,
      "outputs": []
    },
    {
      "cell_type": "code",
      "source": [
        "log_summary.predictions.printSchema()"
      ],
      "metadata": {
        "colab": {
          "base_uri": "https://localhost:8080/"
        },
        "id": "86FRIJgYup44",
        "outputId": "7d865ba2-6adb-4fd4-eeb8-b1ff6669efab"
      },
      "execution_count": 14,
      "outputs": [
        {
          "output_type": "stream",
          "name": "stdout",
          "text": [
            "root\n",
            " |-- label: double (nullable = true)\n",
            " |-- features: vector (nullable = true)\n",
            " |-- rawPrediction: vector (nullable = true)\n",
            " |-- probability: vector (nullable = true)\n",
            " |-- prediction: double (nullable = false)\n",
            "\n"
          ]
        }
      ]
    },
    {
      "cell_type": "code",
      "source": [
        "# Show the predictions with its own fitted values\n",
        "log_summary.predictions.show()"
      ],
      "metadata": {
        "colab": {
          "base_uri": "https://localhost:8080/"
        },
        "id": "KIWxVA8OuxSn",
        "outputId": "6ef9b79e-0c9f-40ec-c1bf-94039d366123"
      },
      "execution_count": 15,
      "outputs": [
        {
          "output_type": "stream",
          "name": "stdout",
          "text": [
            "+-----+--------------------+--------------------+--------------------+----------+\n",
            "|label|            features|       rawPrediction|         probability|prediction|\n",
            "+-----+--------------------+--------------------+--------------------+----------+\n",
            "|  0.0|(692,[127,128,129...|[20.3777627514862...|[0.99999999858729...|       0.0|\n",
            "|  1.0|(692,[158,159,160...|[-21.114014198867...|[6.76550380001560...|       1.0|\n",
            "|  1.0|(692,[124,125,126...|[-23.743613234676...|[4.87842678715831...|       1.0|\n",
            "|  1.0|(692,[152,153,154...|[-19.192574012719...|[4.62137287298722...|       1.0|\n",
            "|  1.0|(692,[151,152,153...|[-20.125398874697...|[1.81823629113437...|       1.0|\n",
            "|  0.0|(692,[129,130,131...|[20.4890549504187...|[0.99999999873608...|       0.0|\n",
            "|  1.0|(692,[158,159,160...|[-21.082940212813...|[6.97903542824686...|       1.0|\n",
            "|  1.0|(692,[99,100,101,...|[-19.622713503566...|[3.00582577441380...|       1.0|\n",
            "|  0.0|(692,[154,155,156...|[21.1594863606570...|[0.99999999935352...|       0.0|\n",
            "|  0.0|(692,[127,128,129...|[28.1036706837273...|[0.99999999999937...|       0.0|\n",
            "|  1.0|(692,[154,155,156...|[-21.054076780105...|[7.18340962960684...|       1.0|\n",
            "|  0.0|(692,[153,154,155...|[26.9648490510173...|[0.99999999999805...|       0.0|\n",
            "|  0.0|(692,[151,152,153...|[32.7855654161393...|[0.99999999999999...|       0.0|\n",
            "|  1.0|(692,[129,130,131...|[-20.331839179665...|[1.47908944090011...|       1.0|\n",
            "|  0.0|(692,[154,155,156...|[21.7830579106565...|[0.99999999965347...|       0.0|\n",
            "|  1.0|(692,[150,151,152...|[-20.640562103727...|[1.08621994880504...|       1.0|\n",
            "|  0.0|(692,[124,125,126...|[22.6400775503740...|[0.99999999985292...|       0.0|\n",
            "|  0.0|(692,[152,153,154...|[38.0712919910898...|           [1.0,0.0]|       0.0|\n",
            "|  1.0|(692,[97,98,99,12...|[-19.830803265627...|[2.44113371545821...|       1.0|\n",
            "|  1.0|(692,[124,125,126...|[-21.016054806035...|[7.46179590485056...|       1.0|\n",
            "+-----+--------------------+--------------------+--------------------+----------+\n",
            "only showing top 20 rows\n",
            "\n"
          ]
        }
      ]
    },
    {
      "cell_type": "markdown",
      "source": [
        "## Recreate the model this time with train and test data"
      ],
      "metadata": {
        "id": "PSCwzmWpvobk"
      }
    },
    {
      "cell_type": "code",
      "source": [
        "# Let's split data into train and test\n",
        "lr_train, lr_test = my_data.randomSplit([0.7, 0.3])"
      ],
      "metadata": {
        "id": "DUNMMjvou81Z"
      },
      "execution_count": 18,
      "outputs": []
    },
    {
      "cell_type": "code",
      "source": [
        "# Create the final model\n",
        "final_model = LogisticRegression()"
      ],
      "metadata": {
        "id": "x9iDBpFHvmuq"
      },
      "execution_count": 19,
      "outputs": []
    },
    {
      "cell_type": "code",
      "source": [
        "# Fit\n",
        "fit_final = final_model.fit(lr_train)"
      ],
      "metadata": {
        "id": "qk-NyUuMvwA3"
      },
      "execution_count": 20,
      "outputs": []
    },
    {
      "cell_type": "code",
      "source": [
        "# Predict on test_labels\n",
        "prediction_and_labels = fit_final.evaluate(lr_test)"
      ],
      "metadata": {
        "id": "fX44EyJ-v07t"
      },
      "execution_count": 35,
      "outputs": []
    },
    {
      "cell_type": "code",
      "source": [
        "# Show the predicted values from the test_data\n",
        "prediction_and_labels.predictions.show()"
      ],
      "metadata": {
        "colab": {
          "base_uri": "https://localhost:8080/"
        },
        "id": "RYbPsu34v7Is",
        "outputId": "51592424-7225-403d-c770-6f3ac9c1d319"
      },
      "execution_count": 26,
      "outputs": [
        {
          "output_type": "stream",
          "name": "stdout",
          "text": [
            "+-----+--------------------+--------------------+--------------------+----------+\n",
            "|label|            features|       rawPrediction|         probability|prediction|\n",
            "+-----+--------------------+--------------------+--------------------+----------+\n",
            "|  0.0|(692,[98,99,100,1...|[29.6833079991584...|[0.99999999999987...|       0.0|\n",
            "|  0.0|(692,[122,123,124...|[17.7154635373606...|[0.99999997975713...|       0.0|\n",
            "|  0.0|(692,[123,124,125...|[32.1792903550335...|[0.99999999999998...|       0.0|\n",
            "|  0.0|(692,[124,125,126...|[21.2478159674730...|[0.99999999940817...|       0.0|\n",
            "|  0.0|(692,[125,126,127...|[25.6108362437688...|[0.99999999999246...|       0.0|\n",
            "|  0.0|(692,[126,127,128...|[26.8158102281239...|[0.99999999999774...|       0.0|\n",
            "|  0.0|(692,[127,128,129...|[18.1487106634118...|[0.99999998687452...|       0.0|\n",
            "|  0.0|(692,[128,129,130...|[18.2615423856376...|[0.99999998827499...|       0.0|\n",
            "|  0.0|(692,[152,153,154...|[15.1233939839040...|[0.99999972960831...|       0.0|\n",
            "|  0.0|(692,[152,153,154...|[36.9469547207746...|           [1.0,0.0]|       0.0|\n",
            "|  0.0|(692,[153,154,155...|[9.90049540099364...|[0.99994985268325...|       0.0|\n",
            "|  0.0|(692,[154,155,156...|[17.5769351511400...|[0.99999997674940...|       0.0|\n",
            "|  0.0|(692,[181,182,183...|[14.7427733544719...|[0.99999960436499...|       0.0|\n",
            "|  1.0|(692,[100,101,102...|[30.5458103264262...|[0.99999999999994...|       0.0|\n",
            "|  1.0|(692,[123,124,125...|[-22.688107268233...|[1.40178112696867...|       1.0|\n",
            "|  1.0|(692,[123,124,125...|[-20.299285821236...|[1.52803105452880...|       1.0|\n",
            "|  1.0|(692,[124,125,126...|[-25.402563174418...|[9.28553619355841...|       1.0|\n",
            "|  1.0|(692,[126,127,128...|[-22.897964437058...|[1.13642400303318...|       1.0|\n",
            "|  1.0|(692,[126,127,128...|[-20.842798112413...|[8.87335367406071...|       1.0|\n",
            "|  1.0|(692,[127,128,129...|[-24.113717162906...|[3.36934667301018...|       1.0|\n",
            "+-----+--------------------+--------------------+--------------------+----------+\n",
            "only showing top 20 rows\n",
            "\n"
          ]
        }
      ]
    },
    {
      "cell_type": "code",
      "source": [
        "## Evaluate the model"
      ],
      "metadata": {
        "id": "-9qhZvxjw3bP"
      },
      "execution_count": 27,
      "outputs": []
    },
    {
      "cell_type": "code",
      "source": [
        "# Import necessary functions\n",
        "from pyspark.ml.evaluation import BinaryClassificationEvaluator, MulticlassClassificationEvaluator"
      ],
      "metadata": {
        "id": "azGjL5ErwBXd"
      },
      "execution_count": 29,
      "outputs": []
    },
    {
      "cell_type": "code",
      "source": [
        "# Create an evaluator object\n",
        "my_eval = BinaryClassificationEvaluator()"
      ],
      "metadata": {
        "id": "iu8zWg3ww6dS"
      },
      "execution_count": 30,
      "outputs": []
    },
    {
      "cell_type": "code",
      "source": [
        "# Evaluate predictions\n",
        "my_final_roc = my_eval.evaluate(prediction_and_labels.predictions)\n",
        "my_final_roc"
      ],
      "metadata": {
        "colab": {
          "base_uri": "https://localhost:8080/"
        },
        "id": "LNq_Tan3xKbS",
        "outputId": "dde94e02-f9d5-4943-d8b5-e8dd1d9d4d59"
      },
      "execution_count": 36,
      "outputs": [
        {
          "output_type": "execute_result",
          "data": {
            "text/plain": [
              "0.9554655870445342"
            ]
          },
          "metadata": {},
          "execution_count": 36
        }
      ]
    },
    {
      "cell_type": "code",
      "source": [],
      "metadata": {
        "id": "3HMmGrD-xRXn"
      },
      "execution_count": null,
      "outputs": []
    }
  ]
}