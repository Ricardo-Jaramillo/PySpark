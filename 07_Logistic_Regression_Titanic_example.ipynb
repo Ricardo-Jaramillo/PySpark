{
  "nbformat": 4,
  "nbformat_minor": 0,
  "metadata": {
    "colab": {
      "provenance": [],
      "authorship_tag": "ABX9TyMxW2dK1ri+gVfgbLxK37KY",
      "include_colab_link": true
    },
    "kernelspec": {
      "name": "python3",
      "display_name": "Python 3"
    },
    "language_info": {
      "name": "python"
    }
  },
  "cells": [
    {
      "cell_type": "markdown",
      "metadata": {
        "id": "view-in-github",
        "colab_type": "text"
      },
      "source": [
        "<a href=\"https://colab.research.google.com/github/Ricardo-Jaramillo/PySpark/blob/main/07_Logistic_Regression_Titanic_example.ipynb\" target=\"_parent\"><img src=\"https://colab.research.google.com/assets/colab-badge.svg\" alt=\"Open In Colab\"/></a>"
      ]
    },
    {
      "cell_type": "markdown",
      "source": [
        "# Logistic Regression example\n",
        "\n",
        "Now let's code a simple exercise with the Titanic csv. We're trying to predict whether a passenger would survived or not depending on the variables we have."
      ],
      "metadata": {
        "id": "9tdghwhsx_qq"
      }
    },
    {
      "cell_type": "code",
      "source": [
        "# Intall pyspark\n",
        "!pip install pyspark"
      ],
      "metadata": {
        "colab": {
          "base_uri": "https://localhost:8080/"
        },
        "id": "uRL1hC-Uyf-O",
        "outputId": "43364f80-db7b-40de-a16e-f81b181539d3"
      },
      "execution_count": 1,
      "outputs": [
        {
          "output_type": "stream",
          "name": "stdout",
          "text": [
            "Collecting pyspark\n",
            "  Downloading pyspark-3.5.0.tar.gz (316.9 MB)\n",
            "\u001b[2K     \u001b[90m━━━━━━━━━━━━━━━━━━━━━━━━━━━━━━━━━━━━━━━\u001b[0m \u001b[32m316.9/316.9 MB\u001b[0m \u001b[31m3.4 MB/s\u001b[0m eta \u001b[36m0:00:00\u001b[0m\n",
            "\u001b[?25h  Preparing metadata (setup.py) ... \u001b[?25l\u001b[?25hdone\n",
            "Requirement already satisfied: py4j==0.10.9.7 in /usr/local/lib/python3.10/dist-packages (from pyspark) (0.10.9.7)\n",
            "Building wheels for collected packages: pyspark\n",
            "  Building wheel for pyspark (setup.py) ... \u001b[?25l\u001b[?25hdone\n",
            "  Created wheel for pyspark: filename=pyspark-3.5.0-py2.py3-none-any.whl size=317425344 sha256=0edca87616d224ffaed46a33c74638ed2c1815217cc54907c1cd7a06ba244da0\n",
            "  Stored in directory: /root/.cache/pip/wheels/41/4e/10/c2cf2467f71c678cfc8a6b9ac9241e5e44a01940da8fbb17fc\n",
            "Successfully built pyspark\n",
            "Installing collected packages: pyspark\n",
            "Successfully installed pyspark-3.5.0\n"
          ]
        }
      ]
    },
    {
      "cell_type": "code",
      "source": [
        "# Download the file\n",
        "!wget https://raw.githubusercontent.com/Ricardo-Jaramillo/PySpark/main/datasets/titanic.csv"
      ],
      "metadata": {
        "colab": {
          "base_uri": "https://localhost:8080/"
        },
        "id": "-ge__a3CyifD",
        "outputId": "49a33eb5-171d-4302-f6b9-bd446613680b"
      },
      "execution_count": 2,
      "outputs": [
        {
          "output_type": "stream",
          "name": "stdout",
          "text": [
            "--2023-10-03 18:26:37--  https://raw.githubusercontent.com/Ricardo-Jaramillo/PySpark/main/datasets/titanic.csv\n",
            "Resolving raw.githubusercontent.com (raw.githubusercontent.com)... 185.199.108.133, 185.199.109.133, 185.199.110.133, ...\n",
            "Connecting to raw.githubusercontent.com (raw.githubusercontent.com)|185.199.108.133|:443... connected.\n",
            "HTTP request sent, awaiting response... 200 OK\n",
            "Length: 60302 (59K) [text/plain]\n",
            "Saving to: ‘titanic.csv’\n",
            "\n",
            "\rtitanic.csv           0%[                    ]       0  --.-KB/s               \rtitanic.csv         100%[===================>]  58.89K  --.-KB/s    in 0.002s  \n",
            "\n",
            "2023-10-03 18:26:37 (28.1 MB/s) - ‘titanic.csv’ saved [60302/60302]\n",
            "\n"
          ]
        }
      ]
    },
    {
      "cell_type": "code",
      "source": [
        "# Import the necessary libraries\n",
        "from pyspark.sql import SparkSession\n",
        "from pyspark.ml.classification import LogisticRegression"
      ],
      "metadata": {
        "id": "WZOCnXpcynyk"
      },
      "execution_count": 3,
      "outputs": []
    },
    {
      "cell_type": "code",
      "source": [
        "# Create a session\n",
        "spark = SparkSession.builder.appName('log_reg_titanic').getOrCreate()"
      ],
      "metadata": {
        "id": "_X8fVUhSy1it"
      },
      "execution_count": 4,
      "outputs": []
    },
    {
      "cell_type": "code",
      "source": [
        "# Read in the file\n",
        "df = spark.read.csv('titanic.csv', header=True, inferSchema=True)"
      ],
      "metadata": {
        "id": "YHtDrFLszJJg"
      },
      "execution_count": 6,
      "outputs": []
    },
    {
      "cell_type": "code",
      "source": [
        "# Print the schema\n",
        "df.printSchema()"
      ],
      "metadata": {
        "colab": {
          "base_uri": "https://localhost:8080/"
        },
        "id": "pw8TNLOmzSoz",
        "outputId": "ab3d0d28-ac57-45b0-bf68-a71ae5daddbc"
      },
      "execution_count": 8,
      "outputs": [
        {
          "output_type": "stream",
          "name": "stdout",
          "text": [
            "root\n",
            " |-- PassengerId: integer (nullable = true)\n",
            " |-- Survived: integer (nullable = true)\n",
            " |-- Pclass: integer (nullable = true)\n",
            " |-- Name: string (nullable = true)\n",
            " |-- Sex: string (nullable = true)\n",
            " |-- Age: double (nullable = true)\n",
            " |-- SibSp: integer (nullable = true)\n",
            " |-- Parch: integer (nullable = true)\n",
            " |-- Ticket: string (nullable = true)\n",
            " |-- Fare: double (nullable = true)\n",
            " |-- Cabin: string (nullable = true)\n",
            " |-- Embarked: string (nullable = true)\n",
            "\n"
          ]
        }
      ]
    },
    {
      "cell_type": "code",
      "source": [
        "# Show the data\n",
        "df.show()"
      ],
      "metadata": {
        "colab": {
          "base_uri": "https://localhost:8080/"
        },
        "id": "3v1zg61FzWNr",
        "outputId": "e3b9254c-0e36-44f8-b4cf-0808a1def5cd"
      },
      "execution_count": 9,
      "outputs": [
        {
          "output_type": "stream",
          "name": "stdout",
          "text": [
            "+-----------+--------+------+--------------------+------+----+-----+-----+----------------+-------+-----+--------+\n",
            "|PassengerId|Survived|Pclass|                Name|   Sex| Age|SibSp|Parch|          Ticket|   Fare|Cabin|Embarked|\n",
            "+-----------+--------+------+--------------------+------+----+-----+-----+----------------+-------+-----+--------+\n",
            "|          1|       0|     3|Braund, Mr. Owen ...|  male|22.0|    1|    0|       A/5 21171|   7.25| NULL|       S|\n",
            "|          2|       1|     1|Cumings, Mrs. Joh...|female|38.0|    1|    0|        PC 17599|71.2833|  C85|       C|\n",
            "|          3|       1|     3|Heikkinen, Miss. ...|female|26.0|    0|    0|STON/O2. 3101282|  7.925| NULL|       S|\n",
            "|          4|       1|     1|Futrelle, Mrs. Ja...|female|35.0|    1|    0|          113803|   53.1| C123|       S|\n",
            "|          5|       0|     3|Allen, Mr. Willia...|  male|35.0|    0|    0|          373450|   8.05| NULL|       S|\n",
            "|          6|       0|     3|    Moran, Mr. James|  male|NULL|    0|    0|          330877| 8.4583| NULL|       Q|\n",
            "|          7|       0|     1|McCarthy, Mr. Tim...|  male|54.0|    0|    0|           17463|51.8625|  E46|       S|\n",
            "|          8|       0|     3|Palsson, Master. ...|  male| 2.0|    3|    1|          349909| 21.075| NULL|       S|\n",
            "|          9|       1|     3|Johnson, Mrs. Osc...|female|27.0|    0|    2|          347742|11.1333| NULL|       S|\n",
            "|         10|       1|     2|Nasser, Mrs. Nich...|female|14.0|    1|    0|          237736|30.0708| NULL|       C|\n",
            "|         11|       1|     3|Sandstrom, Miss. ...|female| 4.0|    1|    1|         PP 9549|   16.7|   G6|       S|\n",
            "|         12|       1|     1|Bonnell, Miss. El...|female|58.0|    0|    0|          113783|  26.55| C103|       S|\n",
            "|         13|       0|     3|Saundercock, Mr. ...|  male|20.0|    0|    0|       A/5. 2151|   8.05| NULL|       S|\n",
            "|         14|       0|     3|Andersson, Mr. An...|  male|39.0|    1|    5|          347082| 31.275| NULL|       S|\n",
            "|         15|       0|     3|Vestrom, Miss. Hu...|female|14.0|    0|    0|          350406| 7.8542| NULL|       S|\n",
            "|         16|       1|     2|Hewlett, Mrs. (Ma...|female|55.0|    0|    0|          248706|   16.0| NULL|       S|\n",
            "|         17|       0|     3|Rice, Master. Eugene|  male| 2.0|    4|    1|          382652| 29.125| NULL|       Q|\n",
            "|         18|       1|     2|Williams, Mr. Cha...|  male|NULL|    0|    0|          244373|   13.0| NULL|       S|\n",
            "|         19|       0|     3|Vander Planke, Mr...|female|31.0|    1|    0|          345763|   18.0| NULL|       S|\n",
            "|         20|       1|     3|Masselmani, Mrs. ...|female|NULL|    0|    0|            2649|  7.225| NULL|       C|\n",
            "+-----------+--------+------+--------------------+------+----+-----+-----+----------------+-------+-----+--------+\n",
            "only showing top 20 rows\n",
            "\n"
          ]
        }
      ]
    },
    {
      "cell_type": "code",
      "source": [
        "# Print out the column names\n",
        "df.columns"
      ],
      "metadata": {
        "colab": {
          "base_uri": "https://localhost:8080/"
        },
        "id": "7JEQz5s-zq53",
        "outputId": "93e36b39-31c0-436e-e27c-0488582813f7"
      },
      "execution_count": 11,
      "outputs": [
        {
          "output_type": "execute_result",
          "data": {
            "text/plain": [
              "['PassengerId',\n",
              " 'Survived',\n",
              " 'Pclass',\n",
              " 'Name',\n",
              " 'Sex',\n",
              " 'Age',\n",
              " 'SibSp',\n",
              " 'Parch',\n",
              " 'Ticket',\n",
              " 'Fare',\n",
              " 'Cabin',\n",
              " 'Embarked']"
            ]
          },
          "metadata": {},
          "execution_count": 11
        }
      ]
    },
    {
      "cell_type": "code",
      "source": [
        "# Select usefull columns\n",
        "my_cols = df.select(['Survived', 'Pclass', 'Sex', 'Age', 'SibSp', 'Parch', 'Fare', 'Cabin', 'Embarked'])"
      ],
      "metadata": {
        "id": "v_1hFNKjzbv0"
      },
      "execution_count": 14,
      "outputs": []
    },
    {
      "cell_type": "code",
      "source": [
        "# Drop null values\n",
        "my_final_data = my_cols.na.drop()\n",
        "my_final_data.show()"
      ],
      "metadata": {
        "colab": {
          "base_uri": "https://localhost:8080/"
        },
        "id": "moKSbJ1pzk0J",
        "outputId": "2001110d-6104-4f26-d79c-a574a031af09"
      },
      "execution_count": 16,
      "outputs": [
        {
          "output_type": "stream",
          "name": "stdout",
          "text": [
            "+--------+------+------+----+-----+-----+--------+-----------+--------+\n",
            "|Survived|Pclass|   Sex| Age|SibSp|Parch|    Fare|      Cabin|Embarked|\n",
            "+--------+------+------+----+-----+-----+--------+-----------+--------+\n",
            "|       1|     1|female|38.0|    1|    0| 71.2833|        C85|       C|\n",
            "|       1|     1|female|35.0|    1|    0|    53.1|       C123|       S|\n",
            "|       0|     1|  male|54.0|    0|    0| 51.8625|        E46|       S|\n",
            "|       1|     3|female| 4.0|    1|    1|    16.7|         G6|       S|\n",
            "|       1|     1|female|58.0|    0|    0|   26.55|       C103|       S|\n",
            "|       1|     2|  male|34.0|    0|    0|    13.0|        D56|       S|\n",
            "|       1|     1|  male|28.0|    0|    0|    35.5|         A6|       S|\n",
            "|       0|     1|  male|19.0|    3|    2|   263.0|C23 C25 C27|       S|\n",
            "|       1|     1|female|49.0|    1|    0| 76.7292|        D33|       C|\n",
            "|       0|     1|  male|65.0|    0|    1| 61.9792|        B30|       C|\n",
            "|       0|     1|  male|45.0|    1|    0|  83.475|        C83|       S|\n",
            "|       1|     2|female|29.0|    0|    0|    10.5|        F33|       S|\n",
            "|       0|     3|  male|25.0|    0|    0|    7.65|      F G73|       S|\n",
            "|       1|     1|female|23.0|    3|    2|   263.0|C23 C25 C27|       S|\n",
            "|       0|     1|  male|46.0|    1|    0|  61.175|        E31|       S|\n",
            "|       0|     1|  male|71.0|    0|    0| 34.6542|         A5|       C|\n",
            "|       1|     1|  male|23.0|    0|    1| 63.3583|    D10 D12|       C|\n",
            "|       0|     1|  male|21.0|    0|    1| 77.2875|        D26|       S|\n",
            "|       0|     1|  male|47.0|    0|    0|    52.0|       C110|       S|\n",
            "|       0|     1|  male|24.0|    0|    1|247.5208|    B58 B60|       C|\n",
            "+--------+------+------+----+-----+-----+--------+-----------+--------+\n",
            "only showing top 20 rows\n",
            "\n"
          ]
        }
      ]
    },
    {
      "cell_type": "markdown",
      "source": [
        "## Encode the lables"
      ],
      "metadata": {
        "id": "wJH-Mic10h60"
      }
    },
    {
      "cell_type": "code",
      "source": [
        "# Import functions\n",
        "from pyspark.ml.feature import VectorAssembler, VectorIndexer, OneHotEncoder, StringIndexer"
      ],
      "metadata": {
        "id": "OkfGdOlV0OQ_"
      },
      "execution_count": 17,
      "outputs": []
    },
    {
      "cell_type": "markdown",
      "source": [
        "### Create indexed data (convert strings into numbers)\n",
        "\n",
        "Let's do it for the Sex and Embark columns"
      ],
      "metadata": {
        "id": "PjAvoyVB0oYB"
      }
    },
    {
      "cell_type": "code",
      "source": [
        "# Create a SEX string indexer\n",
        "gender_indexer = StringIndexer(inputCol='Sex', outputCol='SexIndex')\n",
        "\n",
        "# Create a SEX oneHotEncoder\n",
        "gender_encoder = OneHotEncoder(inputCol='SexIndex', outputCol='SexVec')"
      ],
      "metadata": {
        "id": "EyPEWfiX0lSW"
      },
      "execution_count": 22,
      "outputs": []
    },
    {
      "cell_type": "code",
      "source": [
        "# Create an Embark string indexer\n",
        "embark_indexer = StringIndexer(inputCol='Embarked', outputCol='EmbarkedIndex')\n",
        "\n",
        "# Create a Embark oneHotEncoder\n",
        "embark_encoder = OneHotEncoder(inputCol='EmbarkedIndex', outputCol='EmbarkedVec')"
      ],
      "metadata": {
        "id": "kzR2xLbe1VGY"
      },
      "execution_count": 42,
      "outputs": []
    },
    {
      "cell_type": "markdown",
      "source": [
        "### Create an assembler\n",
        "Save all variables in a single column 'features' with its own label"
      ],
      "metadata": {
        "id": "Cf8SG1Nn12_U"
      }
    },
    {
      "cell_type": "code",
      "source": [
        "# Create the object assembler\n",
        "assembler = VectorAssembler(inputCols=['Pclass', 'SexVec', 'EmbarkedVec', 'Age', 'SibSp', 'Parch', 'Fare'],\n",
        "                            outputCol='features')"
      ],
      "metadata": {
        "id": "7WcbrC6y11yK"
      },
      "execution_count": 43,
      "outputs": []
    },
    {
      "cell_type": "code",
      "source": [
        "# Import the functions\n",
        "from pyspark.ml.classification import LogisticRegression\n",
        "from pyspark.ml import Pipeline"
      ],
      "metadata": {
        "id": "smn2CRPe2VJ6"
      },
      "execution_count": 44,
      "outputs": []
    },
    {
      "cell_type": "code",
      "source": [
        "# Create the model\n",
        "log_reg_titanic = LogisticRegression(featuresCol='features', labelCol='Survived')"
      ],
      "metadata": {
        "id": "XGkaPpCm2qzR"
      },
      "execution_count": 45,
      "outputs": []
    },
    {
      "cell_type": "markdown",
      "source": [
        "### Pipeline"
      ],
      "metadata": {
        "id": "35-Jgmnl2_zg"
      }
    },
    {
      "cell_type": "code",
      "source": [
        "# Create the pipeline that contains all stages our data will go through until reach the logistic regression\n",
        "pipeline = Pipeline(stages=[gender_indexer, embark_indexer, gender_encoder, embark_encoder, assembler, log_reg_titanic])"
      ],
      "metadata": {
        "id": "kwPibpk128uo"
      },
      "execution_count": 46,
      "outputs": []
    },
    {
      "cell_type": "markdown",
      "source": [
        "### Split into train and test data"
      ],
      "metadata": {
        "id": "aMz9GzIR3XeI"
      }
    },
    {
      "cell_type": "code",
      "source": [
        "# Split into train and test data\n",
        "train_data, test_data = my_final_data.randomSplit([0.7, 0.3])\n",
        "train_data.show()"
      ],
      "metadata": {
        "colab": {
          "base_uri": "https://localhost:8080/"
        },
        "id": "eNnxbJWp3T5K",
        "outputId": "44492960-8594-4bcc-d553-397cabc634bd"
      },
      "execution_count": 47,
      "outputs": [
        {
          "output_type": "stream",
          "name": "stdout",
          "text": [
            "+--------+------+------+----+-----+-----+--------+-----------+--------+\n",
            "|Survived|Pclass|   Sex| Age|SibSp|Parch|    Fare|      Cabin|Embarked|\n",
            "+--------+------+------+----+-----+-----+--------+-----------+--------+\n",
            "|       0|     1|female| 2.0|    1|    2|  151.55|    C22 C26|       S|\n",
            "|       0|     1|female|25.0|    1|    2|  151.55|    C22 C26|       S|\n",
            "|       0|     1|female|50.0|    0|    0| 28.7125|        C49|       C|\n",
            "|       0|     1|  male|19.0|    1|    0|    53.1|        D30|       S|\n",
            "|       0|     1|  male|19.0|    3|    2|   263.0|C23 C25 C27|       S|\n",
            "|       0|     1|  male|21.0|    0|    1| 77.2875|        D26|       S|\n",
            "|       0|     1|  male|24.0|    0|    0|    79.2|        B86|       C|\n",
            "|       0|     1|  male|24.0|    0|    1|247.5208|    B58 B60|       C|\n",
            "|       0|     1|  male|27.0|    0|    2|   211.5|        C82|       C|\n",
            "|       0|     1|  male|29.0|    0|    0|    30.0|         D6|       S|\n",
            "|       0|     1|  male|29.0|    1|    0|    66.6|         C2|       S|\n",
            "|       0|     1|  male|30.0|    0|    0|   27.75|       C111|       C|\n",
            "|       0|     1|  male|31.0|    1|    0|    52.0|        B71|       S|\n",
            "|       0|     1|  male|36.0|    1|    0|   78.85|        C46|       S|\n",
            "|       0|     1|  male|37.0|    0|    1|    29.7|       C118|       C|\n",
            "|       0|     1|  male|37.0|    1|    0|    53.1|       C123|       S|\n",
            "|       0|     1|  male|38.0|    0|    1|153.4625|        C91|       S|\n",
            "|       0|     1|  male|39.0|    0|    0|     0.0|        A36|       S|\n",
            "|       0|     1|  male|44.0|    2|    0|    90.0|        C78|       Q|\n",
            "|       0|     1|  male|45.0|    0|    0|   26.55|        B38|       S|\n",
            "+--------+------+------+----+-----+-----+--------+-----------+--------+\n",
            "only showing top 20 rows\n",
            "\n"
          ]
        }
      ]
    },
    {
      "cell_type": "code",
      "source": [
        "# Fit the model with our predefined Pipeline\n",
        "fit_model = pipeline.fit(train_data)"
      ],
      "metadata": {
        "id": "jfw3WRfy3hwa"
      },
      "execution_count": 48,
      "outputs": []
    },
    {
      "cell_type": "markdown",
      "source": [
        "## Predict and Evaluate"
      ],
      "metadata": {
        "id": "b76EhafQ44jd"
      }
    },
    {
      "cell_type": "code",
      "source": [
        "# Test our results\n",
        "results = fit_model.transform(test_data)"
      ],
      "metadata": {
        "id": "QlxSGhhV3qZH"
      },
      "execution_count": 49,
      "outputs": []
    },
    {
      "cell_type": "code",
      "source": [
        "# Import our function to evaluate the model\n",
        "from pyspark.ml.evaluation import BinaryClassificationEvaluator"
      ],
      "metadata": {
        "id": "7nicbT1-4_Oo"
      },
      "execution_count": 50,
      "outputs": []
    },
    {
      "cell_type": "code",
      "source": [
        "# Create our evaluatior object\n",
        "my_eval = BinaryClassificationEvaluator(rawPredictionCol='prediction', labelCol='Survived')"
      ],
      "metadata": {
        "id": "ClXglr9L5GwR"
      },
      "execution_count": 51,
      "outputs": []
    },
    {
      "cell_type": "code",
      "source": [
        "# Print out the whole results\n",
        "results.show()"
      ],
      "metadata": {
        "colab": {
          "base_uri": "https://localhost:8080/"
        },
        "id": "jfIQJG4V5Uj9",
        "outputId": "50398066-2174-4ebf-af5d-686f82ac85a9"
      },
      "execution_count": 53,
      "outputs": [
        {
          "output_type": "stream",
          "name": "stdout",
          "text": [
            "+--------+------+------+----+-----+-----+--------+-----------+--------+--------+-------------+-------------+-------------+--------------------+--------------------+--------------------+----------+\n",
            "|Survived|Pclass|   Sex| Age|SibSp|Parch|    Fare|      Cabin|Embarked|SexIndex|EmbarkedIndex|       SexVec|  EmbarkedVec|            features|       rawPrediction|         probability|prediction|\n",
            "+--------+------+------+----+-----+-----+--------+-----------+--------+--------+-------------+-------------+-------------+--------------------+--------------------+--------------------+----------+\n",
            "|       0|     1|  male|18.0|    1|    0|   108.9|        C65|       C|     0.0|          1.0|(1,[0],[1.0])|(2,[1],[1.0])|[1.0,1.0,0.0,1.0,...|[-1.2570932630573...|[0.22147467660908...|       1.0|\n",
            "|       0|     1|  male|31.0|    0|    0| 50.4958|        A24|       S|     0.0|          0.0|(1,[0],[1.0])|(2,[0],[1.0])|[1.0,1.0,1.0,0.0,...|[-0.1689484726968...|[0.45786306245347...|       1.0|\n",
            "|       0|     1|  male|33.0|    0|    0|     5.0|B51 B53 B55|       S|     0.0|          0.0|(1,[0],[1.0])|(2,[0],[1.0])|[1.0,1.0,1.0,0.0,...|[-0.0335805624284...|[0.49160564820522...|       1.0|\n",
            "|       0|     1|  male|36.0|    0|    0|  40.125|        A10|       C|     0.0|          1.0|(1,[0],[1.0])|(2,[1],[1.0])|[1.0,1.0,0.0,1.0,...|[-0.3953893926166...|[0.40242059015756...|       1.0|\n",
            "|       0|     1|  male|40.0|    0|    0|     0.0|        B94|       S|     0.0|          0.0|(1,[0],[1.0])|(2,[0],[1.0])|(8,[0,1,2,4],[1.0...|[0.18657843285957...|[0.54650976350025...|       0.0|\n",
            "|       0|     1|  male|45.0|    1|    0|  83.475|        C83|       S|     0.0|          0.0|(1,[0],[1.0])|(2,[0],[1.0])|[1.0,1.0,1.0,0.0,...|[-0.0029345447572...|[0.49926636433715...|       1.0|\n",
            "|       0|     1|  male|46.0|    1|    0|  61.175|        E31|       S|     0.0|          0.0|(1,[0],[1.0])|(2,[0],[1.0])|[1.0,1.0,1.0,0.0,...|[0.06401287152661...|[0.51599775549083...|       0.0|\n",
            "|       0|     1|  male|47.0|    0|    0|    38.5|        E63|       S|     0.0|          0.0|(1,[0],[1.0])|(2,[0],[1.0])|[1.0,1.0,1.0,0.0,...|[0.33520485393566...|[0.58302525643422...|       0.0|\n",
            "|       0|     1|  male|47.0|    0|    0|    52.0|       C110|       S|     0.0|          0.0|(1,[0],[1.0])|(2,[0],[1.0])|[1.0,1.0,1.0,0.0,...|[0.31300508952508...|[0.57761859940969...|       0.0|\n",
            "|       0|     1|  male|50.0|    1|    0|    55.9|        E44|       S|     0.0|          0.0|(1,[0],[1.0])|(2,[0],[1.0])|[1.0,1.0,1.0,0.0,...|[0.19379400124302...|[0.54829743949071...|       0.0|\n",
            "|       0|     1|  male|50.0|    1|    0| 106.425|        C86|       C|     0.0|          1.0|(1,[0],[1.0])|(2,[1],[1.0])|[1.0,1.0,0.0,1.0,...|[-0.2841690876380...|[0.42943196643056...|       1.0|\n",
            "|       0|     1|  male|54.0|    0|    0| 51.8625|        E46|       S|     0.0|          0.0|(1,[0],[1.0])|(2,[0],[1.0])|[1.0,1.0,1.0,0.0,...|[0.52516805855776...|[0.62835543499679...|       0.0|\n",
            "|       0|     1|  male|55.0|    0|    0|    30.5|        C30|       S|     0.0|          0.0|(1,[0],[1.0])|(2,[0],[1.0])|[1.0,1.0,1.0,0.0,...|[0.59057382453536...|[0.64349679685427...|       0.0|\n",
            "|       0|     1|  male|58.0|    0|    0|    29.7|        B37|       C|     0.0|          1.0|(1,[0],[1.0])|(2,[1],[1.0])|[1.0,1.0,0.0,1.0,...|[0.28784103408413...|[0.57146750036582...|       0.0|\n",
            "|       0|     1|  male|62.0|    0|    0|   26.55|        C87|       S|     0.0|          0.0|(1,[0],[1.0])|(2,[0],[1.0])|[1.0,1.0,1.0,0.0,...|[0.80900617148030...|[0.69189768504454...|       0.0|\n",
            "|       0|     2|  male|36.5|    0|    2|    26.0|         F2|       S|     0.0|          0.0|(1,[0],[1.0])|(2,[0],[1.0])|[2.0,1.0,1.0,0.0,...|[1.64899323916417...|[0.83875493739335...|       0.0|\n",
            "|       0|     3|female| 2.0|    0|    1| 10.4625|         G6|       S|     1.0|          0.0|    (1,[],[])|(2,[0],[1.0])|[3.0,0.0,1.0,0.0,...|[-2.2209867082966...|[0.09788164256293...|       1.0|\n",
            "|       0|     3|  male|25.0|    0|    0|    7.65|      F G73|       S|     0.0|          0.0|(1,[0],[1.0])|(2,[0],[1.0])|[3.0,1.0,1.0,0.0,...|[0.43482826964782...|[0.60702602333395...|       0.0|\n",
            "|       1|     1|female|14.0|    1|    2|   120.0|    B96 B98|       S|     1.0|          0.0|    (1,[],[])|(2,[0],[1.0])|[1.0,0.0,1.0,0.0,...|[-2.3295766827875...|[0.08870287600709...|       1.0|\n",
            "|       1|     1|female|15.0|    0|    1|211.3375|         B5|       S|     1.0|          0.0|    (1,[],[])|(2,[0],[1.0])|[1.0,0.0,1.0,0.0,...|[-2.8726940725420...|[0.05352001780967...|       1.0|\n",
            "+--------+------+------+----+-----+-----+--------+-----------+--------+--------+-------------+-------------+-------------+--------------------+--------------------+--------------------+----------+\n",
            "only showing top 20 rows\n",
            "\n"
          ]
        }
      ]
    },
    {
      "cell_type": "code",
      "source": [
        "# Show only the label and prediction\n",
        "results.select('Survived', 'Prediction').show()"
      ],
      "metadata": {
        "colab": {
          "base_uri": "https://localhost:8080/"
        },
        "id": "B2Ss0gLS5aJ7",
        "outputId": "7b312954-0424-4394-b3f1-d527bffea8ec"
      },
      "execution_count": 54,
      "outputs": [
        {
          "output_type": "stream",
          "name": "stdout",
          "text": [
            "+--------+----------+\n",
            "|Survived|Prediction|\n",
            "+--------+----------+\n",
            "|       0|       1.0|\n",
            "|       0|       1.0|\n",
            "|       0|       1.0|\n",
            "|       0|       1.0|\n",
            "|       0|       0.0|\n",
            "|       0|       1.0|\n",
            "|       0|       0.0|\n",
            "|       0|       0.0|\n",
            "|       0|       0.0|\n",
            "|       0|       0.0|\n",
            "|       0|       1.0|\n",
            "|       0|       0.0|\n",
            "|       0|       0.0|\n",
            "|       0|       0.0|\n",
            "|       0|       0.0|\n",
            "|       0|       0.0|\n",
            "|       0|       1.0|\n",
            "|       0|       0.0|\n",
            "|       1|       1.0|\n",
            "|       1|       1.0|\n",
            "+--------+----------+\n",
            "only showing top 20 rows\n",
            "\n"
          ]
        }
      ]
    },
    {
      "cell_type": "code",
      "source": [
        "# Let's Evaluate the regression model results pm the ROC\n",
        "AUC = my_eval.evaluate(results) # AUC stands for Area Unter the Curve\n",
        "AUC"
      ],
      "metadata": {
        "colab": {
          "base_uri": "https://localhost:8080/"
        },
        "id": "MpDKEYW25rYb",
        "outputId": "c4b12c40-78fb-4861-d9d4-193c04c5b0fd"
      },
      "execution_count": 56,
      "outputs": [
        {
          "output_type": "execute_result",
          "data": {
            "text/plain": [
              "0.75"
            ]
          },
          "metadata": {},
          "execution_count": 56
        }
      ]
    },
    {
      "cell_type": "code",
      "source": [],
      "metadata": {
        "id": "PN-1X_H651dI"
      },
      "execution_count": null,
      "outputs": []
    }
  ]
}